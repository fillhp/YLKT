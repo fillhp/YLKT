{
 "cells": [
  {
   "cell_type": "code",
   "execution_count": 1,
   "metadata": {},
   "outputs": [],
   "source": [
    "import pandas as pd\n",
    "import SingleFlash_125_Features\n",
    "import time\n",
    "import numpy as np\n",
    "import math\n",
    "\n",
    "import datetime"
   ]
  },
  {
   "cell_type": "code",
   "execution_count": 2,
   "metadata": {},
   "outputs": [],
   "source": [
    "tit=\"N正常.csv\"\n",
    "tit=\"N异常.csv\"\n",
    "tit=\"P正常.csv\"\n",
    "tit=\"P异常.csv\"\n",
    "r=\"ALL正常.csv\"\n",
    "l=\"ALL异常.csv\""
   ]
  },
  {
   "cell_type": "code",
   "execution_count": 3,
   "metadata": {},
   "outputs": [],
   "source": [
    "path = 'E:\\\\desktop\\\\data\\\\'\n",
    "def soso(tit):\n",
    "    #读取数据\n",
    "    try:\n",
    "        data = pd.read_csv(path+tit,encoding='gbk')\n",
    "    except:\n",
    "        data = pd.read_csv(path+tit,encoding='utf-8')\n",
    "\n",
    "    # name=pd.DataFrame(list(data.iloc[:,0]),columns=[\"name\"])\n",
    "    name_list=list(data.iloc[:,0])\n",
    "    try:\n",
    "        # 对瞳孔半径列进行分割\n",
    "        df=data['瞳孔半径'].astype('str').str.split(',',expand=True)\n",
    "        # 修改分割后的字段名称\n",
    "        df.columns=[str(i) for i in df.columns]\n",
    "    except:\n",
    "        df=pd.DataFrame(data.iloc[:,1:126])\n",
    "\n",
    "    df=df.astype('float')\n",
    "    exception=0\n",
    "    fea_dict={}\n",
    "    for i in range(len(df)):#\n",
    "        row=list(df.iloc[i]) #每一行数据\n",
    "        fea=SingleFlash_125_Features.Features(row)\n",
    "\n",
    "        if fea.exception:\n",
    "            exception+=1\n",
    "        row_dict=fea.judge_exception()\n",
    "        for key in row_dict.keys():\n",
    "            if len(fea_dict)!=len(row_dict)+1:\n",
    "                fea_dict['name']=[]\n",
    "                fea_dict[key]=[]\n",
    "\n",
    "            fea_dict[key].append(row_dict.get(key))\n",
    "        fea_dict['name'].append(name_list[i])\n",
    "    fea_df=pd.DataFrame(fea_dict)\n",
    "    fea_df = fea_df.set_index('name')\n",
    "    print(exception/len(fea_df))\n",
    "    return fea_df"
   ]
  },
  {
   "cell_type": "code",
   "execution_count": 4,
   "metadata": {},
   "outputs": [],
   "source": [
    "def get_crit(n_fea, p_fea, fea_list):\n",
    "    crit = {}\n",
    "    for fea in fea_list:\n",
    "        n_col = list(n_fea[fea])\n",
    "        p_col = list(p_fea[fea])\n",
    "        np_col = n_col+p_col\n",
    "        s_dict = {'s': [], 'value': [], 'plou': []}\n",
    "        for i in range(len(np_col)):\n",
    "            s = np.sum(np.array(n_col) -\n",
    "                        np_col[i])+np.sum(np.array(p_col)-np_col[i])\n",
    "            s_dict['s'].append(abs(s))\n",
    "            s_dict['value'].append(np_col[i])\n",
    "            if np.sum(np.array(p_col)-np_col[i]) >= 0:\n",
    "                s_dict['plou'].append('up')\n",
    "            else:\n",
    "                s_dict['plou'].append('down')\n",
    "        minindex = s_dict['s'].index(min(s_dict['s']))\n",
    "        crit[fea] = [s_dict['value'][minindex], s_dict['plou'][minindex]]\n",
    "\n",
    "    # 寻找阴阳聚集点\n",
    "    fix_crit={}\n",
    "    for fea in fea_list:\n",
    "        n_col = list(n_fea[fea])\n",
    "        p_col = list(p_fea[fea])\n",
    "        if crit[fea][1] == \"up\":\n",
    "            n_col.sort(reverse=False)  # 正序\n",
    "            fix_crit[fea]=n_col[len(n_col)*97//100] # 阳性聚集点\n",
    "        else:\n",
    "            n_col.sort(reverse=True)  # 正序\n",
    "            fix_crit[fea]=n_col[len(n_col)*97//100]  # 阳性聚集点\n",
    "    return fix_crit"
   ]
  },
  {
   "cell_type": "code",
   "execution_count": 5,
   "metadata": {},
   "outputs": [
    {
     "name": "stderr",
     "output_type": "stream",
     "text": [
      "g:\\work\\特征算法12.2\\SingleFlash_125_Features.py:352: RuntimeWarning: invalid value encountered in double_scalars\n",
      "  f4 = 2 - (np.std(temp4) / np.mean(temp4)) * 10  # 根据变异系数判断异常值范围\n",
      "g:\\work\\特征算法12.2\\SingleFlash_125_Features.py:188: RuntimeWarning: invalid value encountered in true_divide\n",
      "  fixup = 1-(row/(np.abs(ini_row - row)+row))\n",
      "g:\\work\\特征算法12.2\\SingleFlash_125_Features.py:61: RuntimeWarning: divide by zero encountered in double_scalars\n",
      "  'B': (x1 - x2) / (y2 - y1),\n",
      "g:\\work\\特征算法12.2\\SingleFlash_125_Features.py:62: RuntimeWarning: invalid value encountered in double_scalars\n",
      "  'C': ((x1 - x2) * y1 / (y2 - y1)) - x1\n",
      "g:\\work\\特征算法12.2\\SingleFlash_125_Features.py:78: RuntimeWarning: invalid value encountered in double_scalars\n",
      "  dl = abs(A * x0 + B * y0 + C) / pow(pow(A, 2) + pow(B, 2), 0.5)\n",
      "g:\\work\\特征算法12.2\\SingleFlash_125_Features.py:151: RuntimeWarning: invalid value encountered in true_divide\n",
      "  return np.sum(abs(ini_row - row)/np.mean(ini_row))\n"
     ]
    },
    {
     "name": "stdout",
     "output_type": "stream",
     "text": [
      "0.06432038834951456\n"
     ]
    },
    {
     "name": "stderr",
     "output_type": "stream",
     "text": [
      "g:\\work\\特征算法12.2\\SingleFlash_125_Features.py:352: RuntimeWarning: invalid value encountered in double_scalars\n",
      "  f4 = 2 - (np.std(temp4) / np.mean(temp4)) * 10  # 根据变异系数判断异常值范围\n",
      "g:\\work\\特征算法12.2\\SingleFlash_125_Features.py:61: RuntimeWarning: divide by zero encountered in double_scalars\n",
      "  'B': (x1 - x2) / (y2 - y1),\n",
      "g:\\work\\特征算法12.2\\SingleFlash_125_Features.py:62: RuntimeWarning: invalid value encountered in double_scalars\n",
      "  'C': ((x1 - x2) * y1 / (y2 - y1)) - x1\n",
      "g:\\work\\特征算法12.2\\SingleFlash_125_Features.py:78: RuntimeWarning: invalid value encountered in double_scalars\n",
      "  dl = abs(A * x0 + B * y0 + C) / pow(pow(A, 2) + pow(B, 2), 0.5)\n",
      "g:\\work\\特征算法12.2\\SingleFlash_125_Features.py:188: RuntimeWarning: invalid value encountered in true_divide\n",
      "  fixup = 1-(row/(np.abs(ini_row - row)+row))\n",
      "g:\\work\\特征算法12.2\\SingleFlash_125_Features.py:328: RuntimeWarning: invalid value encountered in double_scalars\n",
      "  f1 = 2 - (np.std(temp1) / np.mean(temp1)) * 10  # 根据变异系数判断异常值范围\n",
      "g:\\work\\特征算法12.2\\SingleFlash_125_Features.py:151: RuntimeWarning: invalid value encountered in true_divide\n",
      "  return np.sum(abs(ini_row - row)/np.mean(ini_row))\n",
      "g:\\work\\特征算法12.2\\SingleFlash_125_Features.py:307: RuntimeWarning: invalid value encountered in double_scalars\n",
      "  self.cv=(round(np.std(row1)/np.mean(row1),2),round(np.std(row3)/np.mean(row3),2))\n",
      "g:\\work\\特征算法12.2\\SingleFlash_125_Features.py:309: RuntimeWarning: invalid value encountered in double_scalars\n",
      "  if np.std(row1)/np.mean(row1)< 0.05 and np.std(row3)/np.mean(row3)< 0.05:\n"
     ]
    },
    {
     "name": "stdout",
     "output_type": "stream",
     "text": [
      "0.5384615384615384\n"
     ]
    },
    {
     "data": {
      "text/plain": [
       "{'fix_s0': 0.41630177102217353,\n",
       " 'fix_s1': 0.04293427529626193,\n",
       " 'fix_s2': 0.17816964809384006,\n",
       " 'fix_s3': 0.1393172685489167,\n",
       " 'fix_num0': 31.399999999999938,\n",
       " 'fix_num1': 8.4,\n",
       " 'fix_num2': 11.399999999999997,\n",
       " 'fix_num3': 14.599999999999996,\n",
       " 'fix_extent_median0': 0.007629600452124463,\n",
       " 'fix_extent_median1': 0.015873015873015928,\n",
       " 'fix_extent_median2': 0.01005490196078429,\n",
       " 'fix_extent_median3': 0.008964346883298502,\n",
       " 'fix_extent_mean0': 0.02944961172140653,\n",
       " 'fix_extent_mean1': 0.04843168802260982,\n",
       " 'fix_extent_mean2': 0.02830448409587059,\n",
       " 'fix_extent_mean3': 0.037478812762854495,\n",
       " 'fix_var0': 25.278676731671112,\n",
       " 'fix_var1': 9.419213279600001,\n",
       " 'fix_var2': 5.451495381795556,\n",
       " 'fix_var3': 15.89516533392}"
      ]
     },
     "execution_count": 5,
     "metadata": {},
     "output_type": "execute_result"
    }
   ],
   "source": [
    "r_fea=soso(r)\n",
    "l_fea=soso(l)\n",
    "fea_list=list(r_fea.columns)\n",
    "\n",
    "get_crit(r_fea, l_fea, fea_list)"
   ]
  },
  {
   "cell_type": "code",
   "execution_count": 6,
   "metadata": {},
   "outputs": [
    {
     "name": "stdout",
     "output_type": "stream",
     "text": [
      "2023-02-22 20:31:49\n",
      "P异常.csv\n",
      "去异常文件已保存 👌\n",
      "特征提取完毕 👌\n"
     ]
    }
   ],
   "source": [
    "r_fea.to_csv(path+'fea\\\\'+'[特征]'+r,encoding='gbk')\n",
    "l_fea.to_csv(path+'fea\\\\'+'[特征]'+l,encoding='gbk')\n",
    "\n",
    "\n",
    "print(time.strftime('%Y-%m-%d %H:%M:%S',time.localtime(time.time())))\n",
    "print(tit)\n",
    "print(\"去异常文件已保存 👌\")\n",
    "print(\"特征提取完毕 👌\")"
   ]
  }
 ],
 "metadata": {
  "kernelspec": {
   "display_name": "base",
   "language": "python",
   "name": "python3"
  },
  "language_info": {
   "codemirror_mode": {
    "name": "ipython",
    "version": 3
   },
   "file_extension": ".py",
   "mimetype": "text/x-python",
   "name": "python",
   "nbconvert_exporter": "python",
   "pygments_lexer": "ipython3",
   "version": "3.9.12"
  },
  "orig_nbformat": 4,
  "vscode": {
   "interpreter": {
    "hash": "7ff96eb9a7975995df6f2a519dfdaf1ac4286d951c67f8930a91d7be2fe6eb56"
   }
  }
 },
 "nbformat": 4,
 "nbformat_minor": 2
}
