{
 "cells": [
  {
   "cell_type": "code",
   "execution_count": 9,
   "metadata": {},
   "outputs": [],
   "source": [
    "import pandas as pd\n",
    "import SingleFlash_125_Features\n",
    "import json\n",
    "import time"
   ]
  },
  {
   "cell_type": "code",
   "execution_count": 10,
   "metadata": {},
   "outputs": [],
   "source": [
    "tit='result_pupil_阳性223.csv'\n",
    "# tit='result_pupil_阴性223.csv'\n",
    "\n",
    "path = 'E:\\\\desktop\\\\data\\\\app\\\\fea\\\\未归一\\\\'\n",
    "\n",
    "\n",
    "#读取数据\n",
    "try:\n",
    "    data = pd.read_csv(path+tit,encoding='gbk')\n",
    "except:\n",
    "    data = pd.read_csv(path+tit,encoding='utf-8')\n",
    "\n",
    "name=list(data.iloc[:,0])\n",
    "\n",
    "try:\n",
    "    # 对瞳孔半径列进行分割\n",
    "    df=data['瞳孔半径'].astype('str').str.split(',',expand=True)\n",
    "    # 修改分割后的字段名称\n",
    "    df.columns=[str(i) for i in df.columns]\n",
    "except:\n",
    "    df=pd.DataFrame(data.iloc[:,1:126])\n",
    "\n",
    "df=df.astype('float')\n"
   ]
  },
  {
   "cell_type": "code",
   "execution_count": 11,
   "metadata": {},
   "outputs": [
    {
     "name": "stderr",
     "output_type": "stream",
     "text": [
      "g:\\work\\特征算法12.2\\SingleFlash_125_Features.py:306: RuntimeWarning: invalid value encountered in double_scalars\n",
      "  f4 = 2 - (np.std(temp4) / np.mean(temp4)) * 10  # 根据变异系数判断异常值范围\n",
      "g:\\work\\特征算法12.2\\SingleFlash_125_Features.py:182: RuntimeWarning: invalid value encountered in true_divide\n",
      "  fixup = 1 - (row / (np.abs(ini_row - row) + row))\n"
     ]
    }
   ],
   "source": [
    "error_list=[]\n",
    "for i in range(len(df)):\n",
    "    row=list(df.iloc[i])\n",
    "    Fea=SingleFlash_125_Features.Features(row)\n",
    "    if Fea.exception:\n",
    "        error_list.append(name[i])\n"
   ]
  },
  {
   "cell_type": "code",
   "execution_count": 12,
   "metadata": {},
   "outputs": [],
   "source": [
    "# path = r\"E:\\desktop\\result_pupil_阳性.csv\"\n",
    "path = r\"E:\\desktop\\data\\app\\fea\\未归一\\result_feature_阳性_02-23.csv\"\n",
    "# path = r\"E:\\desktop\\data\\app\\fea\\未归一\\result_feature_阴性_02-23.csv\"\n",
    "\n",
    "\n",
    "data = pd.read_csv(path, index_col=[0], encoding=\"gbk\")\n",
    "right_list = list(set(data.index)-set(error_list))\n",
    "right_data = data.loc[right_list]\n",
    "error_data = data.loc[error_list]\n",
    "\n",
    "right_data.to_csv('正常'+str(time.time())+'.csv', encoding='gbk')\n",
    "error_data.to_csv('错误'+str(time.time())+'.csv', encoding='gbk')\n"
   ]
  }
 ],
 "metadata": {
  "kernelspec": {
   "display_name": "base",
   "language": "python",
   "name": "python3"
  },
  "language_info": {
   "codemirror_mode": {
    "name": "ipython",
    "version": 3
   },
   "file_extension": ".py",
   "mimetype": "text/x-python",
   "name": "python",
   "nbconvert_exporter": "python",
   "pygments_lexer": "ipython3",
   "version": "3.9.12"
  },
  "orig_nbformat": 4,
  "vscode": {
   "interpreter": {
    "hash": "7ff96eb9a7975995df6f2a519dfdaf1ac4286d951c67f8930a91d7be2fe6eb56"
   }
  }
 },
 "nbformat": 4,
 "nbformat_minor": 2
}
