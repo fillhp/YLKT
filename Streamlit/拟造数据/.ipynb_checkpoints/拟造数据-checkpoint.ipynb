{
 "cells": [
  {
   "cell_type": "code",
   "execution_count": 1,
   "id": "0ab9ab19",
   "metadata": {
    "code_folding": [
     0
    ]
   },
   "outputs": [],
   "source": [
    "#导入库\n",
    "import pandas as pd\n",
    "import numpy as np\n",
    "import re"
   ]
  },
  {
   "cell_type": "code",
   "execution_count": 2,
   "id": "20cfcdb4",
   "metadata": {
    "code_folding": []
   },
   "outputs": [],
   "source": [
    "# tit='阳性大杂烩.csv'\n",
    "# tit='阳性大杂烩 - 副本.csv'\n",
    "# tit='阴1去噪 - 副本.csv'\n",
    "# tit='简化 阳 5.csv'\n",
    "# tit='阴阳1-1.csv'\n",
    "# tit='阴1去噪 - 副本.csv'\n",
    "# tit='MultiDirPupilData_2208051119_个旧建水_阳性_125f1c40ms - 副本.csv'\n",
    "# tit='MultiDirPupilData_2208150813_0814_马来_阳性_冰毒合成_125f1c40ms.csv'\n",
    "tit='MultiDirPupilData_2207131555_快闪25帧_阴性_74人.csv'\n",
    "# tit='平滑以后的阴性数据.csv'\n",
    "# tit='平滑以后的阳性数据.csv'\n",
    "# tit='MultiDirPupilData_2208060853_园区内部_阴性_125f1c40ms.csv'\n",
    "# tit='MultiDirPupilData_2208051119_个旧建水_阳性_125f1c40ms - 副本.csv'\n",
    "# tit='阳性大杂烩 - 亡羊.csv'\n",
    "# tit='阳不重复数据.csv'\n",
    "# tit='阴不重复数据.csv'\n",
    "# tit='马来西亚备注版.csv'\n",
    "tit='MultiDirPupilData_2208051119_个旧建水_阳性_125f1c40ms - 副本.csv'\n",
    "# tit='MultiDirPupilData_2207131555_快闪25帧_阴性_74人 - 亡羊.csv'"
   ]
  },
  {
   "cell_type": "code",
   "execution_count": 3,
   "id": "aa4d7055",
   "metadata": {
    "code_folding": []
   },
   "outputs": [],
   "source": [
    "#读取数据\n",
    "path = 'E:\\\\desktop\\\\ovo\\\\data\\\\'\n",
    "\n",
    "#读取数据\n",
    "try:\n",
    "    data = pd.read_csv(path+tit,encoding='gbk')\n",
    "except:\n",
    "    data = pd.read_csv(path+tit,encoding='utf-8')\n",
    "\n",
    "name=pd.DataFrame(list(data.iloc[:,0]),columns=[\"name\"])  \n",
    "\n",
    "try:\n",
    "    # 对瞳孔半径列进行分割\n",
    "    df=data['瞳孔半径'].astype('str').str.split(',',expand=True)\n",
    "    # 修改分割后的字段名称\n",
    "    df.columns=[str(i) for i in df.columns]\n",
    "except:\n",
    "    df=pd.DataFrame(data.iloc[:,1:127])\n",
    "    \n",
    "df=df.astype('float')"
   ]
  },
  {
   "cell_type": "code",
   "execution_count": 4,
   "id": "967dddc0",
   "metadata": {
    "code_folding": []
   },
   "outputs": [],
   "source": [
    "def getchina(text):\n",
    "    res = re.findall('[\\u4e00-\\u9fa5]', text)\n",
    "    s=''\n",
    "    for i in res:\n",
    "        s=s+i\n",
    "    return s"
   ]
  },
  {
   "cell_type": "code",
   "execution_count": 5,
   "id": "fb350afa",
   "metadata": {},
   "outputs": [
    {
     "name": "stdout",
     "output_type": "stream",
     "text": [
      "MultiDirPupilData_2208051119_个旧建水_阳性_125f1c40ms - 副本.csv\n",
      "拟造成功 🎁\n",
      "由 90 条数据 生成 4005 条数据\n"
     ]
    }
   ],
   "source": [
    "new=[]\n",
    "name=[]\n",
    "for a in range(len(df)):\n",
    "    hang_a=np.array(df.iloc[a,:])\n",
    "    for b in range(a+1,len(df)):\n",
    "        idd=getchina(tit)+'_'+str(a)+'_'+str(b)\n",
    "        hang_b=np.array(df.iloc[b,:])\n",
    "        hang_new=(hang_a+hang_b)/2\n",
    "        new.append(list(hang_new))\n",
    "        name.append(idd)\n",
    "new=pd.DataFrame(new,index=name)\n",
    "\n",
    "new.to_csv(path+'[拟造]'+tit,encoding='gbk')\n",
    "print(tit)\n",
    "print('拟造成功 🎁')\n",
    "print('由',len(df),'条数据 生成',len(new),'条数据')"
   ]
  }
 ],
 "metadata": {
  "kernelspec": {
   "display_name": "Python 3 (ipykernel)",
   "language": "python",
   "name": "python3"
  },
  "language_info": {
   "codemirror_mode": {
    "name": "ipython",
    "version": 3
   },
   "file_extension": ".py",
   "mimetype": "text/x-python",
   "name": "python",
   "nbconvert_exporter": "python",
   "pygments_lexer": "ipython3",
   "version": "3.9.12"
  }
 },
 "nbformat": 4,
 "nbformat_minor": 5
}
