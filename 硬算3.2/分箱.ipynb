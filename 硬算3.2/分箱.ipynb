{
 "cells": [
  {
   "attachments": {},
   "cell_type": "markdown",
   "metadata": {},
   "source": [
    "##### 导入库"
   ]
  },
  {
   "cell_type": "code",
   "execution_count": 13,
   "metadata": {},
   "outputs": [],
   "source": [
    "import pandas as pd\n",
    "import numpy as np\n",
    "from sklearn.model_selection import train_test_split\n",
    "from imblearn.over_sampling import SVMSMOTE\n",
    "from sklearn.utils import shuffle\n",
    "\n",
    "import box\n",
    "import json"
   ]
  },
  {
   "attachments": {},
   "cell_type": "markdown",
   "metadata": {},
   "source": [
    "##### 选择数据"
   ]
  },
  {
   "cell_type": "code",
   "execution_count": 14,
   "metadata": {},
   "outputs": [],
   "source": [
    "def get_fea(tit):\n",
    "    path = 'E:\\\\desktop\\\\data\\\\app\\\\fea\\\\'\n",
    "    #读取数据\n",
    "    data = pd.read_csv(path+tit,encoding='gbk')\n",
    "    data = data.set_index('name')\n",
    "    return data\n",
    "\n",
    "\n",
    "n='N_all.csv'\n",
    "p='P_all.csv'\n",
    "# p='P_ice.csv'\n",
    "# p='P_her.csv'\n",
    "p='P_mix.csv'\n",
    "# p='P_ice1.csv'\n",
    "way=\"mix\""
   ]
  },
  {
   "attachments": {},
   "cell_type": "markdown",
   "metadata": {},
   "source": [
    "##### 处理数据"
   ]
  },
  {
   "cell_type": "code",
   "execution_count": 15,
   "metadata": {},
   "outputs": [],
   "source": [
    "n_fea = get_fea(n)\n",
    "p_fea = get_fea(p)\n",
    "\n",
    "\n",
    "fea_dict = {\n",
    "    'all':\n",
    "['fft_imag_6',\n",
    " 'retvalue',\n",
    " 'fft_real_5',\n",
    " 'retindex',\n",
    " 'alt_stderr_min_50',\n",
    " 'erbc_num10_focus2',\n",
    " 'minindex',\n",
    " 'S_ret',\n",
    " 'fft_angle_3',\n",
    " 'fft_real_2',\n",
    " 'fft_imag_3',\n",
    " 'F2',\n",
    " 'dmq',\n",
    " 'F1',\n",
    " 'maxindex',\n",
    " 'fft_abs_22'],\n",
    "\n",
    "    'ice':\n",
    "['fft_real_5',\n",
    " 'lumpiness',\n",
    " 'minindex',\n",
    " 'retang',\n",
    " 'fft_imag_3',\n",
    " 'maxindex',\n",
    " 'erbc_num10_focus2',\n",
    " 'alt_rvalue_min_50',\n",
    " 'S_ret',\n",
    " 'F1',\n",
    " 'alt_stderr_min_50',\n",
    " 'fft_angle_3',\n",
    " 'F2',\n",
    " 'S_down',\n",
    " 'fft_imag_6',\n",
    " 'fft_angle_2',\n",
    " 'retindex',\n",
    " 'dmq',\n",
    " 'fft_abs_22',\n",
    " 'maxvalue'],\n",
    "    'her':\n",
    "['fft_imag_6',\n",
    " 'fft_real_5',\n",
    " 'retindex',\n",
    " 'dmq',\n",
    " 'alt_stderr_min_50',\n",
    " 'V2',\n",
    " 'erbc_num10_focus2',\n",
    " 'minindex',\n",
    " 'S_ret',\n",
    " 'fft_angle_3',\n",
    " 'fft_imag_3',\n",
    " 'F1',\n",
    " 'F2',\n",
    " 'minvalue',\n",
    " 'maxindex',\n",
    " 'fft_abs_22'],\n",
    "    'mix':\n",
    "['dnp',\n",
    " 'fft_real_5',\n",
    " 'S',\n",
    " 'lumpiness',\n",
    " 'minindex',\n",
    " 'retang',\n",
    " 'fft_imag_3',\n",
    " 'minvalue',\n",
    " 'maxindex',\n",
    " 'erbc_num10_focus2',\n",
    " 'alt_rvalue_min_50',\n",
    " 'S_ret',\n",
    " 'F1',\n",
    " 'maxang',\n",
    " 'fft_angle_3',\n",
    " 'F2',\n",
    " 'S_down',\n",
    " 'fft_imag_6',\n",
    " 'fft_angle_2',\n",
    " 'retindex',\n",
    " 'S_low',\n",
    " 'erbc_num10_focus4',\n",
    " 'dmq',\n",
    " 'fft_abs_22'],\n",
    "}\n",
    "\n",
    "\n",
    "\n",
    "# fea_dict={\n",
    "#     \"all\":[\n",
    "#   \"lumpiness\",\n",
    "#   \"fft_imag_3\",\n",
    "#   \"fft_real_2\",\n",
    "#   \"erbc_num10_focus2\",\n",
    "#   \"alt_rvalue_min_50\",\n",
    "#   \"S_down\",\n",
    "#   \"minvalue\",\n",
    "#   \"F1\",\n",
    "#   \"fft_angle_3\",\n",
    "#   \"V2\",\n",
    "#   \"minindex\",\n",
    "#   \"alt_stderr_min_50\",\n",
    "#   \"maxvalue\"\n",
    "# ],\n",
    "#     \"ice\":\n",
    "#     [\n",
    "#   \"fft_real_5\",\n",
    "#   \"fft_imag_3\",\n",
    "#   \"maxindex\",\n",
    "#   \"fft_real_2\",\n",
    "#   \"asoc\",\n",
    "#   \"erbc_num10_focus2\",\n",
    "#   \"erbc_num10_focus4\",\n",
    "#   \"alt_rvalue_min_50\",\n",
    "#   \"F2\",\n",
    "#   \"S_down\",\n",
    "#   \"fft_angle_3\",\n",
    "#   \"S\",\n",
    "#   \"alt_stderr_max_5\",\n",
    "#   \"minindex\",\n",
    "#   \"fft_abs_22\",\n",
    "#   \"fft_imag_6\",\n",
    "#   \"alt_stderr_min_50\",\n",
    "#   \"fft_angle_2\"\n",
    "# ],\n",
    "#     'her':['V1',\n",
    "#  'level_shift_size',\n",
    "#  'fft_imag_6',\n",
    "#  'S_low',\n",
    "#  'fft_abs_22',\n",
    "#  'retang',\n",
    "#  'dmq',\n",
    "#  'mac',\n",
    "#  'alt_rvalue_min_50',\n",
    "#  'fft_real_5',\n",
    "#  'V2'],\n",
    "#     'mix':\n",
    "# ['V_sum',\n",
    "#  'V1',\n",
    "#  'level_shift_size',\n",
    "#  'fft_imag_6',\n",
    "#  'fft_angle_3',\n",
    "#  'fft_abs_22',\n",
    "#  'fft_real_2',\n",
    "#  'lumpiness',\n",
    "#  'mac',\n",
    "#  'alt_rvalue_min_50',\n",
    "#  'F1',\n",
    "#  'dmq',\n",
    "#  'fft_imag_3',\n",
    "#  'S',\n",
    "#  'fft_real_5',\n",
    "#  'V2',\n",
    "#  'maxang']\n",
    "# }\n",
    "\n",
    "fea_list=fea_dict[way]\n",
    "n_fea=n_fea[fea_list]\n",
    "p_fea=p_fea[fea_list]\n",
    "\n",
    "n_fea['target']=[0 for i in range(len(n_fea))]\n",
    "p_fea['target']=[1 for i in range(len(p_fea))]\n",
    "\n",
    "np_fea=shuffle(pd.concat([n_fea,p_fea],axis=0))\n"
   ]
  },
  {
   "attachments": {},
   "cell_type": "markdown",
   "metadata": {},
   "source": [
    "##### 划分数据&分箱"
   ]
  },
  {
   "cell_type": "code",
   "execution_count": 16,
   "metadata": {},
   "outputs": [],
   "source": [
    "proportion=0.3 #验证集占比\n",
    "X=np_fea[fea_list]\n",
    "Y=np_fea[['target']]\n",
    "\n",
    "#过采样\n",
    "svmsomte=SVMSMOTE(random_state=0)\n",
    "X,Y=svmsomte.fit_resample(X,Y)\n",
    "\n"
   ]
  },
  {
   "attachments": {},
   "cell_type": "markdown",
   "metadata": {},
   "source": [
    "##### 验证结果"
   ]
  },
  {
   "cell_type": "code",
   "execution_count": 17,
   "metadata": {},
   "outputs": [
    {
     "name": "stdout",
     "output_type": "stream",
     "text": [
      "检出率:  110 / 144    0.7638888888888888\n",
      "误判率:  22 / 170    0.12941176470588237\n",
      "精确率:  258 / 314    0.821656050955414\n",
      "--------------------------------------------------\n",
      "检出率:  61 / 75    0.8133333333333334\n",
      "误判率:  38 / 523    0.07265774378585087\n",
      "精确率:  546 / 598    0.9130434782608695\n"
     ]
    }
   ],
   "source": [
    "while 1:\n",
    "    X_train,X_test,Y_train,Y_test=train_test_split(X,Y,test_size=proportion) #,random_state=0 取消随机\n",
    "    XY_train=pd.concat([X_train,Y_train],axis=1)\n",
    "    XY_verify=pd.concat([X_test,Y_test],axis=1)\n",
    "    n_train=XY_train[XY_train['target']==0]\n",
    "    p_train=XY_train[XY_train['target']==1]\n",
    "    n_verify=XY_verify[XY_verify['target']==0]\n",
    "    p_verify=XY_verify[XY_verify['target']==1]\n",
    "\n",
    "    #分箱\n",
    "    config=box.divide(n_train,p_train,fea_list)\n",
    "\n",
    "    n_jugde=np.sum(box.jugde(n_verify,config))\n",
    "    p_jugde=np.sum(box.jugde(p_verify,config))\n",
    "\n",
    "    n_jugdes=np.sum(box.jugde(n_fea,config))\n",
    "    p_jugdes=np.sum(box.jugde(p_fea,config))\n",
    "    if p_jugdes/len(p_fea)>0.8 and n_jugdes/len(n_fea)<0.1:\n",
    "        print(\"检出率: \",p_jugde,\"/\",len(p_verify),\"  \",p_jugde/len(p_verify))\n",
    "        print(\"误判率: \",n_jugde,\"/\",len(n_verify),\"  \",n_jugde/len(n_verify))\n",
    "        print(\"精确率: \",len(n_verify)-n_jugde+p_jugde,\"/\",len(n_verify)+len(p_verify),\"  \",(len(n_verify)-n_jugde+p_jugde)/(len(n_verify)+len(p_verify)))\n",
    "\n",
    "        print('-'*50)\n",
    "        print(\"检出率: \",p_jugdes,\"/\",len(p_fea),\"  \",p_jugdes/len(p_fea))\n",
    "        print(\"误判率: \",n_jugdes,\"/\",len(n_fea),\"  \",n_jugdes/len(n_fea))\n",
    "        print(\"精确率: \",len(n_fea)-n_jugdes+p_jugdes,\"/\",len(n_fea)+len(p_fea),\"  \",(len(n_fea)-n_jugdes+p_jugdes)/(len(n_fea)+len(p_fea)))\n",
    "        break"
   ]
  },
  {
   "attachments": {},
   "cell_type": "markdown",
   "metadata": {},
   "source": [
    "##### 保存结果"
   ]
  },
  {
   "cell_type": "code",
   "execution_count": 18,
   "metadata": {},
   "outputs": [
    {
     "name": "stdout",
     "output_type": "stream",
     "text": [
      "mix 保存成功\n"
     ]
    }
   ],
   "source": [
    "def default_dump(obj):\n",
    "    \"\"\"Convert numpy classes to JSON serializable objects.\"\"\"\n",
    "    if isinstance(obj, (np.integer, np.floating, np.bool_)):\n",
    "        return obj.item()\n",
    "    elif isinstance(obj, np.ndarray):\n",
    "        return obj.tolist()\n",
    "    else:\n",
    "        return obj\n",
    "\n",
    "config_json=json.dumps(config,default=default_dump)#转化为json格式文件\n",
    "\n",
    "with open('./config/'+way+'.json','w+') as file:\n",
    "    file.write(config_json)\n",
    "\n",
    "print(way,\"保存成功\")"
   ]
  }
 ],
 "metadata": {
  "kernelspec": {
   "display_name": "base",
   "language": "python",
   "name": "python3"
  },
  "language_info": {
   "codemirror_mode": {
    "name": "ipython",
    "version": 3
   },
   "file_extension": ".py",
   "mimetype": "text/x-python",
   "name": "python",
   "nbconvert_exporter": "python",
   "pygments_lexer": "ipython3",
   "version": "3.9.12"
  },
  "orig_nbformat": 4,
  "vscode": {
   "interpreter": {
    "hash": "7ff96eb9a7975995df6f2a519dfdaf1ac4286d951c67f8930a91d7be2fe6eb56"
   }
  }
 },
 "nbformat": 4,
 "nbformat_minor": 2
}
