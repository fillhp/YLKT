{
 "cells": [
  {
   "cell_type": "code",
   "execution_count": 7,
   "metadata": {},
   "outputs": [],
   "source": [
    "import json\n",
    "import pandas as pd \n"
   ]
  },
  {
   "cell_type": "code",
   "execution_count": 8,
   "metadata": {},
   "outputs": [
    {
     "data": {
      "text/plain": [
       "['dnp',\n",
       " 'fft_real_5',\n",
       " 'S',\n",
       " 'lumpiness',\n",
       " 'minindex',\n",
       " 'retang',\n",
       " 'fft_imag_3',\n",
       " 'minvalue',\n",
       " 'maxindex',\n",
       " 'erbc_num10_focus2',\n",
       " 'alt_rvalue_min_50',\n",
       " 'S_ret',\n",
       " 'F1',\n",
       " 'maxang',\n",
       " 'fft_angle_3',\n",
       " 'F2',\n",
       " 'S_down',\n",
       " 'fft_imag_6',\n",
       " 'fft_angle_2',\n",
       " 'retindex',\n",
       " 'S_low',\n",
       " 'erbc_num10_focus4',\n",
       " 'dmq',\n",
       " 'fft_abs_22']"
      ]
     },
     "execution_count": 8,
     "metadata": {},
     "output_type": "execute_result"
    }
   ],
   "source": [
    "def readrank(way):\n",
    "    threshold=0.85\n",
    "    with open(way+\"rank.json\",'r+') as file:\n",
    "        content=file.read()\n",
    "    rank_dict=json.loads(content)\n",
    "    n_fea=pd.read_csv(r'E:\\desktop\\data\\app\\fea\\N_all.csv',encoding=\"gbk\",index_col=0)\n",
    "    p_fea=pd.read_csv('E:\\\\desktop\\\\data\\\\app\\\\fea\\\\P_'+way+'.csv',encoding=\"gbk\",index_col=0)\n",
    "    np_fea=pd.concat([n_fea,p_fea],axis=0)\n",
    "\n",
    "\n",
    "    fea_list=list(np_fea.columns)\n",
    "\n",
    "    cor=np_fea.iloc[:,:].corr()\n",
    "    del_set=set()\n",
    "    for a in range(len(fea_list)):\n",
    "        fea_a=fea_list[a]\n",
    "        col=cor[fea_a]\n",
    "        for b in range(len(fea_list)):\n",
    "            fea_b=fea_list[b]\n",
    "            if fea_a==fea_b:\n",
    "                continue\n",
    "            y=abs(col[fea_b])\n",
    "            if y>=threshold:\n",
    "                if rank_dict[fea_a]>rank_dict[fea_b]:\n",
    "                    del_set.add(fea_b)\n",
    "                else:\n",
    "                    del_set.add(fea_a)\n",
    "\n",
    "    screen_fea=list(set(fea_list)-del_set)\n",
    "    return screen_fea\n",
    "\n",
    "readrank(\"mix\")"
   ]
  }
 ],
 "metadata": {
  "kernelspec": {
   "display_name": "base",
   "language": "python",
   "name": "python3"
  },
  "language_info": {
   "codemirror_mode": {
    "name": "ipython",
    "version": 3
   },
   "file_extension": ".py",
   "mimetype": "text/x-python",
   "name": "python",
   "nbconvert_exporter": "python",
   "pygments_lexer": "ipython3",
   "version": "3.9.12"
  },
  "orig_nbformat": 4,
  "vscode": {
   "interpreter": {
    "hash": "7ff96eb9a7975995df6f2a519dfdaf1ac4286d951c67f8930a91d7be2fe6eb56"
   }
  }
 },
 "nbformat": 4,
 "nbformat_minor": 2
}
