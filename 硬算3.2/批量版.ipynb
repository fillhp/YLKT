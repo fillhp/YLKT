{
 "cells": [
  {
   "cell_type": "code",
   "execution_count": 5,
   "id": "a4da79b9",
   "metadata": {
    "code_folding": [
     0
    ]
   },
   "outputs": [],
   "source": [
    "import json\n",
    "import pandas as pd\n",
    "\n",
    "#读取json\n",
    "with open('./config/config.json','r+') as file:\n",
    "    content=file.read()\n",
    "config=json.loads(content)"
   ]
  },
  {
   "cell_type": "code",
   "execution_count": 6,
   "id": "47d2257f",
   "metadata": {},
   "outputs": [],
   "source": [
    "def judge(fea_data,config,way):\n",
    "    rate=0\n",
    "    config_dict=config[way]\n",
    "    fea_list=list(config_dict.keys())\n",
    "    for fea in fea_list:\n",
    "        value=fea_data[fea]\n",
    "        bins=config_dict[fea][\"bins\"]\n",
    "        rates = config_dict[fea][\"rate\"]\n",
    "\n",
    "        if value<min(bins):\n",
    "            rate=rate+rates[0]\n",
    "        elif value>max(bins):\n",
    "            rate=rate+rates[-1]\n",
    "        else:\n",
    "            for b in range(len(bins)-1):\n",
    "                if value>bins[:-1][b] and value<=bins[1:][b]:\n",
    "                    rate=rate+rates[b]\n",
    "    if rate>len(fea_list)*0.5:\n",
    "        return 1\n",
    "    else:\n",
    "        return 0\n"
   ]
  },
  {
   "cell_type": "markdown",
   "id": "358e2d47",
   "metadata": {},
   "source": [
    "##### 开始运行"
   ]
  },
  {
   "cell_type": "code",
   "execution_count": 7,
   "id": "b714cfa5",
   "metadata": {
    "code_folding": []
   },
   "outputs": [],
   "source": [
    "tit='N_all.csv'\n",
    "# tit='P_all.csv'\n",
    "# tit='P_ice.csv'\n",
    "# tit='P_her.csv'\n",
    "# tit='P_mix.csv'\n",
    "# tit='P_ice1.csv'"
   ]
  },
  {
   "cell_type": "code",
   "execution_count": 8,
   "id": "0d563416",
   "metadata": {},
   "outputs": [
    {
     "name": "stdout",
     "output_type": "stream",
     "text": [
      "all 35 / 523 0.06692160611854685\n",
      "ice 23 / 523 0.04397705544933078\n",
      "her 35 / 523 0.06692160611854685\n",
      "mix 29 / 523 0.055449330783938815\n",
      "(ice or her or mix) and all 16 / 523 0.030592734225621414\n",
      "(ice or her) and all 14 / 523 0.02676864244741874\n",
      "四选二 32 / 523 0.06118546845124283\n"
     ]
    }
   ],
   "source": [
    "path = 'E:\\\\desktop\\\\data\\\\app\\\\fea\\\\'\n",
    "#读取数据\n",
    "data = pd.read_csv(path+tit,encoding='gbk')\n",
    "data = data.set_index('name')\n",
    "\n",
    "result={'name':[],'all':[],'ice':[],'her':[],'mix':[]}\n",
    "name_list=list(data.index)\n",
    "for i in range(len(data)):\n",
    "    row=data.iloc[i]\n",
    "    result['name'].append(name_list[i])\n",
    "    fea_data=dict(row)\n",
    "    # print(fea_data)\n",
    "    for way in (\"all\",\"ice\",\"her\",\"mix\"):\n",
    "        result[way].append(judge(fea_data,config,way))\n",
    "\n",
    "result=pd.DataFrame(result)\n",
    "result=result.set_index('name')\n",
    "\n",
    "youla={\"(ice or her or mix) and all\":[],\"(ice or her) and all\":[],\"四选二\":[]}\n",
    "for i in range(len(result)):\n",
    "    row=list(result.iloc[i])\n",
    "    if sum(row[:3])>=1 and row[3]==1:\n",
    "        youla[\"(ice or her or mix) and all\"].append(1)\n",
    "    else:\n",
    "        youla[\"(ice or her or mix) and all\"].append(0)\n",
    "\n",
    "    if sum(row[:2])>=1 and row[3]==1:\n",
    "        youla[\"(ice or her) and all\"].append(1)\n",
    "    else:\n",
    "        youla[\"(ice or her) and all\"].append(0)\n",
    "\n",
    "    if sum(row)>=2:\n",
    "        youla[\"四选二\"].append(1)\n",
    "    else:\n",
    "        youla[\"四选二\"].append(0)\n",
    "youla=pd.DataFrame(youla,index=result.index)\n",
    "result=pd.concat([result,youla],axis=1)\n",
    "\n",
    "psum=len(result)\n",
    "for key in result.columns:\n",
    "    p=sum(result[key])\n",
    "    print(key,p,'/',psum,p/psum)\n"
   ]
  }
 ],
 "metadata": {
  "kernelspec": {
   "display_name": "Python 3.9.12 ('base')",
   "language": "python",
   "name": "python3"
  },
  "language_info": {
   "codemirror_mode": {
    "name": "ipython",
    "version": 3
   },
   "file_extension": ".py",
   "mimetype": "text/x-python",
   "name": "python",
   "nbconvert_exporter": "python",
   "pygments_lexer": "ipython3",
   "version": "3.9.12"
  },
  "vscode": {
   "interpreter": {
    "hash": "7ff96eb9a7975995df6f2a519dfdaf1ac4286d951c67f8930a91d7be2fe6eb56"
   }
  }
 },
 "nbformat": 4,
 "nbformat_minor": 5
}
