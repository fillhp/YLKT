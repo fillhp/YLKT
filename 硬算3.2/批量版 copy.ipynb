{
 "cells": [
  {
   "cell_type": "code",
   "execution_count": 21,
   "id": "a4da79b9",
   "metadata": {
    "code_folding": [
     0
    ]
   },
   "outputs": [],
   "source": [
    "import json\n",
    "import pandas as pd\n",
    "\n",
    "#读取json\n",
    "with open('./config/config.json','r+') as file:\n",
    "    content=file.read()\n",
    "config=json.loads(content)"
   ]
  },
  {
   "cell_type": "code",
   "execution_count": 22,
   "id": "47d2257f",
   "metadata": {},
   "outputs": [],
   "source": [
    "def judge(fea_data,config,way):\n",
    "    rate=0\n",
    "    config_dict=config[way]\n",
    "    fea_list=list(config_dict.keys())\n",
    "    for fea in fea_list:\n",
    "        value=fea_data[fea]\n",
    "        bins=config_dict[fea][\"bins\"]\n",
    "        rates = config_dict[fea][\"rate\"]\n",
    "\n",
    "        if value<min(bins):\n",
    "            rate=rate+rates[0]\n",
    "        elif value>max(bins):\n",
    "            rate=rate+rates[-1]\n",
    "        else:\n",
    "            for b in range(len(bins)-1):\n",
    "                if value>bins[:-1][b] and value<=bins[1:][b]:\n",
    "                    rate=rate+rates[b]\n",
    "    return rate/len(fea_list)\n"
   ]
  },
  {
   "cell_type": "markdown",
   "id": "358e2d47",
   "metadata": {},
   "source": [
    "##### 开始运行"
   ]
  },
  {
   "cell_type": "code",
   "execution_count": 23,
   "id": "b714cfa5",
   "metadata": {
    "code_folding": []
   },
   "outputs": [],
   "source": [
    "tit='N_all.csv'\n",
    "tit='P_all.csv'\n",
    "# tit='P_ice.csv'\n",
    "# tit='P_her.csv'\n",
    "# tit='P_mix.csv'\n",
    "# tit='P_ice1.csv'\n",
    "tit=\"N-2-6.csv\""
   ]
  },
  {
   "cell_type": "code",
   "execution_count": 24,
   "id": "0d563416",
   "metadata": {},
   "outputs": [
    {
     "name": "stdout",
     "output_type": "stream",
     "text": [
      "0.08333333333333333\n",
      "4 / 48\n"
     ]
    }
   ],
   "source": [
    "path = 'E:\\\\desktop\\\\data\\\\app\\\\fea\\\\'\n",
    "#读取数据\n",
    "data = pd.read_csv(path+tit,encoding='gbk')\n",
    "data = data.set_index('name')\n",
    "\n",
    "result={'name':[],'ice':[],'her':[],'mix':[],'all':[],'res':[]}\n",
    "name_list=list(data.index)\n",
    "for i in range(len(data)):\n",
    "    row=data.iloc[i]\n",
    "    result['name'].append(name_list[i])\n",
    "    fea_data=dict(row)\n",
    "\n",
    "    rate=[]\n",
    "    for way in (\"all\",\"ice\",\"her\",\"mix\"):\n",
    "        juedge_rate=judge(fea_data,config,way)\n",
    "        rate.append(juedge_rate)\n",
    "        result[way].append(round(juedge_rate,2))\n",
    "\n",
    "    if rate[0]>0.5 and sum(rate[1:])>1.5:\n",
    "        result['res'].append(1)\n",
    "    else:\n",
    "        result['res'].append(0)\n",
    "\n",
    "result=pd.DataFrame(result)\n",
    "result=result.set_index('name')\n",
    "\n",
    "print(sum(result['res'])/len(data))\n",
    "print(sum(result['res']),'/',len(data))\n",
    "\n",
    "result.to_csv(tit,encoding=\"gbk\")"
   ]
  }
 ],
 "metadata": {
  "kernelspec": {
   "display_name": "Python 3.9.12 ('base')",
   "language": "python",
   "name": "python3"
  },
  "language_info": {
   "codemirror_mode": {
    "name": "ipython",
    "version": 3
   },
   "file_extension": ".py",
   "mimetype": "text/x-python",
   "name": "python",
   "nbconvert_exporter": "python",
   "pygments_lexer": "ipython3",
   "version": "3.9.12"
  },
  "vscode": {
   "interpreter": {
    "hash": "7ff96eb9a7975995df6f2a519dfdaf1ac4286d951c67f8930a91d7be2fe6eb56"
   }
  }
 },
 "nbformat": 4,
 "nbformat_minor": 5
}
