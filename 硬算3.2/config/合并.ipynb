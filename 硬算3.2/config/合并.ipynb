{
 "cells": [
  {
   "cell_type": "code",
   "execution_count": 1,
   "metadata": {},
   "outputs": [],
   "source": [
    "import json\n",
    "import numpy as np"
   ]
  },
  {
   "cell_type": "code",
   "execution_count": 2,
   "metadata": {},
   "outputs": [
    {
     "data": {
      "text/plain": [
       "{'F1',\n",
       " 'F2',\n",
       " 'S',\n",
       " 'S_down',\n",
       " 'S_low',\n",
       " 'S_ret',\n",
       " 'V2',\n",
       " 'alt_rvalue_min_50',\n",
       " 'alt_stderr_min_50',\n",
       " 'dmq',\n",
       " 'dnp',\n",
       " 'erbc_num10_focus2',\n",
       " 'erbc_num10_focus4',\n",
       " 'fft_abs_22',\n",
       " 'fft_angle_2',\n",
       " 'fft_angle_3',\n",
       " 'fft_imag_3',\n",
       " 'fft_imag_6',\n",
       " 'fft_real_2',\n",
       " 'fft_real_5',\n",
       " 'lumpiness',\n",
       " 'maxang',\n",
       " 'maxindex',\n",
       " 'maxvalue',\n",
       " 'minindex',\n",
       " 'minvalue',\n",
       " 'retang',\n",
       " 'retindex',\n",
       " 'retvalue'}"
      ]
     },
     "execution_count": 2,
     "metadata": {},
     "output_type": "execute_result"
    }
   ],
   "source": [
    "config={}\n",
    "fea_list=[]\n",
    "for way in (\"all\",\"ice\",\"her\",\"mix\"):\n",
    "    with open(way+\".json\",'r+') as file:\n",
    "        content=file.read()\n",
    "    way_json=json.loads(content)\n",
    "    fea_list=fea_list+list(way_json.keys())\n",
    "    config[way]=way_json\n",
    "\n",
    "\n",
    "def default_dump(obj):\n",
    "    \"\"\"Convert numpy classes to JSON serializable objects.\"\"\"\n",
    "    if isinstance(obj, (np.integer, np.floating, np.bool_)):\n",
    "        return obj.item()\n",
    "    elif isinstance(obj, np.ndarray):\n",
    "        return obj.tolist()\n",
    "    else:\n",
    "        return obj\n",
    "\n",
    "config_json=json.dumps(config,default=default_dump)#转化为json格式文件\n",
    "\n",
    "with open('config.json','w+') as file:\n",
    "    file.write(config_json)\n",
    "\n",
    "\n",
    "set(fea_list)"
   ]
  }
 ],
 "metadata": {
  "kernelspec": {
   "display_name": "base",
   "language": "python",
   "name": "python3"
  },
  "language_info": {
   "codemirror_mode": {
    "name": "ipython",
    "version": 3
   },
   "file_extension": ".py",
   "mimetype": "text/x-python",
   "name": "python",
   "nbconvert_exporter": "python",
   "pygments_lexer": "ipython3",
   "version": "3.9.12"
  },
  "orig_nbformat": 4,
  "vscode": {
   "interpreter": {
    "hash": "7ff96eb9a7975995df6f2a519dfdaf1ac4286d951c67f8930a91d7be2fe6eb56"
   }
  }
 },
 "nbformat": 4,
 "nbformat_minor": 2
}
