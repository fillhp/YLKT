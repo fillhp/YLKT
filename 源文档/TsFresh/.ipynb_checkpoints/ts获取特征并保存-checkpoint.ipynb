{
 "cells": [
  {
   "cell_type": "code",
   "execution_count": 1,
   "metadata": {},
   "outputs": [
    {
     "name": "stdout",
     "output_type": "stream",
     "text": [
      "3.6.13 |Anaconda, Inc.| (default, Mar 16 2021, 11:37:27) [MSC v.1916 64 bit (AMD64)]\n"
     ]
    }
   ],
   "source": [
    "import pandas as pd\n",
    "import numpy as np\n",
    "\n",
    "import sys\n",
    "print(sys.version)"
   ]
  },
  {
   "cell_type": "code",
   "execution_count": 2,
   "metadata": {},
   "outputs": [],
   "source": [
    "yin='阴不重复数据.csv'\n",
    "yang='阳不重复数据.csv'\n",
    "yin='★阴性整合.csv'\n",
    "yang='★阳性整合.csv'\n",
    "yin='阴-66单条数据.csv'\n",
    "yang='阳-85单条数据.csv'\n",
    "yin='0913-林职-阴性-55人.csv'\n",
    "yang='冰毒.csv'\n",
    "yang='★阳性整合.csv'\n",
    "yin='★阴性整合.csv'\n",
    "yang='9301008.csv'\n",
    "#读取数据\n",
    "path='E:\\\\desktop\\\\data\\\\'\n",
    "yin_data = pd.read_csv(path+'pure\\\\[去异常]'+yin,encoding=\"gbk\")\n",
    "yin_name=pd.DataFrame(yin_data['name'],columns=[\"name\"])  ##提取name\n",
    "yin_temp=pd.DataFrame(yin_data.iloc[:,1:127]) #提取数据 \n",
    "\n",
    "yang_data = pd.read_csv(path+'pure\\\\[去异常]'+yang,encoding=\"gbk\")\n",
    "yang_name=pd.DataFrame(yang_data['name'],columns=[\"name\"])  ##提取name\n",
    "yang_temp=pd.DataFrame(yang_data.iloc[:,1:127]) #提取数据 \n",
    "\n",
    "x_dic={\n",
    "    \"id\":[],\n",
    "    \"time\":[],\n",
    "    \"value\":[],\n",
    "}\n",
    "\n",
    "y_dic={\n",
    "    \"index\":[],\n",
    "    \"value\":[]\n",
    "}\n",
    "\n",
    "for i in range(len(yin_temp)):\n",
    "    value=list(yin_temp.iloc[i][:])\n",
    "        \n",
    "    key=i+1\n",
    "    keys=[]\n",
    "    for j in range(len(value)):\n",
    "        keys.append(key)  \n",
    "        \n",
    "    time=[j for j in range(len(value))]\n",
    "    \n",
    "    x_dic['id']=x_dic['id']+keys\n",
    "    x_dic['time']=x_dic['time']+time\n",
    "    x_dic['value']=x_dic['value']+value\n",
    "    \n",
    "    y_dic[\"index\"].append(i+1)\n",
    "    y_dic[\"value\"].append('FALSE')\n",
    "    \n",
    "for i in range(len(yang_temp)):\n",
    "    value=list(yang_temp.iloc[i][:])\n",
    "        \n",
    "    key=len(yin_temp)+i+1\n",
    "    keys=[]\n",
    "    for j in range(len(value)):\n",
    "        keys.append(key)  \n",
    "        \n",
    "    time=[j for j in range(len(value))]\n",
    "    \n",
    "    x_dic['id']=x_dic['id']+keys\n",
    "    x_dic['time']=x_dic['time']+time\n",
    "    x_dic['value']=x_dic['value']+value\n",
    "    \n",
    "    y_dic[\"index\"].append(len(yin_temp)+i+1)\n",
    "    y_dic[\"value\"].append('TRUE')\n",
    "\n",
    "x_df=pd.DataFrame(x_dic)\n",
    "x_df.to_csv('x.csv',index=False)\n",
    "\n",
    "y_df=pd.DataFrame(y_dic)\n",
    "y_df.to_csv('y.csv',index=False)"
   ]
  },
  {
   "cell_type": "code",
   "execution_count": 3,
   "metadata": {},
   "outputs": [
    {
     "data": {
      "text/html": [
       "<div>\n",
       "<style scoped>\n",
       "    .dataframe tbody tr th:only-of-type {\n",
       "        vertical-align: middle;\n",
       "    }\n",
       "\n",
       "    .dataframe tbody tr th {\n",
       "        vertical-align: top;\n",
       "    }\n",
       "\n",
       "    .dataframe thead th {\n",
       "        text-align: right;\n",
       "    }\n",
       "</style>\n",
       "<table border=\"1\" class=\"dataframe\">\n",
       "  <thead>\n",
       "    <tr style=\"text-align: right;\">\n",
       "      <th></th>\n",
       "      <th>id</th>\n",
       "      <th>time</th>\n",
       "      <th>value</th>\n",
       "    </tr>\n",
       "  </thead>\n",
       "  <tbody>\n",
       "    <tr>\n",
       "      <th>count</th>\n",
       "      <td>27250.000000</td>\n",
       "      <td>27250.000000</td>\n",
       "      <td>27250.000000</td>\n",
       "    </tr>\n",
       "    <tr>\n",
       "      <th>mean</th>\n",
       "      <td>109.500000</td>\n",
       "      <td>62.000000</td>\n",
       "      <td>29.663443</td>\n",
       "    </tr>\n",
       "    <tr>\n",
       "      <th>std</th>\n",
       "      <td>62.931672</td>\n",
       "      <td>36.083899</td>\n",
       "      <td>5.858728</td>\n",
       "    </tr>\n",
       "    <tr>\n",
       "      <th>min</th>\n",
       "      <td>1.000000</td>\n",
       "      <td>0.000000</td>\n",
       "      <td>11.228247</td>\n",
       "    </tr>\n",
       "    <tr>\n",
       "      <th>25%</th>\n",
       "      <td>55.000000</td>\n",
       "      <td>31.000000</td>\n",
       "      <td>26.222223</td>\n",
       "    </tr>\n",
       "    <tr>\n",
       "      <th>50%</th>\n",
       "      <td>109.500000</td>\n",
       "      <td>62.000000</td>\n",
       "      <td>30.000000</td>\n",
       "    </tr>\n",
       "    <tr>\n",
       "      <th>75%</th>\n",
       "      <td>164.000000</td>\n",
       "      <td>93.000000</td>\n",
       "      <td>33.500000</td>\n",
       "    </tr>\n",
       "    <tr>\n",
       "      <th>max</th>\n",
       "      <td>218.000000</td>\n",
       "      <td>124.000000</td>\n",
       "      <td>43.478112</td>\n",
       "    </tr>\n",
       "  </tbody>\n",
       "</table>\n",
       "</div>"
      ],
      "text/plain": [
       "                 id          time         value\n",
       "count  27250.000000  27250.000000  27250.000000\n",
       "mean     109.500000     62.000000     29.663443\n",
       "std       62.931672     36.083899      5.858728\n",
       "min        1.000000      0.000000     11.228247\n",
       "25%       55.000000     31.000000     26.222223\n",
       "50%      109.500000     62.000000     30.000000\n",
       "75%      164.000000     93.000000     33.500000\n",
       "max      218.000000    124.000000     43.478112"
      ]
     },
     "execution_count": 3,
     "metadata": {},
     "output_type": "execute_result"
    }
   ],
   "source": [
    "import pandas as pd\n",
    "import numpy as np\n",
    "timeseries = pd.read_csv('x.csv')\n",
    "\n",
    "timeseries.describe()\n"
   ]
  },
  {
   "cell_type": "code",
   "execution_count": 4,
   "metadata": {},
   "outputs": [
    {
     "data": {
      "text/plain": [
       "1      False\n",
       "2      False\n",
       "3      False\n",
       "4      False\n",
       "5      False\n",
       "       ...  \n",
       "214     True\n",
       "215     True\n",
       "216     True\n",
       "217     True\n",
       "218     True\n",
       "Length: 218, dtype: bool"
      ]
     },
     "execution_count": 4,
     "metadata": {},
     "output_type": "execute_result"
    }
   ],
   "source": [
    "y = pd.read_csv('y.csv',usecols = ['index','value'])\n",
    "y= pd.Series(np.array(y['value']).tolist(),index =np.array(y['index']).tolist())\n",
    "y"
   ]
  },
  {
   "cell_type": "markdown",
   "metadata": {},
   "source": [
    "# 特征拓展"
   ]
  },
  {
   "cell_type": "code",
   "execution_count": 5,
   "metadata": {},
   "outputs": [
    {
     "name": "stderr",
     "output_type": "stream",
     "text": [
      "Feature Extraction: 100%|██████████| 15/15 [00:13<00:00,  1.09it/s]\n"
     ]
    },
    {
     "data": {
      "text/plain": [
       "(218, 781)"
      ]
     },
     "execution_count": 5,
     "metadata": {},
     "output_type": "execute_result"
    }
   ],
   "source": [
    "from tsfresh.feature_extraction import extract_features, EfficientFCParameters\n",
    "settings = EfficientFCParameters()\n",
    "fea_data = extract_features(timeseries, column_id=\"id\", column_sort=\"time\",default_fc_parameters=settings)\n",
    "fea_data.shape"
   ]
  },
  {
   "cell_type": "code",
   "execution_count": 6,
   "metadata": {},
   "outputs": [],
   "source": [
    "need=[\n",
    " 'value__fft_coefficient__attr_\"abs\"__coeff_1',\n",
    " 'value__fft_coefficient__attr_\"imag\"__coeff_3',\n",
    " 'value__change_quantiles__f_agg_\"mean\"__isabs_True__qh_0.8__ql_0.0',\n",
    " 'value__standard_deviation',\n",
    " 'value__variance',\n",
    " 'value__agg_linear_trend__attr_\"stderr\"__chunk_len_50__f_agg_\"min\"',\n",
    " 'value__cid_ce__normalize_False',\n",
    " 'value__agg_linear_trend__attr_\"stderr\"__chunk_len_10__f_agg_\"min\"',\n",
    " 'value__fft_coefficient__attr_\"real\"__coeff_1',\n",
    " 'value__change_quantiles__f_agg_\"var\"__isabs_False__qh_0.6__ql_0.0',\n",
    "]\n",
    "need=[\n",
    "#  'value__ratio_beyond_r_sigma__r_3',\n",
    "#  'value__autocorrelation__lag_0',\n",
    " 'value__fft_coefficient__attr_\"imag\"__coeff_3',\n",
    "#  'value__last_location_of_minimum',\n",
    " 'value__first_location_of_minimum',\n",
    " 'value__fft_coefficient__attr_\"angle\"__coeff_3',\n",
    " 'value__fft_coefficient__attr_\"angle\"__coeff_2',\n",
    " 'value__fft_coefficient__attr_\"real\"__coeff_2',\n",
    "]\n",
    "fea_data=fea_data[need]\n",
    "n_fea_data=fea_data.iloc[:len(yin_data)]\n",
    "p_fea_data=fea_data.iloc[len(yin_data):]\n",
    "n_fea_data.reset_index(drop=True,inplace=True)\n",
    "p_fea_data.reset_index(drop=True,inplace=True)\n",
    "n_fea_data=pd.concat([yin_name,n_fea_data],axis=1)\n",
    "p_fea_data=pd.concat([yang_name,p_fea_data],axis=1)\n",
    "\n",
    "path = 'E:\\\\desktop\\\\data\\\\'\n",
    "n_fea_data.to_csv(path+'fea\\\\'+'[特征]'+yin,index=False,encoding='gbk')\n",
    "p_fea_data.to_csv(path+'fea\\\\'+'[特征]'+yang,index=False,encoding='gbk')"
   ]
  },
  {
   "cell_type": "code",
   "execution_count": null,
   "metadata": {},
   "outputs": [],
   "source": []
  }
 ],
 "metadata": {
  "kernelspec": {
   "display_name": "Python 3",
   "language": "python",
   "name": "python3"
  },
  "language_info": {
   "codemirror_mode": {
    "name": "ipython",
    "version": 3
   },
   "file_extension": ".py",
   "mimetype": "text/x-python",
   "name": "python",
   "nbconvert_exporter": "python",
   "pygments_lexer": "ipython3",
   "version": "3.6.13"
  }
 },
 "nbformat": 4,
 "nbformat_minor": 4
}
