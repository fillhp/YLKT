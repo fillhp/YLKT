{
 "cells": [
  {
   "cell_type": "code",
   "execution_count": 1,
   "metadata": {},
   "outputs": [],
   "source": [
    "import pandas as pd\n",
    "import time\n",
    "\n"
   ]
  },
  {
   "cell_type": "code",
   "execution_count": 2,
   "metadata": {},
   "outputs": [],
   "source": [
    "# path = r\"E:\\desktop\\result_pupil_阳性.csv\"\n",
    "path = r\"E:\\desktop\\result_pupil_阴性.csv\"\n",
    "\n",
    "data = pd.read_csv(path, index_col=[0], encoding=\"gbk\")\n",
    "# error_list = ['p9', 'p11', 'p13', 'p15', 'p17', 'p22', 'p25', 'p26', 'p27', 'p29', 'p31', 'p35', 'p40', 'p44', 'p48', 'p51', 'p53', 'p54', 'p60', 'p61', 'p63', 'p89', 'p94', 'p96', 'p97', 'p98', 'p103', 'p110', 'p112', 'p119', 'p129', 'p130', 'p131', 'p132', 'p136', 'p147', 'p156', 'p166', 'p171',\n",
    "#               'p175', 'p180', 'p185', 'p195', 'p197', 'p201', 'p203', 'p208', 'p217', 'p219', 'p223', 'p228', 'p232', 'p245', 'p251', 'p255', 'p258', 'p260', 'p277', 'p278', 'p292', 'p294', 'p297', 'p302', 'p307', 'p308', 'p317', 'p320', 'p323', 'p324', 'p326', 'p329', 'p340', 'p341', 'p343', 'p345', 'p350']\n",
    "\n",
    "error_list = ['n13', 'n28', 'n39', 'n40', 'n43', 'n77', 'n78', 'n82', 'n85', 'n109', 'n113', 'n114', 'n122', 'n127', 'n129', 'n130', 'n134', 'n135', 'n147', 'n154', 'n158', 'n192', 'n303',\n",
    "              'n323', 'n342', 'n347', 'n350', 'n354', 'n356', 'n357', 'n373', 'n394', 'n399', 'n516', 'n526', 'n527', 'n531', 'n532', 'n533', 'n537', 'n539', 'n547', 'n548', 'n549', 'n550',\n",
    "               'n551', 'n553', 'n554', 'n555', 'n559', 'n560', 'n564', 'n569', 'n571']\n",
    "\n",
    "right_list = list(set(data.index)-set(error_list))\n",
    "right_data = data.loc[right_list]\n",
    "error_data = data.loc[error_list]\n",
    "\n",
    "right_data.to_csv('正常'+str(time.time())+'.csv', encoding='gbk')\n",
    "error_data.to_csv('错误'+str(time.time())+'.csv', encoding='gbk')\n"
   ]
  }
 ],
 "metadata": {
  "kernelspec": {
   "display_name": "base",
   "language": "python",
   "name": "python3"
  },
  "language_info": {
   "codemirror_mode": {
    "name": "ipython",
    "version": 3
   },
   "file_extension": ".py",
   "mimetype": "text/x-python",
   "name": "python",
   "nbconvert_exporter": "python",
   "pygments_lexer": "ipython3",
   "version": "3.9.12"
  },
  "orig_nbformat": 4,
  "vscode": {
   "interpreter": {
    "hash": "7ff96eb9a7975995df6f2a519dfdaf1ac4286d951c67f8930a91d7be2fe6eb56"
   }
  }
 },
 "nbformat": 4,
 "nbformat_minor": 2
}
