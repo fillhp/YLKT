{
 "cells": [
  {
   "cell_type": "code",
   "execution_count": 67,
   "metadata": {},
   "outputs": [],
   "source": [
    "import pandas as pd\n",
    "import time\n",
    "import numpy as np\n",
    "from scipy import stats\n",
    "import json"
   ]
  },
  {
   "cell_type": "code",
   "execution_count": 68,
   "metadata": {},
   "outputs": [],
   "source": [
    "n='去异常 未归一N-all.csv'\n",
    "p='去异常 未归一P-all.csv'"
   ]
  },
  {
   "cell_type": "code",
   "execution_count": 69,
   "metadata": {},
   "outputs": [],
   "source": [
    "\n",
    "def read(tit):\n",
    "    path = 'E:\\\\desktop\\\\data\\\\app\\\\223\\\\fea\\\\'\n",
    "\n",
    "    #读取数据\n",
    "    try:\n",
    "        data = pd.read_csv(path+tit,encoding='gbk',index_col=0)\n",
    "    except:\n",
    "        data = pd.read_csv(path+tit,encoding='utf-8',index_col=0)\n",
    "\n",
    "    return data\n",
    "\n",
    "n_df=read(n)\n",
    "p_df=read(p)\n",
    "\n",
    "fea_df=pd.concat([n_df,p_df],axis=0)\n"
   ]
  },
  {
   "cell_type": "code",
   "execution_count": 70,
   "metadata": {},
   "outputs": [],
   "source": [
    "fea_list=list(fea_df.columns)\n",
    "norm_dict={}\n",
    "for fea in fea_list:\n",
    "    col=list(fea_df[fea])\n",
    "    higher = np.quantile(col, 0.75, interpolation='higher')  # 上四分位\n",
    "    lower = np.quantile(col, 0.25, interpolation='lower')  # 下四分位\n",
    "    iqr = higher - lower  # 四分位距\n",
    "    low, up = lower - 2 * iqr, higher + 2 * iqr\n",
    "    low_,up_= lower - 1 * iqr, higher + 1 * iqr\n",
    "    \n",
    "    for i in range(len(col)):\n",
    "        if col[i] > up:\n",
    "            col[i] = up_\n",
    "        elif col[i] < low:\n",
    "            col[i] = low_\n",
    "            \n",
    "    norm_dict[fea]=(min(col),max(col),lower,higher)\n",
    "\n",
    "# norm_dict"
   ]
  },
  {
   "attachments": {},
   "cell_type": "markdown",
   "metadata": {},
   "source": [
    "#### 保存normdict"
   ]
  },
  {
   "cell_type": "code",
   "execution_count": 71,
   "metadata": {},
   "outputs": [],
   "source": [
    "\n",
    "def default_dump(obj):\n",
    "    \"\"\"Convert numpy classes to JSON serializable objects.\"\"\"\n",
    "    if isinstance(obj, (np.integer, np.floating, np.bool_)):\n",
    "        return obj.item()\n",
    "    elif isinstance(obj, np.ndarray):\n",
    "        return obj.tolist()\n",
    "    else:\n",
    "        return obj\n",
    "norm_json=json.dumps(norm_dict,default=default_dump)\n",
    "with open('norm.json','w+') as file:\n",
    "    file.write(norm_json)"
   ]
  },
  {
   "attachments": {},
   "cell_type": "markdown",
   "metadata": {},
   "source": [
    "#### 保存归一化后的文件"
   ]
  },
  {
   "cell_type": "code",
   "execution_count": 72,
   "metadata": {},
   "outputs": [],
   "source": [
    "def pure3(fea_dict,norm_dict=norm_dict):\n",
    "    for fea in fea_dict.keys():\n",
    "        iqr=norm_dict[fea][3]-norm_dict[fea][2]\n",
    "        low, up = norm_dict[fea][2] - 2 * iqr, norm_dict[fea][3] + 2 * iqr\n",
    "        low_,up_= norm_dict[fea][2] - 1 * iqr, norm_dict[fea][3] + 1 * iqr\n",
    "        value=fea_dict[fea]\n",
    "        if value > up:\n",
    "            fea_dict[fea] = up_\n",
    "        elif value < low:\n",
    "            fea_dict[fea] = low_\n",
    "\n",
    "    return fea_dict\n",
    "\n",
    "\n",
    "# 归一化\n",
    "def normalization(fea_dict,norm_dict=norm_dict):\n",
    "\n",
    "    for fea in fea_dict.keys():\n",
    "        value = fea_dict[fea]\n",
    "        if value > norm_dict[fea][1]:\n",
    "            fea_dict[fea] = 1\n",
    "        elif value < norm_dict[fea][0]:\n",
    "            fea_dict[fea] = 0\n",
    "        else:\n",
    "            fea_dict[fea] = (value-norm_dict[fea][0])/(norm_dict[fea][1]-norm_dict[fea][0])\n",
    "\n",
    "    return fea_dict"
   ]
  },
  {
   "cell_type": "code",
   "execution_count": 73,
   "metadata": {},
   "outputs": [],
   "source": [
    "def go(data):\n",
    "    index=data.index\n",
    "    fea_list=list(data.columns)\n",
    "    fea_dict_all={}\n",
    "    for i in range(len(data)):\n",
    "        fea_dict=dict(data.iloc[i])\n",
    "        # fea_dict=pure3(fea_dict)\n",
    "        fea_dict=normalization(fea_dict)\n",
    "\n",
    "        for fea in fea_list:\n",
    "            if i ==0:\n",
    "                fea_dict_all[fea]=[]\n",
    "\n",
    "            fea_dict_all[fea].append(fea_dict[fea])\n",
    "    fea_df=pd.DataFrame(fea_dict_all,index=index)\n",
    "    return fea_df\n",
    "\n",
    "go(n_df).to_csv(\"E:\\\\desktop\\\\data\\\\app\\\\fea\\\\N_fea_11.csv\",encoding=\"gbk\")\n",
    "go(p_df).to_csv(\"E:\\\\desktop\\\\data\\\\app\\\\fea\\\\P_fea_11.csv\",encoding=\"gbk\")"
   ]
  }
 ],
 "metadata": {
  "kernelspec": {
   "display_name": "base",
   "language": "python",
   "name": "python3"
  },
  "language_info": {
   "codemirror_mode": {
    "name": "ipython",
    "version": 3
   },
   "file_extension": ".py",
   "mimetype": "text/x-python",
   "name": "python",
   "nbconvert_exporter": "python",
   "pygments_lexer": "ipython3",
   "version": "3.9.12"
  },
  "orig_nbformat": 4,
  "vscode": {
   "interpreter": {
    "hash": "7ff96eb9a7975995df6f2a519dfdaf1ac4286d951c67f8930a91d7be2fe6eb56"
   }
  }
 },
 "nbformat": 4,
 "nbformat_minor": 2
}
