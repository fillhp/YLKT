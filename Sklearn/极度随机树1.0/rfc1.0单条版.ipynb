{
 "cells": [
  {
   "cell_type": "code",
   "execution_count": 1,
   "metadata": {},
   "outputs": [],
   "source": [
    "from joblib import load\n",
    "import numpy as np\n",
    "import pandas as pd\n",
    "import sys\n",
    "sys.path.append(r\"G:\\item\\工作\\特征算法12\")\n",
    "import SingleFlash_125_Features"
   ]
  },
  {
   "cell_type": "code",
   "execution_count": 2,
   "metadata": {},
   "outputs": [],
   "source": [
    "row=[18.5,19,18.5,18.5,19,19,19,19,19,19,19,19,18.5,19,19,19,19,19,19,19,19,19,19,19,19,19.5,19.5,19,19,19,19.5,19.5,19,18,17.5,17,15.5,15,14.5,13.5,13,12.5,12.5,12,12,11.5,12,11.5,11.5,11.5,12,12.5,12.5,13,13,13.5,13.5,14,14.5,15,15,15.5,15.5,15.5,16,16,16,16.5,16.5,16.5,17,16.5,17,16.5,17,17,17,17.5,17.5,17,17.5,17.5,17.5,17.5,17.5,17.5,17.5,17.5,17.5,17.5,17.5,17,17.5,17.5,17.5,17.5,17.5,17.5,17.5,17.5,17.5,17.5,17.5,17.5,17.5,17.5,18,17.5,17.5,18,17.5,17.5,17.5,17.5,18,18,17.5,18,17.5,17.5,18,17.5,17.5,17.5,18]\n",
    "row=[37,37,37.5,37.5,37.5,37.5,38,38,37.5,37.5,37.5,38,38,38,38,38,38,38,38.5,38,38,38,38.5,38,38.5,38,38,38,37.5,38,38,38,38,38,37,36,35,34,33.5,32,32,31,31,30.5,30,29.5,29.5,29.5,29.5,30,30,29.5,30,30,30.5,30.5,31,31,31.5,32,32.5,32.5,32.5,33,33.5,33.5,33.5,33.5,34,34,34.5,34.5,34.5,34.5,35,35,35,35,35,35.5,35.5,35.5,35.5,35.5,35.5,36,36,36,36,36,36,36,36,36,36,36,36,36.5,36.5,36.5,36.5,36,36,36.5,36,36.5,36,36,36.5,36,36.5,36,36.5,36.5,36.5,36,36.5,37,36.5,36.5,36.5,36.5,36.5,36.5,36.5]\n"
   ]
  },
  {
   "cell_type": "code",
   "execution_count": 3,
   "metadata": {},
   "outputs": [
    {
     "name": "stdout",
     "output_type": "stream",
     "text": [
      "   maxindex  maxvalue  minindex  minvalue  retindex  retvalue    range1  \\\n",
      "0  0.777778  0.793616  0.388889  0.729393       1.0  0.734056  0.534918   \n",
      "\n",
      "     range2        F1        F2  ...  alt_stderr_min_50  alt_stderr_mean_10  \\\n",
      "0  0.427422  0.285714  0.818182  ...           0.502876            0.531578   \n",
      "\n",
      "   alt_stderr_mean_5  alt_stderr_max_5  alt_stderr_min_5  alt_stderr_max_10  \\\n",
      "0           0.533754          0.527994          0.533335           0.499506   \n",
      "\n",
      "   alt_rvalue_min_50  swd_coeff_2  erbc_num10_focus2  erbc_num10_focus4  \n",
      "0           0.535029     0.317463           0.496304           0.607983  \n",
      "\n",
      "[1 rows x 52 columns]\n"
     ]
    }
   ],
   "source": [
    "\n",
    "fea=SingleFlash_125_Features.all_features(row)\n",
    "fea=pd.DataFrame(fea, index=[0])\n",
    "print(fea)\n",
    "fea_dict = {\n",
    "    'all': ['fft_imag_3',\n",
    "            'fft_imag_6',\n",
    "            'fft_angle_6',\n",
    "            'fft_abs_1',\n",
    "            'fft_angle_3',\n",
    "            'asoc',\n",
    "            'mac',\n",
    "            'fft_angle_2',\n",
    "            'alt_stderr_min_50',\n",
    "            'S'],\n",
    "\n",
    "    'ice': [\n",
    "        'fft_imag_3',\n",
    "        'fft_angle_3',\n",
    "        'fft_angle_6',\n",
    "        'fft_imag_6',\n",
    "        'fft_real_2',\n",
    "        'S_down',\n",
    "        'maxvalue',\n",
    "    ],\n",
    "    'her': [\n",
    "        'fft_abs_1',\n",
    "        'stability',\n",
    "        'std1st_der',\n",
    "        'var',\n",
    "        'std',\n",
    "        'swd_coeff_2',\n",
    "        'range2',\n",
    "        'S_sum',\n",
    "    ],\n",
    "\n",
    "    'mix': [\n",
    "        'fft_imag_3',\n",
    "        'V2',\n",
    "        'fft_angle_2',\n",
    "        'retang',\n",
    "        'fft_real_2',\n",
    "        'fft_imag_6',\n",
    "        'fft_angle_3',\n",
    "        'fft_angle_6',\n",
    "    ]\n",
    "}\n"
   ]
  },
  {
   "cell_type": "markdown",
   "metadata": {},
   "source": [
    "##### 单种方式"
   ]
  },
  {
   "cell_type": "code",
   "execution_count": 4,
   "metadata": {},
   "outputs": [
    {
     "ename": "KeyError",
     "evalue": "\"['fft_angle_6'] not in index\"",
     "output_type": "error",
     "traceback": [
      "\u001b[1;31m---------------------------------------------------------------------------\u001b[0m",
      "\u001b[1;31mKeyError\u001b[0m                                  Traceback (most recent call last)",
      "\u001b[1;32mg:\\item\\工作\\Sklearn\\极度随机树\\rfc1.0单条版.ipynb 单元格 5\u001b[0m in \u001b[0;36m<cell line: 8>\u001b[1;34m()\u001b[0m\n\u001b[0;32m      <a href='vscode-notebook-cell:/g%3A/item/%E5%B7%A5%E4%BD%9C/Sklearn/%E6%9E%81%E5%BA%A6%E9%9A%8F%E6%9C%BA%E6%A0%91/rfc1.0%E5%8D%95%E6%9D%A1%E7%89%88.ipynb#W4sZmlsZQ%3D%3D?line=4'>5</a>\u001b[0m     y_pred\u001b[39m=\u001b[39mrfc\u001b[39m.\u001b[39mpredict(fea)\n\u001b[0;32m      <a href='vscode-notebook-cell:/g%3A/item/%E5%B7%A5%E4%BD%9C/Sklearn/%E6%9E%81%E5%BA%A6%E9%9A%8F%E6%9C%BA%E6%A0%91/rfc1.0%E5%8D%95%E6%9D%A1%E7%89%88.ipynb#W4sZmlsZQ%3D%3D?line=5'>6</a>\u001b[0m     \u001b[39mreturn\u001b[39;00m y_pred[\u001b[39m0\u001b[39m]\n\u001b[1;32m----> <a href='vscode-notebook-cell:/g%3A/item/%E5%B7%A5%E4%BD%9C/Sklearn/%E6%9E%81%E5%BA%A6%E9%9A%8F%E6%9C%BA%E6%A0%91/rfc1.0%E5%8D%95%E6%9D%A1%E7%89%88.ipynb#W4sZmlsZQ%3D%3D?line=7'>8</a>\u001b[0m go(\u001b[39m'\u001b[39;49m\u001b[39mice\u001b[39;49m\u001b[39m'\u001b[39;49m,fea_dict,fea)\n",
      "\u001b[1;32mg:\\item\\工作\\Sklearn\\极度随机树\\rfc1.0单条版.ipynb 单元格 5\u001b[0m in \u001b[0;36mgo\u001b[1;34m(way, fea_dict, fea)\u001b[0m\n\u001b[0;32m      <a href='vscode-notebook-cell:/g%3A/item/%E5%B7%A5%E4%BD%9C/Sklearn/%E6%9E%81%E5%BA%A6%E9%9A%8F%E6%9C%BA%E6%A0%91/rfc1.0%E5%8D%95%E6%9D%A1%E7%89%88.ipynb#W4sZmlsZQ%3D%3D?line=0'>1</a>\u001b[0m \u001b[39mdef\u001b[39;00m \u001b[39mgo\u001b[39m(way,fea_dict,fea):\n\u001b[0;32m      <a href='vscode-notebook-cell:/g%3A/item/%E5%B7%A5%E4%BD%9C/Sklearn/%E6%9E%81%E5%BA%A6%E9%9A%8F%E6%9C%BA%E6%A0%91/rfc1.0%E5%8D%95%E6%9D%A1%E7%89%88.ipynb#W4sZmlsZQ%3D%3D?line=1'>2</a>\u001b[0m     fea_list\u001b[39m=\u001b[39mfea_dict[way]\n\u001b[1;32m----> <a href='vscode-notebook-cell:/g%3A/item/%E5%B7%A5%E4%BD%9C/Sklearn/%E6%9E%81%E5%BA%A6%E9%9A%8F%E6%9C%BA%E6%A0%91/rfc1.0%E5%8D%95%E6%9D%A1%E7%89%88.ipynb#W4sZmlsZQ%3D%3D?line=2'>3</a>\u001b[0m     fea\u001b[39m=\u001b[39mfea[fea_list]\n\u001b[0;32m      <a href='vscode-notebook-cell:/g%3A/item/%E5%B7%A5%E4%BD%9C/Sklearn/%E6%9E%81%E5%BA%A6%E9%9A%8F%E6%9C%BA%E6%A0%91/rfc1.0%E5%8D%95%E6%9D%A1%E7%89%88.ipynb#W4sZmlsZQ%3D%3D?line=3'>4</a>\u001b[0m     rfc\u001b[39m=\u001b[39mload(\u001b[39m'\u001b[39m\u001b[39mrfc_\u001b[39m\u001b[39m'\u001b[39m\u001b[39m+\u001b[39mway\u001b[39m+\u001b[39m\u001b[39m'\u001b[39m\u001b[39m.joblib\u001b[39m\u001b[39m'\u001b[39m)\n\u001b[0;32m      <a href='vscode-notebook-cell:/g%3A/item/%E5%B7%A5%E4%BD%9C/Sklearn/%E6%9E%81%E5%BA%A6%E9%9A%8F%E6%9C%BA%E6%A0%91/rfc1.0%E5%8D%95%E6%9D%A1%E7%89%88.ipynb#W4sZmlsZQ%3D%3D?line=4'>5</a>\u001b[0m     y_pred\u001b[39m=\u001b[39mrfc\u001b[39m.\u001b[39mpredict(fea)\n",
      "File \u001b[1;32md:\\anaconada\\lib\\site-packages\\pandas\\core\\frame.py:3511\u001b[0m, in \u001b[0;36mDataFrame.__getitem__\u001b[1;34m(self, key)\u001b[0m\n\u001b[0;32m   3509\u001b[0m     \u001b[39mif\u001b[39;00m is_iterator(key):\n\u001b[0;32m   3510\u001b[0m         key \u001b[39m=\u001b[39m \u001b[39mlist\u001b[39m(key)\n\u001b[1;32m-> 3511\u001b[0m     indexer \u001b[39m=\u001b[39m \u001b[39mself\u001b[39;49m\u001b[39m.\u001b[39;49mcolumns\u001b[39m.\u001b[39;49m_get_indexer_strict(key, \u001b[39m\"\u001b[39;49m\u001b[39mcolumns\u001b[39;49m\u001b[39m\"\u001b[39;49m)[\u001b[39m1\u001b[39m]\n\u001b[0;32m   3513\u001b[0m \u001b[39m# take() does not accept boolean indexers\u001b[39;00m\n\u001b[0;32m   3514\u001b[0m \u001b[39mif\u001b[39;00m \u001b[39mgetattr\u001b[39m(indexer, \u001b[39m\"\u001b[39m\u001b[39mdtype\u001b[39m\u001b[39m\"\u001b[39m, \u001b[39mNone\u001b[39;00m) \u001b[39m==\u001b[39m \u001b[39mbool\u001b[39m:\n",
      "File \u001b[1;32md:\\anaconada\\lib\\site-packages\\pandas\\core\\indexes\\base.py:5782\u001b[0m, in \u001b[0;36mIndex._get_indexer_strict\u001b[1;34m(self, key, axis_name)\u001b[0m\n\u001b[0;32m   5779\u001b[0m \u001b[39melse\u001b[39;00m:\n\u001b[0;32m   5780\u001b[0m     keyarr, indexer, new_indexer \u001b[39m=\u001b[39m \u001b[39mself\u001b[39m\u001b[39m.\u001b[39m_reindex_non_unique(keyarr)\n\u001b[1;32m-> 5782\u001b[0m \u001b[39mself\u001b[39;49m\u001b[39m.\u001b[39;49m_raise_if_missing(keyarr, indexer, axis_name)\n\u001b[0;32m   5784\u001b[0m keyarr \u001b[39m=\u001b[39m \u001b[39mself\u001b[39m\u001b[39m.\u001b[39mtake(indexer)\n\u001b[0;32m   5785\u001b[0m \u001b[39mif\u001b[39;00m \u001b[39misinstance\u001b[39m(key, Index):\n\u001b[0;32m   5786\u001b[0m     \u001b[39m# GH 42790 - Preserve name from an Index\u001b[39;00m\n",
      "File \u001b[1;32md:\\anaconada\\lib\\site-packages\\pandas\\core\\indexes\\base.py:5845\u001b[0m, in \u001b[0;36mIndex._raise_if_missing\u001b[1;34m(self, key, indexer, axis_name)\u001b[0m\n\u001b[0;32m   5842\u001b[0m     \u001b[39mraise\u001b[39;00m \u001b[39mKeyError\u001b[39;00m(\u001b[39mf\u001b[39m\u001b[39m\"\u001b[39m\u001b[39mNone of [\u001b[39m\u001b[39m{\u001b[39;00mkey\u001b[39m}\u001b[39;00m\u001b[39m] are in the [\u001b[39m\u001b[39m{\u001b[39;00maxis_name\u001b[39m}\u001b[39;00m\u001b[39m]\u001b[39m\u001b[39m\"\u001b[39m)\n\u001b[0;32m   5844\u001b[0m not_found \u001b[39m=\u001b[39m \u001b[39mlist\u001b[39m(ensure_index(key)[missing_mask\u001b[39m.\u001b[39mnonzero()[\u001b[39m0\u001b[39m]]\u001b[39m.\u001b[39munique())\n\u001b[1;32m-> 5845\u001b[0m \u001b[39mraise\u001b[39;00m \u001b[39mKeyError\u001b[39;00m(\u001b[39mf\u001b[39m\u001b[39m\"\u001b[39m\u001b[39m{\u001b[39;00mnot_found\u001b[39m}\u001b[39;00m\u001b[39m not in index\u001b[39m\u001b[39m\"\u001b[39m)\n",
      "\u001b[1;31mKeyError\u001b[0m: \"['fft_angle_6'] not in index\""
     ]
    }
   ],
   "source": [
    "def go(way,fea_dict,fea):\n",
    "    fea_list=fea_dict[way]\n",
    "    fea=fea[fea_list]\n",
    "    rfc=load('rfc_'+way+'.joblib')\n",
    "    y_pred=rfc.predict(fea)\n",
    "    return y_pred[0]\n",
    "\n",
    "go('ice',fea_dict,fea)"
   ]
  },
  {
   "attachments": {},
   "cell_type": "markdown",
   "metadata": {},
   "source": [
    "##### 多种方式"
   ]
  },
  {
   "cell_type": "code",
   "execution_count": null,
   "metadata": {},
   "outputs": [
    {
     "data": {
      "text/plain": [
       "1"
      ]
     },
     "execution_count": 14,
     "metadata": {},
     "output_type": "execute_result"
    }
   ],
   "source": [
    "ret=[go(way,fea_dict,fea) for way in ('ice','her','mix','all')]\n",
    "\n",
    "p_num=0\n",
    "if sum(ret[:3])>=1 and ret[3]==1:\n",
    "    p_num+=1\n",
    "\n",
    "p_num"
   ]
  }
 ],
 "metadata": {
  "kernelspec": {
   "display_name": "base",
   "language": "python",
   "name": "python3"
  },
  "language_info": {
   "codemirror_mode": {
    "name": "ipython",
    "version": 3
   },
   "file_extension": ".py",
   "mimetype": "text/x-python",
   "name": "python",
   "nbconvert_exporter": "python",
   "pygments_lexer": "ipython3",
   "version": "3.9.12"
  },
  "orig_nbformat": 4,
  "vscode": {
   "interpreter": {
    "hash": "7ff96eb9a7975995df6f2a519dfdaf1ac4286d951c67f8930a91d7be2fe6eb56"
   }
  }
 },
 "nbformat": 4,
 "nbformat_minor": 2
}
