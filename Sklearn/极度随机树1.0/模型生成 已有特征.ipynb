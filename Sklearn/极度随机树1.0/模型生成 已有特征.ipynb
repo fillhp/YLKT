{
 "cells": [
  {
   "cell_type": "markdown",
   "metadata": {},
   "source": [
    "##### 导入库"
   ]
  },
  {
   "cell_type": "code",
   "execution_count": 414,
   "metadata": {},
   "outputs": [],
   "source": [
    "import pandas as pd\n",
    "import numpy as np\n",
    "from sklearn.ensemble import ExtraTreesClassifier\n",
    "from sklearn.feature_selection import SelectFromModel\n",
    "from sklearn import tree\n",
    "from collections import Counter\n",
    "from sklearn.utils import shuffle\n",
    "from sklearn.model_selection import train_test_split\n",
    "from imblearn.over_sampling import SVMSMOTE,SMOTE\n",
    "from joblib import dump,load\n",
    "from sklearn.model_selection import GridSearchCV"
   ]
  },
  {
   "cell_type": "markdown",
   "metadata": {},
   "source": [
    "##### 选择数据"
   ]
  },
  {
   "cell_type": "code",
   "execution_count": 415,
   "metadata": {},
   "outputs": [],
   "source": [
    "n='N_all.csv'\n",
    "p='P_all.csv'\n",
    "p='P_ice.csv'\n",
    "p='P_her.csv'\n",
    "p='P_mix.csv'\n",
    "# p='P_ice1.csv'\n",
    "way=\"mix\"\n"
   ]
  },
  {
   "cell_type": "markdown",
   "metadata": {},
   "source": [
    "##### 读取数据"
   ]
  },
  {
   "cell_type": "code",
   "execution_count": 416,
   "metadata": {},
   "outputs": [
    {
     "name": "stdout",
     "output_type": "stream",
     "text": [
      "523 75\n"
     ]
    }
   ],
   "source": [
    "fea_dict={\n",
    "    'all':[\n",
    "  \"minvalue\",\n",
    "  \"retang\",\n",
    "  \"fft_abs_22\",\n",
    "  \"fft_real_2\",\n",
    "  \"lumpiness\",\n",
    "  \"fft_real_5\",\n",
    "  \"fft_angle_3\",\n",
    "  \"alt_stderr_min_50\",\n",
    "  \"fft_imag_6\",\n",
    "  \"erbc_num10_focus2\",\n",
    "  \"fft_imag_3\",\n",
    "  \"alt_rvalue_min_50\"\n",
    "],\n",
    "\n",
    "\n",
    " 'ice':[\n",
    "  \"retang\",\n",
    "  \"erbc_num10_focus4\",\n",
    "  \"fft_abs_22\",\n",
    "  \"fft_real_2\",\n",
    "  \"minindex\",\n",
    "  \"alt_rvalue_min_50\",\n",
    "  \"F2\",\n",
    "  \"fft_imag_6\",\n",
    "  \"asoc\",\n",
    "],\n",
    "\n",
    " 'her':[\n",
    "\"fft_real_2\",\n",
    "\"fft_real_5\",\n",
    "\"dmq\",\n",
    "\"fft_angle_3\",\n",
    "\"erbc_num10_focus2\",\n",
    "\"fft_imag_3\",\n",
    "\"alt_rvalue_min_50\"\n",
    "],\n",
    "\n",
    "'mix':[\n",
    "\"minvalue\",\n",
    "\"cv\",\n",
    "\"lumpiness\",\n",
    "\"alt_rvalue_min_50\",\n",
    "\"fft_angle_3\",\n",
    "\"alt_stderr_min_50\",\n",
    "\"maxindex\"\n",
    "]\n",
    "}\n",
    "\n",
    "fea_list=fea_dict[way]\n",
    "\n",
    "def read_data(tit):\n",
    "    path = 'E:\\\\desktop\\\\data\\\\app\\\\fea\\\\'\n",
    "    #读取数据\n",
    "    data = pd.read_csv(path+tit,encoding='gbk')\n",
    "    data = data.set_index('name')\n",
    "    return data\n",
    "\n",
    "n_fea=read_data(n)\n",
    "p_fea=read_data(p)\n",
    "\n",
    "n_fea[\"tag\"]=[0 for i in range(len(n_fea))]\n",
    "p_fea[\"tag\"]=[1 for i in range(len(p_fea))]\n",
    "\n",
    "print(len(n_fea),len(p_fea))\n"
   ]
  },
  {
   "attachments": {},
   "cell_type": "markdown",
   "metadata": {},
   "source": [
    "##### 过采样"
   ]
  },
  {
   "cell_type": "code",
   "execution_count": 417,
   "metadata": {},
   "outputs": [
    {
     "name": "stdout",
     "output_type": "stream",
     "text": [
      "(1046, 7)\n"
     ]
    }
   ],
   "source": [
    "#过采样\n",
    "over=SMOTE(random_state=0)\n",
    "# over=SVMSMOTE(random_state=0)\n",
    "np_fea=shuffle(pd.concat([n_fea,p_fea],axis=0))\n",
    "x_data_=np_fea[fea_list]\n",
    "y_data_=np_fea[\"tag\"]\n",
    "\n",
    "x_data,y_data=over.fit_resample(x_data_,y_data_)\n",
    "\n",
    "#切分\n",
    "x_train,x_test,y_train,y_test=train_test_split(x_data,y_data,test_size=0.3)\n",
    "print(x_data.shape)"
   ]
  },
  {
   "cell_type": "code",
   "execution_count": 418,
   "metadata": {},
   "outputs": [],
   "source": [
    "def jugde(y_pred,y_true):\n",
    "    tn,fn,tp,fp=0,0,0,0\n",
    "    for i in range(len(y_pred)):\n",
    "        \n",
    "        if y_pred[i]==y_true[i]:\n",
    "            if y_true[i]:\n",
    "                tp+=1\n",
    "            else:\n",
    "                tn+=1\n",
    "        else:\n",
    "            if y_true[i]:\n",
    "                fp+=1\n",
    "            else:\n",
    "                fn+=1\n",
    "\n",
    "    print(\"检出率： \",tp,\"/\",tp+fp,' ',round(tp*100/(tp+fp),2),\"%\")\n",
    "    print(\"误判率： \",fn,\"/\",tn+fn,' ',round(fn*100/(tn+fn),2),\"%\")\n",
    "    print(\"精确率： \",(tn+tp),\"/\",(tn+fp+tp+fp),' ',round((tn+tp)*100/(tn+fp+tp+fp),2),\"%\")\n"
   ]
  },
  {
   "attachments": {},
   "cell_type": "markdown",
   "metadata": {},
   "source": [
    "##### 搭建模型"
   ]
  },
  {
   "cell_type": "code",
   "execution_count": 419,
   "metadata": {},
   "outputs": [
    {
     "name": "stdout",
     "output_type": "stream",
     "text": [
      "      minvalue        cv  lumpiness  alt_rvalue_min_50  fft_angle_3  \\\n",
      "677   0.467616  0.635118   0.425456           0.421369     0.487048   \n",
      "343   0.269224  0.998369   0.680464           0.418423     0.257296   \n",
      "966   0.567514  0.524213   0.310846           0.404649     0.511186   \n",
      "845   0.550461  0.249609   0.120246           0.588397     0.463326   \n",
      "425   0.703754  0.281212   0.045694           0.527916     0.630328   \n",
      "...        ...       ...        ...                ...          ...   \n",
      "224   0.510855  0.500465   0.168171           0.452289     0.576785   \n",
      "475   0.211702  0.635247   0.067314           0.851781     0.728998   \n",
      "52    0.449426  0.487368   0.680464           0.175407     0.000000   \n",
      "128   0.588714  0.590317   0.478882           0.376205     0.334731   \n",
      "1014  0.541462  0.411575   0.120589           0.473891     0.748917   \n",
      "\n",
      "      alt_stderr_min_50  maxindex  \n",
      "677            0.705624  0.511562  \n",
      "343            1.000000  0.400000  \n",
      "966            0.641835  0.400000  \n",
      "845            0.316297  1.000000  \n",
      "425            0.437123  0.200000  \n",
      "...                 ...       ...  \n",
      "224            0.590797  0.200000  \n",
      "475            0.275420  0.200000  \n",
      "52             0.782081  0.600000  \n",
      "128            0.556875  0.600000  \n",
      "1014           0.476681  0.200000  \n",
      "\n",
      "[314 rows x 7 columns]\n",
      "测试集中：\n",
      "检出率：  148 / 155   95.48 %\n",
      "误判率：  29 / 159   18.24 %\n",
      "精确率：  278 / 292   95.21 %\n",
      "所有数据中：\n",
      "检出率：  73 / 75   97.33 %\n",
      "误判率：  29 / 523   5.54 %\n",
      "精确率：  567 / 571   99.3 %\n"
     ]
    },
    {
     "data": {
      "text/plain": [
       "0.8853503184713376"
      ]
     },
     "execution_count": 419,
     "metadata": {},
     "output_type": "execute_result"
    }
   ],
   "source": [
    "etc=ExtraTreesClassifier(random_state=0)\n",
    "etc.fit(x_train,y_train)\n",
    "y_pred=etc.predict(x_test)\n",
    "\n",
    "print(\"测试集中：\")\n",
    "jugde(y_pred,list(y_test))\n",
    "\n",
    "print(\"所有数据中：\")\n",
    "y_pred=etc.predict(x_data_)\n",
    "jugde(y_pred,list(y_data_))\n",
    "\n",
    "etc.score(x_test,y_test)"
   ]
  },
  {
   "cell_type": "code",
   "execution_count": 420,
   "metadata": {},
   "outputs": [],
   "source": [
    "# #保存模型\n",
    "# dump(etc,'etc_'+way+\".joblib\")\n",
    "# print(\"保存成功\")"
   ]
  }
 ],
 "metadata": {
  "kernelspec": {
   "display_name": "Python 3.9.12 ('base')",
   "language": "python",
   "name": "python3"
  },
  "language_info": {
   "codemirror_mode": {
    "name": "ipython",
    "version": 3
   },
   "file_extension": ".py",
   "mimetype": "text/x-python",
   "name": "python",
   "nbconvert_exporter": "python",
   "pygments_lexer": "ipython3",
   "version": "3.9.12"
  },
  "orig_nbformat": 4,
  "vscode": {
   "interpreter": {
    "hash": "7ff96eb9a7975995df6f2a519dfdaf1ac4286d951c67f8930a91d7be2fe6eb56"
   }
  }
 },
 "nbformat": 4,
 "nbformat_minor": 2
}
