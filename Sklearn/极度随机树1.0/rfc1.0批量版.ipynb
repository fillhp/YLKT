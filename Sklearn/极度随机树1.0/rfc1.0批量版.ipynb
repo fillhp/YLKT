{
 "cells": [
  {
   "cell_type": "code",
   "execution_count": 1,
   "metadata": {},
   "outputs": [],
   "source": [
    "from joblib import load\n",
    "import numpy as np\n",
    "import pandas as pd\n"
   ]
  },
  {
   "cell_type": "code",
   "execution_count": 2,
   "metadata": {},
   "outputs": [],
   "source": [
    "fea_dict={\n",
    "    'all':[\n",
    "  \"minvalue\",\n",
    "  \"retang\",\n",
    "  \"fft_abs_22\",\n",
    "  \"fft_real_2\",\n",
    "  \"lumpiness\",\n",
    "  \"fft_real_5\",\n",
    "  \"fft_angle_3\",\n",
    "  \"alt_stderr_min_50\",\n",
    "  \"fft_imag_6\",\n",
    "  \"erbc_num10_focus2\",\n",
    "  \"fft_imag_3\",\n",
    "  \"alt_rvalue_min_50\"\n",
    "],\n",
    "\n",
    "\n",
    " 'ice':[\n",
    "  \"retang\",\n",
    "  \"erbc_num10_focus4\",\n",
    "  \"fft_abs_22\",\n",
    "  \"fft_real_2\",\n",
    "  \"minindex\",\n",
    "  \"alt_rvalue_min_50\",\n",
    "  \"F2\",\n",
    "  \"fft_imag_6\",\n",
    "  \"asoc\",\n",
    "],\n",
    "\n",
    " 'her':[\n",
    "\"fft_real_2\",\n",
    "\"fft_real_5\",\n",
    "\"dmq\",\n",
    "\"fft_angle_3\",\n",
    "\"erbc_num10_focus2\",\n",
    "\"fft_imag_3\",\n",
    "\"alt_rvalue_min_50\"\n",
    "],\n",
    "\n",
    "'mix':[\n",
    "\"minvalue\",\n",
    "\"cv\",\n",
    "\"lumpiness\",\n",
    "\"alt_rvalue_min_50\",\n",
    "\"fft_angle_3\",\n",
    "\"alt_stderr_min_50\",\n",
    "\"maxindex\"\n",
    "]\n",
    "}\n"
   ]
  },
  {
   "cell_type": "markdown",
   "metadata": {},
   "source": [
    "##### 单种方式"
   ]
  },
  {
   "cell_type": "code",
   "execution_count": 3,
   "metadata": {},
   "outputs": [],
   "source": [
    "def go(way,fea_dict,fea):\n",
    "\n",
    "    print(fea)\n",
    "    rfc=load('etc_'+way+'.joblib')\n",
    "    \n",
    "    print(1)\n",
    "    return \n"
   ]
  },
  {
   "attachments": {},
   "cell_type": "markdown",
   "metadata": {},
   "source": [
    "##### 多种方式"
   ]
  },
  {
   "cell_type": "code",
   "execution_count": 4,
   "metadata": {},
   "outputs": [
    {
     "name": "stdout",
     "output_type": "stream",
     "text": [
      "ice 203 / 360 0.5638888888888889\n",
      "her 273 / 360 0.7583333333333333\n",
      "mix 247 / 360 0.6861111111111111\n",
      "all 341 / 360 0.9472222222222222\n",
      "(ice or her or mix) and all 318 / 360 0.8833333333333333\n",
      "(ice or her) and all 281 / 360 0.7805555555555556\n",
      "四选二 319 / 360 0.8861111111111111\n"
     ]
    }
   ],
   "source": [
    "n='N_all.csv'\n",
    "p='P_all.csv'\n",
    "# p='P_ice.csv'\n",
    "# p='P_her.csv'\n",
    "# p='P_mix.csv'\n",
    "# p='P_ice1.csv'\n",
    "# way=\"mix\"\n",
    "\n",
    "# fea_list=fea_dict[way]\n",
    "all_mod=load('etc_all.joblib')\n",
    "ice_mod=load('etc_ice.joblib')\n",
    "her_mod=load('etc_her.joblib')\n",
    "mix_mod=load('etc_mix.joblib')\n",
    "\n",
    "\n",
    "def read_data(tit):\n",
    "    path = 'E:\\\\desktop\\\\data\\\\app\\\\fea\\\\'\n",
    "    #读取数据\n",
    "    data = pd.read_csv(path+tit,encoding='gbk')\n",
    "    data = data.set_index('name')\n",
    "    return data\n",
    "\n",
    "\n",
    "fea_data=read_data(p)\n",
    "\n",
    "result={'name':list(fea_data.index),'ice':[],'her':[],'mix':[],'all':[]}\n",
    "for way in ('ice','her','mix','all'):\n",
    "    fea_list=fea_dict[way]\n",
    "    fea_temp=fea_data[fea_list]\n",
    "    y_pred=eval(way+\"_mod.predict(fea_temp)\")\n",
    "    result[way]=list(y_pred)\n",
    "\n",
    "result=pd.DataFrame(result)\n",
    "result=result.set_index('name',drop=True)\n",
    "\n",
    "youla={\"(ice or her or mix) and all\":[],\"(ice or her) and all\":[],\"四选二\":[]}\n",
    "for i in range(len(result)):\n",
    "    row=list(result.iloc[i])\n",
    "    if sum(row[:3])>=1 and row[3]==1:\n",
    "        youla[\"(ice or her or mix) and all\"].append(1)\n",
    "    else:\n",
    "        youla[\"(ice or her or mix) and all\"].append(0)\n",
    "\n",
    "    if sum(row[:2])>=1 and row[3]==1:\n",
    "        youla[\"(ice or her) and all\"].append(1)\n",
    "    else:\n",
    "        youla[\"(ice or her) and all\"].append(0)\n",
    "\n",
    "    if sum(row)>=2:\n",
    "        youla[\"四选二\"].append(1)\n",
    "    else:\n",
    "        youla[\"四选二\"].append(0)\n",
    "\n",
    "youla=pd.DataFrame(youla,index=result.index)\n",
    "result=pd.concat([result,youla],axis=1)\n",
    "psum=len(result)\n",
    "for key in result.columns:\n",
    "    p=sum(result[key])\n",
    "    print(key,p,'/',psum,p/psum)"
   ]
  }
 ],
 "metadata": {
  "kernelspec": {
   "display_name": "base",
   "language": "python",
   "name": "python3"
  },
  "language_info": {
   "codemirror_mode": {
    "name": "ipython",
    "version": 3
   },
   "file_extension": ".py",
   "mimetype": "text/x-python",
   "name": "python",
   "nbconvert_exporter": "python",
   "pygments_lexer": "ipython3",
   "version": "3.9.12"
  },
  "orig_nbformat": 4,
  "vscode": {
   "interpreter": {
    "hash": "7ff96eb9a7975995df6f2a519dfdaf1ac4286d951c67f8930a91d7be2fe6eb56"
   }
  }
 },
 "nbformat": 4,
 "nbformat_minor": 2
}
