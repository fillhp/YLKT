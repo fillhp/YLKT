{
 "cells": [
  {
   "cell_type": "markdown",
   "metadata": {},
   "source": [
    "##### 导入库"
   ]
  },
  {
   "cell_type": "code",
   "execution_count": 37,
   "metadata": {},
   "outputs": [],
   "source": [
    "import pandas as pd\n",
    "import numpy as np\n",
    "from sklearn.ensemble import RandomForestClassifier\n",
    "from sklearn.feature_selection import SelectFromModel\n",
    "from collections import Counter\n",
    "from sklearn.utils import shuffle\n",
    "from sklearn.model_selection import train_test_split\n",
    "\n",
    "import sys\n",
    "sys.path.append(r\"G:\\item\\工作\\特征算法12.1\")\n",
    "import SingleFlash_125_Features"
   ]
  },
  {
   "cell_type": "markdown",
   "metadata": {},
   "source": [
    "##### 选择数据"
   ]
  },
  {
   "cell_type": "code",
   "execution_count": 38,
   "metadata": {},
   "outputs": [],
   "source": [
    "n='★阴性整合.csv'\n",
    "n='alln++.csv'\n",
    "# p='★阳性整合.csv'\n",
    "# p='纯冰毒-重复.csv'\n",
    "p='纯海洛因-重复.csv'\n",
    "# p=\"混吸.csv\"\n",
    "way=\"ice\""
   ]
  },
  {
   "cell_type": "markdown",
   "metadata": {},
   "source": [
    "##### 读取数据"
   ]
  },
  {
   "cell_type": "code",
   "execution_count": 39,
   "metadata": {},
   "outputs": [
    {
     "name": "stdout",
     "output_type": "stream",
     "text": [
      "556 174\n"
     ]
    }
   ],
   "source": [
    "fea_dict={\n",
    "    'all':[\n",
    "\"retang\",\n",
    "\"fft_real_2\",\n",
    "\"minindex\",\n",
    "\"lumpiness\",\n",
    "\"fft_angle_3\",\n",
    "\"fft_imag_6\",\n",
    "\"alt_stderr_min_50\",\n",
    "\"erbc_num10_focus2\",\n",
    "\"fft_imag_3\",\n",
    "\"alt_rvalue_min_50\"\n",
    "],\n",
    "\n",
    " 'ice':[\n",
    "\"fft_abs_22\",\n",
    "\"lumpiness\",\n",
    "\"fft_real_5\",\n",
    "\"maxvalue\",\n",
    "\"fft_imag_6\",\n",
    "\"erbc_num10_focus2\",\n",
    "\"fft_imag_3\",\n",
    "\"maxindex\"\n",
    "],\n",
    "\n",
    " 'her':[\n",
    "\"fft_real_2\",\n",
    "\"fft_real_5\",\n",
    "\"dmq\",\n",
    "\"fft_angle_3\",\n",
    "\"erbc_num10_focus2\",\n",
    "\"fft_imag_3\",\n",
    "\"alt_rvalue_min_50\"\n",
    "],\n",
    "\n",
    "'mix':[\n",
    "\"minvalue\",\n",
    "\"cv\",\n",
    "\"lumpiness\",\n",
    "\"alt_rvalue_min_50\",\n",
    "\"fft_angle_3\",\n",
    "\"alt_stderr_min_50\",\n",
    "\"maxindex\"\n",
    "]\n",
    "}\n",
    "\n",
    "fea_list=fea_dict[way]\n",
    "def read_data(tit,fea_list):\n",
    "    path = 'E:\\\\desktop\\\\data\\\\'\n",
    "\n",
    "    #读取数据\n",
    "    try:\n",
    "        data = pd.read_csv(path+tit,encoding='gbk')\n",
    "    except:\n",
    "        data = pd.read_csv(path+tit,encoding='utf-8')\n",
    "\n",
    "    name=pd.DataFrame(list(data.iloc[:,0]),columns=[\"name\"])\n",
    "\n",
    "    try:\n",
    "        # 对瞳孔半径列进行分割\n",
    "        df=data['瞳孔半径'].astype('str').str.split(',',expand=True)\n",
    "        # 修改分割后的字段名称\n",
    "        df.columns=[str(i) for i in df.columns]\n",
    "    except:\n",
    "        df=pd.DataFrame(data.iloc[:,1:126])\n",
    "\n",
    "    df=df.astype('float')\n",
    "\n",
    "    fea_dict=dict(zip(fea_list,[[] for i in range(len(fea_list))]))\n",
    "\n",
    "\n",
    "    for i in range(len(df)):\n",
    "        row=list(df.iloc[i])\n",
    "        ret=SingleFlash_125_Features.all_features(row)\n",
    "        for fea in fea_list:\n",
    "            fea_dict[fea].append(ret[fea])\n",
    "    fea_df=pd.DataFrame(fea_dict)\n",
    "    fea_df=shuffle(fea_df)\n",
    "    return fea_df\n",
    "\n",
    "n_fea=read_data(n,fea_list)\n",
    "p_fea=read_data(p,fea_list)\n",
    "\n",
    "n_fea[\"tag\"]=[0 for i in range(len(n_fea))]\n",
    "p_fea[\"tag\"]=[1 for i in range(len(p_fea))]\n",
    "\n",
    "print(len(n_fea),len(p_fea))\n"
   ]
  },
  {
   "attachments": {},
   "cell_type": "markdown",
   "metadata": {},
   "source": [
    "##### 过采样"
   ]
  },
  {
   "cell_type": "code",
   "execution_count": 40,
   "metadata": {},
   "outputs": [
    {
     "name": "stdout",
     "output_type": "stream",
     "text": [
      "(1112, 9)\n"
     ]
    }
   ],
   "source": [
    "#过采样\n",
    "from imblearn.over_sampling import SVMSMOTE\n",
    "svmsomte=SVMSMOTE(random_state=42)\n",
    "\n",
    "np_fea=shuffle(pd.concat([n_fea,p_fea],axis=0))\n",
    "x_data_=np_fea[fea_list]\n",
    "y_data_=np_fea[\"tag\"]\n",
    "\n",
    "x_data,y_data=svmsomte.fit_resample(x_data_,y_data_)\n",
    "\n",
    "#切分\n",
    "x_train,x_test,y_train,y_test=train_test_split(x_data,y_data,test_size=0.3)\n",
    "print(x_data.shape)"
   ]
  },
  {
   "cell_type": "code",
   "execution_count": 41,
   "metadata": {},
   "outputs": [],
   "source": [
    "def jugde(y_pred,y_true):\n",
    "    tn,fn,tp,fp=0,0,0,0\n",
    "    for i in range(len(y_pred)):\n",
    "        \n",
    "        if y_pred[i]==y_true[i]:\n",
    "            if y_true[i]:\n",
    "                tp+=1\n",
    "            else:\n",
    "                tn+=1\n",
    "        else:\n",
    "            if y_true[i]:\n",
    "                fp+=1\n",
    "            else:\n",
    "                fn+=1\n",
    "\n",
    "    print(\"检出率： \",tp,\"/\",tp+fp,' ',round(tp*100/(tp+fp),2),\"%\")\n",
    "    print(\"误判率： \",fn,\"/\",tn+fn,' ',round(fn*100/(tn+fn),2),\"%\")\n",
    "    print(\"精确率： \",(tn+tp),\"/\",(tn+fp+tp+fp),' ',round((tn+tp)*100/(tn+fp+tp+fp),2),\"%\")\n"
   ]
  },
  {
   "attachments": {},
   "cell_type": "markdown",
   "metadata": {},
   "source": [
    "##### 搭建模型"
   ]
  },
  {
   "cell_type": "code",
   "execution_count": 42,
   "metadata": {},
   "outputs": [
    {
     "name": "stdout",
     "output_type": "stream",
     "text": [
      "测试集中：\n",
      "检出率：  165 / 180   91.67 %\n",
      "误判率：  15 / 154   9.74 %\n",
      "精确率：  304 / 334   91.02 %\n",
      "所有数据中：\n",
      "检出率：  165 / 174   94.83 %\n",
      "误判率：  15 / 556   2.7 %\n",
      "精确率：  706 / 724   97.51 %\n",
      "保存成功\n"
     ]
    }
   ],
   "source": [
    "\n",
    "#导入模型存储和加载方法\n",
    "from joblib import dump,load\n",
    "\n",
    "#n_estimators决策树数量 RandomForestClassifier\n",
    "# rfc=RandomForestClassifier(n_estimators=400,max_depth=20,class_weight='balanced') #海洛因\n",
    "rfc=RandomForestClassifier(n_estimators=700)\n",
    "rfc.fit(x_train,y_train)\n",
    "y_pred=rfc.predict(x_test)\n",
    "\n",
    "print(\"测试集中：\")\n",
    "jugde(y_pred,list(y_test))\n",
    "\n",
    "print(\"所有数据中：\")\n",
    "y_pred=rfc.predict(x_data_)\n",
    "jugde(y_pred,list(y_data_))\n",
    "\n",
    "\n",
    "#保存模型\n",
    "dump(rfc,'rfc_'+way+\".joblib\")\n",
    "print(\"保存成功\")"
   ]
  }
 ],
 "metadata": {
  "kernelspec": {
   "display_name": "Python 3.9.12 ('base')",
   "language": "python",
   "name": "python3"
  },
  "language_info": {
   "codemirror_mode": {
    "name": "ipython",
    "version": 3
   },
   "file_extension": ".py",
   "mimetype": "text/x-python",
   "name": "python",
   "nbconvert_exporter": "python",
   "pygments_lexer": "ipython3",
   "version": "3.9.12"
  },
  "orig_nbformat": 4,
  "vscode": {
   "interpreter": {
    "hash": "7ff96eb9a7975995df6f2a519dfdaf1ac4286d951c67f8930a91d7be2fe6eb56"
   }
  }
 },
 "nbformat": 4,
 "nbformat_minor": 2
}
