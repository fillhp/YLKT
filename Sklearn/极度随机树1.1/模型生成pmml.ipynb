{
 "cells": [
  {
   "cell_type": "markdown",
   "metadata": {},
   "source": [
    "##### 导入库"
   ]
  },
  {
   "cell_type": "code",
   "execution_count": 57,
   "metadata": {},
   "outputs": [],
   "source": [
    "import pandas as pd\n",
    "from sklearn.ensemble import ExtraTreesClassifier,RandomForestClassifier\n",
    "from sklearn.feature_selection import SelectFromModel\n",
    "from sklearn import tree\n",
    "from collections import Counter\n",
    "from sklearn.utils import shuffle\n",
    "from sklearn.model_selection import train_test_split\n",
    "from imblearn.over_sampling import SVMSMOTE,SMOTE\n",
    "from sklearn.model_selection import GridSearchCV\n",
    "from skl2onnx.common.data_types import FloatTensorType\n",
    "from skl2onnx import convert_sklearn\n",
    "import numpy as np\n",
    "# from joblib import load,\n",
    "import joblib\n",
    "import onnxruntime as rt\n",
    "\n",
    "from sklearn2pmml.pipeline import PMMLPipeline\n",
    "\n",
    "from sklearn2pmml import sklearn2pmml\n",
    "from pypmml import Model"
   ]
  },
  {
   "cell_type": "markdown",
   "metadata": {},
   "source": [
    "##### 选择数据"
   ]
  },
  {
   "cell_type": "code",
   "execution_count": 58,
   "metadata": {},
   "outputs": [],
   "source": [
    "n='n.csv'\n",
    "\n",
    "p={\n",
    "    \"all\":'all.csv',\n",
    "    \"cns\":'cns.csv',\n",
    "    \"opi\":'opi.csv',\n",
    "    \"other\":'other.csv'\n",
    "}\n",
    "\n",
    "way=\"opi\"\n"
   ]
  },
  {
   "cell_type": "markdown",
   "metadata": {},
   "source": [
    "##### 读取数据"
   ]
  },
  {
   "cell_type": "code",
   "execution_count": 59,
   "metadata": {},
   "outputs": [
    {
     "name": "stdout",
     "output_type": "stream",
     "text": [
      "521 176\n"
     ]
    }
   ],
   "source": [
    "fea_dict={\n",
    "    'all':[\n",
    "\"fft_imag_3\",\n",
    "\"fft_angle_3\",\n",
    "\"alt_stderr_min_50\",\n",
    "\"alt_rvalue_min_50\",\n",
    "\"fft_real_2\",\n",
    "\"fft_real_5\",\n",
    "\"erbc_num10_focus2\",\n",
    "\"fft_imag_6\",\n",
    "\"lumpiness\"\n",
    "],\n",
    "\n",
    "\n",
    " 'opi':[\n",
    "\"fft_imag_3\",\n",
    "\"erbc_num10_focus4\",\n",
    "\"alt_rvalue_min_50\",\n",
    "\"fft_angle_3\",\n",
    "\"erbc_num10_focus2\",\n",
    "\"fft_real_5\"\n",
    "],\n",
    "\n",
    " 'cns':[\n",
    "\"fft_imag_3\",\n",
    "\"fft_angle_3\",\n",
    "\"fft_real_5\",\n",
    "\"minindex\",\n",
    "\"lumpiness\",\n",
    "\"fft_imag_6\",\n",
    "\"alt_rvalue_min_50\",\n",
    "\"fft_angle_2\",\n",
    "\"erbc_num10_focus2\",\n",
    "\"S_down\",\n",
    "\"retindex\",\n",
    "\"erbc_num10_focus4\",\n",
    "\"mac\",\n",
    "\"alt_stderr_min_50\",\n",
    "],\n",
    "\n",
    "'other':[\n",
    "  \"fft_imag_3\",\n",
    "  \"fft_angle_3\",\n",
    "  \"alt_stderr_min_50\",\n",
    "  \"fft_imag_6\",\n",
    "  \"fft_real_2\",\n",
    "  \"alt_rvalue_min_50\",\n",
    "  \"fft_real_5\",\n",
    "  \"minvalue\",\n",
    "  \"V2\",\n",
    "  \"F2\",\n",
    "  \"retindex\"\n",
    "]\n",
    "}\n",
    "\n",
    "fea_list=fea_dict[way]\n",
    "\n",
    "def read_data(tit):\n",
    "    path = 'E:\\\\desktop\\\\data\\\\app\\\\223\\\\fea\\\\ok\\\\'\n",
    "    #读取数据\n",
    "    data = pd.read_csv(path+tit,encoding='gbk')\n",
    "    data = data.set_index('name')\n",
    "    return data\n",
    "\n",
    "n_fea=read_data(n)\n",
    "p_fea=read_data(p[way])\n",
    "\n",
    "n_fea[\"tag\"]=[0 for i in range(len(n_fea))]\n",
    "p_fea[\"tag\"]=[1 for i in range(len(p_fea))]\n",
    "\n",
    "print(len(n_fea),len(p_fea))\n",
    "\n",
    "count_fea=[]\n",
    "for key in fea_dict.keys():\n",
    "    count_fea=count_fea+fea_dict[key]\n",
    "\n",
    "count_fea=set(count_fea)"
   ]
  },
  {
   "attachments": {},
   "cell_type": "markdown",
   "metadata": {},
   "source": [
    "##### 过采样"
   ]
  },
  {
   "cell_type": "code",
   "execution_count": 60,
   "metadata": {},
   "outputs": [
    {
     "name": "stdout",
     "output_type": "stream",
     "text": [
      "(1042, 6)\n"
     ]
    }
   ],
   "source": [
    "#过采样\n",
    "over=SMOTE(random_state=0)\n",
    "# over=SVMSMOTE(random_state=0)\n",
    "np_fea=shuffle(pd.concat([n_fea,p_fea],axis=0))\n",
    "x_data_=np_fea[fea_list]\n",
    "y_data_=np_fea[\"tag\"]\n",
    "\n",
    "x_data,y_data=over.fit_resample(x_data_,y_data_)\n",
    "x_data=x_data.astype('float32')\n",
    "#切分\n",
    "x_train,x_test,y_train,y_test=train_test_split(x_data,y_data,test_size=0.3)\n",
    "\n",
    "print(x_data.shape)"
   ]
  },
  {
   "cell_type": "code",
   "execution_count": 61,
   "metadata": {},
   "outputs": [],
   "source": [
    "def jugde(y_pred,y_true):\n",
    "    tn,fn,tp,fp=0,0,0,0\n",
    "    for i in range(len(y_pred)):\n",
    "        \n",
    "        if y_pred[i]==y_true[i]:\n",
    "            if y_true[i]:\n",
    "                tp+=1\n",
    "            else:\n",
    "                tn+=1\n",
    "        else:\n",
    "            if y_true[i]:\n",
    "                fp+=1\n",
    "            else:\n",
    "                fn+=1\n",
    "\n",
    "    print(\"检出率： \",tp,\"/\",tp+fp,' ',round(tp*100/(tp+fp),2),\"%\")\n",
    "    print(\"误判率： \",fn,\"/\",tn+fn,' ',round(fn*100/(tn+fn),2),\"%\")\n",
    "    print(\"精确率： \",(tn+tp),\"/\",(tn+fp+tp+fp),' ',round((tn+tp)*100/(tn+fp+tp+fp),2),\"%\")\n"
   ]
  },
  {
   "attachments": {},
   "cell_type": "markdown",
   "metadata": {},
   "source": [
    "##### 搭建模型"
   ]
  },
  {
   "cell_type": "code",
   "execution_count": 62,
   "metadata": {},
   "outputs": [
    {
     "name": "stdout",
     "output_type": "stream",
     "text": [
      "测试集中：\n",
      "检出率：  133 / 142   93.66 %\n",
      "误判率：  19 / 171   11.11 %\n",
      "精确率：  285 / 303   94.06 %\n",
      "所有数据中：\n",
      "检出率：  172 / 176   97.73 %\n",
      "误判率：  19 / 521   3.65 %\n",
      "精确率：  674 / 682   98.83 %\n"
     ]
    },
    {
     "data": {
      "text/plain": [
       "0.9105431309904153"
      ]
     },
     "execution_count": 62,
     "metadata": {},
     "output_type": "execute_result"
    }
   ],
   "source": [
    "# etc=RandomForestClassifier(random_state=0)\n",
    "# etc.fit(x_train,y_train)\n",
    "# print(x_train.dtypes)\n",
    "\n",
    "\n",
    "etc = PMMLPipeline([\n",
    "\t(\"classifier\", RandomForestClassifier(random_state=0))\n",
    "])\n",
    "etc.fit(x_train, y_train)\n",
    "\n",
    "\n",
    "\n",
    "\n",
    "print(\"测试集中：\")\n",
    "y_pred=etc.predict(x_test)\n",
    "jugde(y_pred,list(y_test))\n",
    "\n",
    "print(\"所有数据中：\")\n",
    "y_pred=etc.predict(x_data_)\n",
    "jugde(y_pred,list(y_data_))\n",
    "\n",
    "etc.score(x_test,y_test)"
   ]
  },
  {
   "attachments": {},
   "cell_type": "markdown",
   "metadata": {},
   "source": [
    "##### 转换保存"
   ]
  },
  {
   "cell_type": "code",
   "execution_count": 63,
   "metadata": {},
   "outputs": [
    {
     "name": "stderr",
     "output_type": "stream",
     "text": [
      "Exception in thread Thread-22:\n",
      "Traceback (most recent call last):\n",
      "  File \"d:\\anaconada\\lib\\threading.py\", line 973, in _bootstrap_inner\n",
      "    self.run()\n",
      "  File \"d:\\anaconada\\lib\\threading.py\", line 910, in run\n",
      "    self._target(*self._args, **self._kwargs)\n",
      "  File \"d:\\anaconada\\lib\\subprocess.py\", line 1479, in _readerthread\n",
      "    buffer.append(fh.read())\n",
      "  File \"d:\\anaconada\\lib\\codecs.py\", line 322, in decode\n",
      "    (result, consumed) = self._buffer_decode(data, self.errors, final)\n",
      "UnicodeDecodeError: 'utf-8' codec can't decode byte 0xb6 in position 0: invalid start byte\n"
     ]
    },
    {
     "name": "stdout",
     "output_type": "stream",
     "text": [
      "opi保存成功\n",
      "测试集中：\n",
      "0.5143769968051118\n",
      "所有数据中：\n"
     ]
    }
   ],
   "source": [
    "sklearn2pmml(etc, way+\".pmml\", with_repr = True)\n",
    "\n",
    "print(way+\"保存成功\")\n",
    "\n",
    "model = Model.load(way+\".pmml\")\n",
    "\n",
    "print(\"测试集中：\")\n",
    "y_pred=model.predict(x_test)\n",
    "print(len(y_pred[y_pred['probability(0)']>0.5])/len(x_test))\n",
    "\n",
    "# jugde(y_pred,list(y_test))\n",
    "\n",
    "print(\"所有数据中：\")\n",
    "y_pred=model.predict(x_data_)\n",
    "# jugde(y_pred,list(y_data_))\n"
   ]
  }
 ],
 "metadata": {
  "kernelspec": {
   "display_name": "Python 3.9.12 ('base')",
   "language": "python",
   "name": "python3"
  },
  "language_info": {
   "codemirror_mode": {
    "name": "ipython",
    "version": 3
   },
   "file_extension": ".py",
   "mimetype": "text/x-python",
   "name": "python",
   "nbconvert_exporter": "python",
   "pygments_lexer": "ipython3",
   "version": "3.9.12"
  },
  "orig_nbformat": 4,
  "vscode": {
   "interpreter": {
    "hash": "7ff96eb9a7975995df6f2a519dfdaf1ac4286d951c67f8930a91d7be2fe6eb56"
   }
  }
 },
 "nbformat": 4,
 "nbformat_minor": 2
}
