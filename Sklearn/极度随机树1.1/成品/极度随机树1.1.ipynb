{
 "cells": [
  {
   "cell_type": "code",
   "execution_count": 7,
   "metadata": {},
   "outputs": [],
   "source": [
    "import pandas as pd\n",
    "import SingleFlash_125_Features\n",
    "import onnxruntime as rt\n",
    "import numpy as np"
   ]
  },
  {
   "cell_type": "code",
   "execution_count": 8,
   "metadata": {},
   "outputs": [],
   "source": [
    "def go(way, fea_data):\n",
    "    fea_dict = {\n",
    "        'all': [\n",
    "            \"fft_imag_3\",\n",
    "            \"fft_angle_3\",\n",
    "            \"alt_stderr_min_50\",\n",
    "            \"alt_rvalue_min_50\",\n",
    "            \"fft_real_2\",\n",
    "            \"fft_real_5\",\n",
    "            \"erbc_num10_focus2\",\n",
    "            \"fft_imag_6\",\n",
    "            \"lumpiness\"\n",
    "        ],\n",
    "\n",
    "        'opi': [\n",
    "            \"fft_imag_3\",\n",
    "            \"erbc_num10_focus4\",\n",
    "            \"alt_rvalue_min_50\",\n",
    "            \"fft_angle_3\",\n",
    "            \"erbc_num10_focus2\",\n",
    "            \"fft_real_5\"\n",
    "        ],\n",
    "\n",
    "        'cns': [\n",
    "            \"fft_imag_3\",\n",
    "            \"fft_angle_3\",\n",
    "            \"fft_real_5\",\n",
    "            \"minindex\",\n",
    "            \"lumpiness\",\n",
    "            \"fft_imag_6\",\n",
    "            \"alt_rvalue_min_50\",\n",
    "            \"fft_angle_2\",\n",
    "            \"erbc_num10_focus2\",\n",
    "            \"S_down\",\n",
    "            \"retindex\",\n",
    "            \"erbc_num10_focus4\",\n",
    "            \"mac\",\n",
    "            \"alt_stderr_min_50\",\n",
    "        ],\n",
    "\n",
    "        'other': [\n",
    "            \"fft_imag_3\",\n",
    "            \"fft_angle_3\",\n",
    "            \"alt_stderr_min_50\",\n",
    "            \"fft_imag_6\",\n",
    "            \"fft_real_2\",\n",
    "            \"alt_rvalue_min_50\",\n",
    "            \"fft_real_5\",\n",
    "            \"minvalue\",\n",
    "            \"V2\",\n",
    "            \"F2\",\n",
    "            \"retindex\"\n",
    "        ]\n",
    "    }\n",
    "    count_array = np.array([[fea_data[fea] for fea in fea_dict[way]]])\n",
    "    sess = rt.InferenceSession(way+\".onnx\")\n",
    "    input_name = sess.get_inputs()[0].name\n",
    "    label_name = sess.get_outputs()[0].name\n",
    "    pred_onx = sess.run(\n",
    "        [label_name],\n",
    "        {input_name: count_array.astype(np.float32)})[0]\n",
    "    return pred_onx[0]\n"
   ]
  },
  {
   "attachments": {},
   "cell_type": "markdown",
   "metadata": {},
   "source": [
    "##### 计算"
   ]
  },
  {
   "cell_type": "code",
   "execution_count": 9,
   "metadata": {},
   "outputs": [
    {
     "data": {
      "text/plain": [
       "1"
      ]
     },
     "execution_count": 9,
     "metadata": {},
     "output_type": "execute_result"
    }
   ],
   "source": [
    "row = [35.5,35.5,35.5,35,35.5,35.5,35.5,35.5,35.5,36,35.5,35.5,35.5,35.5,35.5,35,35,35.5,35,36,35.5,35.5,35.5,35.5,35.5,35.5,35.5,35.5,35.5,35.5,35,34.5,34,33.5,33,31,30.5,30,29.5,29,29,28.5,28.5,29,29,29,29,29.5,29.5,29.5,30,31,31,31,31,31.5,31.5,32,32,32.5,32.5,32.5,32.5,33,33,33,33.5,33.5,33.5,33.5,33.5,33.5,33.5,34,33.5,34,34,34,34,34,34,33.5,34,34,34,34.5,34.5,34,34,34.5,34.5,34,34.5,34.5,34.5,34.5,34.5,34.5,34.5,34.5,34.5,34,34.5,34,34.5,34.5,34.5,34.5,34.5,34.5,34.5,34.5,34.5,34.5,35,34.5,34.5,34.5,34.5,34.5,34.5,35,34.5,35,34.5]\n",
    "\n",
    "fea_data = SingleFlash_125_Features.all_features(row)\n",
    "if fea_data == \"数据异常\":\n",
    "    result = \"数据异常\"\n",
    "else:\n",
    "    ret=[go(way,fea_data) for way in ('all','opi','cns','other')]\n",
    "\n",
    "    #(opi or csn or other) and all\n",
    "    if sum(ret[1:])>=1 and ret[0]==1:\n",
    "        result=1\n",
    "    else:\n",
    "        result=0\n",
    "\n",
    "    #四选二\n",
    "    if sum(ret)>=2:\n",
    "        result=1\n",
    "    else:\n",
    "        result=0\n",
    "result\n"
   ]
  }
 ],
 "metadata": {
  "kernelspec": {
   "display_name": "base",
   "language": "python",
   "name": "python3"
  },
  "language_info": {
   "codemirror_mode": {
    "name": "ipython",
    "version": 3
   },
   "file_extension": ".py",
   "mimetype": "text/x-python",
   "name": "python",
   "nbconvert_exporter": "python",
   "pygments_lexer": "ipython3",
   "version": "3.9.12"
  },
  "orig_nbformat": 4,
  "vscode": {
   "interpreter": {
    "hash": "7ff96eb9a7975995df6f2a519dfdaf1ac4286d951c67f8930a91d7be2fe6eb56"
   }
  }
 },
 "nbformat": 4,
 "nbformat_minor": 2
}
