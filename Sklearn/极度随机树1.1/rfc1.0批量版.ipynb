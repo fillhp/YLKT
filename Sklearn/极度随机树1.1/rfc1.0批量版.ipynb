{
 "cells": [
  {
   "cell_type": "code",
   "execution_count": 16,
   "metadata": {},
   "outputs": [],
   "source": [
    "from joblib import load\n",
    "import numpy as np\n",
    "import pandas as pd\n",
    "\n",
    "import onnxruntime as rt"
   ]
  },
  {
   "cell_type": "code",
   "execution_count": 17,
   "metadata": {},
   "outputs": [],
   "source": [
    "fea_dict={\n",
    "    'all':[\n",
    "\"fft_imag_3\",\n",
    "\"fft_angle_3\",\n",
    "\"alt_stderr_min_50\",\n",
    "\"alt_rvalue_min_50\",\n",
    "\"fft_real_2\",\n",
    "\"fft_real_5\",\n",
    "\"erbc_num10_focus2\",\n",
    "\"fft_imag_6\",\n",
    "\"lumpiness\"\n",
    "],\n",
    "\n",
    "\n",
    " 'opi':[\n",
    "\"fft_imag_3\",\n",
    "\"erbc_num10_focus4\",\n",
    "\"alt_rvalue_min_50\",\n",
    "\"fft_angle_3\",\n",
    "\"erbc_num10_focus2\",\n",
    "\"fft_real_5\"\n",
    "],\n",
    "\n",
    " 'cns':[\n",
    "\"fft_imag_3\",\n",
    "\"fft_angle_3\",\n",
    "\"fft_real_5\",\n",
    "\"minindex\",\n",
    "\"lumpiness\",\n",
    "\"fft_imag_6\",\n",
    "\"alt_rvalue_min_50\",\n",
    "\"fft_angle_2\",\n",
    "\"erbc_num10_focus2\",\n",
    "\"S_down\",\n",
    "\"retindex\",\n",
    "\"erbc_num10_focus4\",\n",
    "\"mac\",\n",
    "\"alt_stderr_min_50\",\n",
    "],\n",
    "\n",
    "'other':[\n",
    "  \"fft_imag_3\",\n",
    "  \"fft_angle_3\",\n",
    "  \"alt_stderr_min_50\",\n",
    "  \"fft_imag_6\",\n",
    "  \"fft_real_2\",\n",
    "  \"alt_rvalue_min_50\",\n",
    "  \"fft_real_5\",\n",
    "  \"minvalue\",\n",
    "  \"V2\",\n",
    "  \"F2\",\n",
    "  \"retindex\"\n",
    "]\n",
    "}\n"
   ]
  },
  {
   "attachments": {},
   "cell_type": "markdown",
   "metadata": {},
   "source": [
    "##### 多种方式"
   ]
  },
  {
   "cell_type": "code",
   "execution_count": 18,
   "metadata": {},
   "outputs": [
    {
     "name": "stdout",
     "output_type": "stream",
     "text": [
      "[[[0.60218831 0.61401198 0.69339274 ... 0.68372391 0.81089798 0.66955682]\n",
      "  [0.3046255  0.5101851  0.51708475 ... 0.34901531 0.56711704 0.58254619]\n",
      "  [0.58555531 0.47470808 0.59262377 ... 0.29052595 0.68255025 0.62204736]\n",
      "  ...\n",
      "  [1.         0.4631438  0.58812279 ... 0.52747149 0.44466781 0.51040121]\n",
      "  [0.45170124 0.53230145 0.42142783 ... 0.76652468 0.69528821 0.40661598]\n",
      "  [0.6973058  0.10239436 0.32326926 ... 0.03359206 0.39150007 0.23966459]]]\n"
     ]
    },
    {
     "ename": "InvalidArgument",
     "evalue": "[ONNXRuntimeError] : 2 : INVALID_ARGUMENT : Invalid rank for input: float_input Got: 3 Expected: 2 Please fix either the inputs or the model.",
     "output_type": "error",
     "traceback": [
      "\u001b[1;31m---------------------------------------------------------------------------\u001b[0m",
      "\u001b[1;31mInvalidArgument\u001b[0m                           Traceback (most recent call last)",
      "\u001b[1;32mg:\\work\\Sklearn\\极度随机树1.1\\rfc1.0批量版.ipynb 单元格 4\u001b[0m in \u001b[0;36m<cell line: 29>\u001b[1;34m()\u001b[0m\n\u001b[0;32m     <a href='vscode-notebook-cell:/g%3A/work/Sklearn/%E6%9E%81%E5%BA%A6%E9%9A%8F%E6%9C%BA%E6%A0%911.1/rfc1.0%E6%89%B9%E9%87%8F%E7%89%88.ipynb#W5sZmlsZQ%3D%3D?line=29'>30</a>\u001b[0m     count_array \u001b[39m=\u001b[39m np\u001b[39m.\u001b[39marray([[fea_data[fea] \u001b[39mfor\u001b[39;00m fea \u001b[39min\u001b[39;00m fea_dict[way]]])\n\u001b[0;32m     <a href='vscode-notebook-cell:/g%3A/work/Sklearn/%E6%9E%81%E5%BA%A6%E9%9A%8F%E6%9C%BA%E6%A0%911.1/rfc1.0%E6%89%B9%E9%87%8F%E7%89%88.ipynb#W5sZmlsZQ%3D%3D?line=30'>31</a>\u001b[0m     \u001b[39mprint\u001b[39m(count_array)\n\u001b[1;32m---> <a href='vscode-notebook-cell:/g%3A/work/Sklearn/%E6%9E%81%E5%BA%A6%E9%9A%8F%E6%9C%BA%E6%A0%911.1/rfc1.0%E6%89%B9%E9%87%8F%E7%89%88.ipynb#W5sZmlsZQ%3D%3D?line=31'>32</a>\u001b[0m     y_pred\u001b[39m=\u001b[39mooo(way,count_array)\n\u001b[0;32m     <a href='vscode-notebook-cell:/g%3A/work/Sklearn/%E6%9E%81%E5%BA%A6%E9%9A%8F%E6%9C%BA%E6%A0%911.1/rfc1.0%E6%89%B9%E9%87%8F%E7%89%88.ipynb#W5sZmlsZQ%3D%3D?line=32'>33</a>\u001b[0m     result[way]\u001b[39m=\u001b[39m\u001b[39mlist\u001b[39m(y_pred)\n\u001b[0;32m     <a href='vscode-notebook-cell:/g%3A/work/Sklearn/%E6%9E%81%E5%BA%A6%E9%9A%8F%E6%9C%BA%E6%A0%911.1/rfc1.0%E6%89%B9%E9%87%8F%E7%89%88.ipynb#W5sZmlsZQ%3D%3D?line=34'>35</a>\u001b[0m result\u001b[39m=\u001b[39mpd\u001b[39m.\u001b[39mDataFrame(result)\n",
      "\u001b[1;32mg:\\work\\Sklearn\\极度随机树1.1\\rfc1.0批量版.ipynb 单元格 4\u001b[0m in \u001b[0;36mooo\u001b[1;34m(way, count_array)\u001b[0m\n\u001b[0;32m      <a href='vscode-notebook-cell:/g%3A/work/Sklearn/%E6%9E%81%E5%BA%A6%E9%9A%8F%E6%9C%BA%E6%A0%911.1/rfc1.0%E6%89%B9%E9%87%8F%E7%89%88.ipynb#W5sZmlsZQ%3D%3D?line=3'>4</a>\u001b[0m \u001b[39mdef\u001b[39;00m \u001b[39mooo\u001b[39m(way,count_array):\n\u001b[1;32m----> <a href='vscode-notebook-cell:/g%3A/work/Sklearn/%E6%9E%81%E5%BA%A6%E9%9A%8F%E6%9C%BA%E6%A0%911.1/rfc1.0%E6%89%B9%E9%87%8F%E7%89%88.ipynb#W5sZmlsZQ%3D%3D?line=4'>5</a>\u001b[0m     pred_onx \u001b[39m=\u001b[39m \u001b[39meval\u001b[39;49m(way\u001b[39m+\u001b[39;49m\u001b[39m\"\u001b[39;49m\u001b[39m_mod\u001b[39;49m\u001b[39m\"\u001b[39;49m)\u001b[39m.\u001b[39;49mrun(\n\u001b[0;32m      <a href='vscode-notebook-cell:/g%3A/work/Sklearn/%E6%9E%81%E5%BA%A6%E9%9A%8F%E6%9C%BA%E6%A0%911.1/rfc1.0%E6%89%B9%E9%87%8F%E7%89%88.ipynb#W5sZmlsZQ%3D%3D?line=5'>6</a>\u001b[0m         [\u001b[39meval\u001b[39;49m(way\u001b[39m+\u001b[39;49m\u001b[39m\"\u001b[39;49m\u001b[39m_mod\u001b[39;49m\u001b[39m\"\u001b[39;49m)\u001b[39m.\u001b[39;49mget_outputs()[\u001b[39m0\u001b[39;49m]\u001b[39m.\u001b[39;49mname],\n\u001b[0;32m      <a href='vscode-notebook-cell:/g%3A/work/Sklearn/%E6%9E%81%E5%BA%A6%E9%9A%8F%E6%9C%BA%E6%A0%911.1/rfc1.0%E6%89%B9%E9%87%8F%E7%89%88.ipynb#W5sZmlsZQ%3D%3D?line=6'>7</a>\u001b[0m         {\u001b[39meval\u001b[39;49m(way\u001b[39m+\u001b[39;49m\u001b[39m\"\u001b[39;49m\u001b[39m_mod\u001b[39;49m\u001b[39m\"\u001b[39;49m)\u001b[39m.\u001b[39;49mget_inputs()[\u001b[39m0\u001b[39;49m]\u001b[39m.\u001b[39;49mname: count_array\u001b[39m.\u001b[39;49mastype(np\u001b[39m.\u001b[39;49mfloat32)})[\u001b[39m0\u001b[39m]\n\u001b[0;32m      <a href='vscode-notebook-cell:/g%3A/work/Sklearn/%E6%9E%81%E5%BA%A6%E9%9A%8F%E6%9C%BA%E6%A0%911.1/rfc1.0%E6%89%B9%E9%87%8F%E7%89%88.ipynb#W5sZmlsZQ%3D%3D?line=8'>9</a>\u001b[0m     \u001b[39mreturn\u001b[39;00m pred_onx[\u001b[39m0\u001b[39m]\n",
      "File \u001b[1;32md:\\anaconada\\lib\\site-packages\\onnxruntime\\capi\\onnxruntime_inference_collection.py:200\u001b[0m, in \u001b[0;36mSession.run\u001b[1;34m(self, output_names, input_feed, run_options)\u001b[0m\n\u001b[0;32m    198\u001b[0m     output_names \u001b[39m=\u001b[39m [output\u001b[39m.\u001b[39mname \u001b[39mfor\u001b[39;00m output \u001b[39min\u001b[39;00m \u001b[39mself\u001b[39m\u001b[39m.\u001b[39m_outputs_meta]\n\u001b[0;32m    199\u001b[0m \u001b[39mtry\u001b[39;00m:\n\u001b[1;32m--> 200\u001b[0m     \u001b[39mreturn\u001b[39;00m \u001b[39mself\u001b[39;49m\u001b[39m.\u001b[39;49m_sess\u001b[39m.\u001b[39;49mrun(output_names, input_feed, run_options)\n\u001b[0;32m    201\u001b[0m \u001b[39mexcept\u001b[39;00m C\u001b[39m.\u001b[39mEPFail \u001b[39mas\u001b[39;00m err:\n\u001b[0;32m    202\u001b[0m     \u001b[39mif\u001b[39;00m \u001b[39mself\u001b[39m\u001b[39m.\u001b[39m_enable_fallback:\n",
      "\u001b[1;31mInvalidArgument\u001b[0m: [ONNXRuntimeError] : 2 : INVALID_ARGUMENT : Invalid rank for input: float_input Got: 3 Expected: 2 Please fix either the inputs or the model."
     ]
    }
   ],
   "source": [
    "n='n.csv'\n",
    "# p='all.csv'\n",
    "\n",
    "def ooo(way,count_array):\n",
    "    pred_onx = eval(way+\"_mod\").run(\n",
    "        [eval(way+\"_mod\").get_outputs()[0].name],\n",
    "        {eval(way+\"_mod\").get_inputs()[0].name: count_array.astype(np.float32)})[0]\n",
    "\n",
    "    return pred_onx[0]\n",
    "\n",
    "\n",
    "all_mod=rt.InferenceSession(\"./mod/all.onnx\")\n",
    "opi_mod=rt.InferenceSession(\"./mod/opi.onnx\")\n",
    "cns_mod=rt.InferenceSession(\"./mod/cns.onnx\")\n",
    "other_mod=rt.InferenceSession(\"./mod/other.onnx\")\n",
    "\n",
    "\n",
    "def read_data(tit):\n",
    "    path = 'E:\\\\desktop\\\\data\\\\app\\\\223\\\\fea\\\\ok\\\\'\n",
    "    #读取数据\n",
    "    data = pd.read_csv(path+tit,encoding='gbk')\n",
    "    data = data.set_index('name')\n",
    "    return data\n",
    "\n",
    "\n",
    "fea_data=read_data(n)\n",
    "\n",
    "result={'name':list(fea_data.index),'all':[],'opi':[],'cns':[],'other':[]}\n",
    "for way in ('all','opi','cns','other'):\n",
    "    count_array = np.array([[fea_data[fea] for fea in fea_dict[way]]])\n",
    "\n",
    "    \n",
    "    print(count_array)\n",
    "    y_pred=ooo(way,count_array)\n",
    "    result[way]=list(y_pred)\n",
    "\n",
    "result=pd.DataFrame(result)\n",
    "result=result.set_index('name',drop=True)\n",
    "\n",
    "youla={\"(opi or cns or other) and all\":[],\"(opi or cns) and all\":[],\"四选二\":[]}\n",
    "for i in range(len(result)):\n",
    "    row=list(result.iloc[i])\n",
    "    if sum(row[:3])>=1 and row[3]==1:\n",
    "        youla[\"(opi or cns or other) and all\"].append(1)\n",
    "    else:\n",
    "        youla[\"(opi or cns or other) and all\"].append(0)\n",
    "\n",
    "    if sum(row[:2])>=1 and row[3]==1:\n",
    "        youla[\"(opi or cns) and all\"].append(1)\n",
    "    else:\n",
    "        youla[\"(opi or cns) and all\"].append(0)\n",
    "\n",
    "    if sum(row)>=2:\n",
    "        youla[\"四选二\"].append(1)\n",
    "    else:\n",
    "        youla[\"四选二\"].append(0)\n",
    "\n",
    "youla=pd.DataFrame(youla,index=result.index)\n",
    "result=pd.concat([result,youla],axis=1)\n",
    "psum=len(result)\n",
    "for key in result.columns:\n",
    "    p=sum(result[key])\n",
    "    print(key,p,'/',psum,p/psum)"
   ]
  }
 ],
 "metadata": {
  "kernelspec": {
   "display_name": "base",
   "language": "python",
   "name": "python3"
  },
  "language_info": {
   "codemirror_mode": {
    "name": "ipython",
    "version": 3
   },
   "file_extension": ".py",
   "mimetype": "text/x-python",
   "name": "python",
   "nbconvert_exporter": "python",
   "pygments_lexer": "ipython3",
   "version": "3.9.12"
  },
  "orig_nbformat": 4,
  "vscode": {
   "interpreter": {
    "hash": "7ff96eb9a7975995df6f2a519dfdaf1ac4286d951c67f8930a91d7be2fe6eb56"
   }
  }
 },
 "nbformat": 4,
 "nbformat_minor": 2
}
