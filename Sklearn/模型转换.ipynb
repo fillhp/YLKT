{
 "cells": [
  {
   "cell_type": "code",
   "execution_count": 1,
   "metadata": {},
   "outputs": [
    {
     "ename": "ImportError",
     "evalue": "cannot import name 'device_lib' from 'tensorflow.python.client' (unknown location)",
     "output_type": "error",
     "traceback": [
      "\u001b[1;31m---------------------------------------------------------------------------\u001b[0m",
      "\u001b[1;31mImportError\u001b[0m                               Traceback (most recent call last)",
      "\u001b[1;32mg:\\item\\工作\\Sklearn\\模型转换.ipynb Cell 1\u001b[0m in \u001b[0;36m<cell line: 5>\u001b[1;34m()\u001b[0m\n\u001b[0;32m      <a href='vscode-notebook-cell:/g%3A/item/%E5%B7%A5%E4%BD%9C/Sklearn/%E6%A8%A1%E5%9E%8B%E8%BD%AC%E6%8D%A2.ipynb#W0sZmlsZQ%3D%3D?line=2'>3</a>\u001b[0m \u001b[39mfrom\u001b[39;00m \u001b[39mskl2onnx\u001b[39;00m\u001b[39m.\u001b[39;00m\u001b[39mcommon\u001b[39;00m\u001b[39m.\u001b[39;00m\u001b[39mdata_types\u001b[39;00m \u001b[39mimport\u001b[39;00m FloatTensorType\n\u001b[0;32m      <a href='vscode-notebook-cell:/g%3A/item/%E5%B7%A5%E4%BD%9C/Sklearn/%E6%A8%A1%E5%9E%8B%E8%BD%AC%E6%8D%A2.ipynb#W0sZmlsZQ%3D%3D?line=3'>4</a>\u001b[0m \u001b[39mimport\u001b[39;00m \u001b[39monnx\u001b[39;00m\n\u001b[1;32m----> <a href='vscode-notebook-cell:/g%3A/item/%E5%B7%A5%E4%BD%9C/Sklearn/%E6%A8%A1%E5%9E%8B%E8%BD%AC%E6%8D%A2.ipynb#W0sZmlsZQ%3D%3D?line=4'>5</a>\u001b[0m \u001b[39mfrom\u001b[39;00m \u001b[39monnx_tf\u001b[39;00m\u001b[39m.\u001b[39;00m\u001b[39mbackend\u001b[39;00m \u001b[39mimport\u001b[39;00m prepare\n",
      "File \u001b[1;32md:\\anaconada\\lib\\site-packages\\onnx_tf\\__init__.py:1\u001b[0m, in \u001b[0;36m<module>\u001b[1;34m\u001b[0m\n\u001b[1;32m----> 1\u001b[0m \u001b[39mfrom\u001b[39;00m \u001b[39m.\u001b[39;00m \u001b[39mimport\u001b[39;00m backend\n\u001b[0;32m      2\u001b[0m \u001b[39mfrom\u001b[39;00m \u001b[39m.\u001b[39;00m\u001b[39mversion\u001b[39;00m \u001b[39mimport\u001b[39;00m version \u001b[39mas\u001b[39;00m __version__\n",
      "File \u001b[1;32md:\\anaconada\\lib\\site-packages\\onnx_tf\\backend.py:25\u001b[0m, in \u001b[0;36m<module>\u001b[1;34m\u001b[0m\n\u001b[0;32m     22\u001b[0m \u001b[39mimport\u001b[39;00m \u001b[39mnumpy\u001b[39;00m \u001b[39mas\u001b[39;00m \u001b[39mnp\u001b[39;00m\n\u001b[0;32m     24\u001b[0m \u001b[39mfrom\u001b[39;00m \u001b[39monnx_tf\u001b[39;00m\u001b[39m.\u001b[39;00m\u001b[39mbackend_rep\u001b[39;00m \u001b[39mimport\u001b[39;00m TensorflowRep\n\u001b[1;32m---> 25\u001b[0m \u001b[39mfrom\u001b[39;00m \u001b[39monnx_tf\u001b[39;00m\u001b[39m.\u001b[39;00m\u001b[39mcommon\u001b[39;00m \u001b[39mimport\u001b[39;00m data_type\n\u001b[0;32m     26\u001b[0m \u001b[39mfrom\u001b[39;00m \u001b[39monnx_tf\u001b[39;00m\u001b[39m.\u001b[39;00m\u001b[39mcommon\u001b[39;00m \u001b[39mimport\u001b[39;00m get_unique_suffix\n\u001b[0;32m     27\u001b[0m \u001b[39mfrom\u001b[39;00m \u001b[39monnx_tf\u001b[39;00m\u001b[39m.\u001b[39;00m\u001b[39mcommon\u001b[39;00m \u001b[39mimport\u001b[39;00m supports_device \u001b[39mas\u001b[39;00m common_supports_device\n",
      "File \u001b[1;32md:\\anaconada\\lib\\site-packages\\onnx_tf\\common\\__init__.py:14\u001b[0m, in \u001b[0;36m<module>\u001b[1;34m\u001b[0m\n\u001b[0;32m     11\u001b[0m \u001b[39mimport\u001b[39;00m \u001b[39mlogging\u001b[39;00m\n\u001b[0;32m     13\u001b[0m \u001b[39mfrom\u001b[39;00m \u001b[39monnx\u001b[39;00m\u001b[39m.\u001b[39;00m\u001b[39mbackend\u001b[39;00m\u001b[39m.\u001b[39;00m\u001b[39mbase\u001b[39;00m \u001b[39mimport\u001b[39;00m DeviceType\n\u001b[1;32m---> 14\u001b[0m \u001b[39mfrom\u001b[39;00m \u001b[39mtensorflow\u001b[39;00m\u001b[39m.\u001b[39;00m\u001b[39mpython\u001b[39;00m\u001b[39m.\u001b[39;00m\u001b[39mclient\u001b[39;00m \u001b[39mimport\u001b[39;00m device_lib\n\u001b[0;32m     16\u001b[0m IS_PYTHON3 \u001b[39m=\u001b[39m sys\u001b[39m.\u001b[39mversion_info \u001b[39m>\u001b[39m (\u001b[39m3\u001b[39m,)\n\u001b[0;32m     17\u001b[0m logger \u001b[39m=\u001b[39m logging\u001b[39m.\u001b[39mgetLogger(\u001b[39m'\u001b[39m\u001b[39monnx-tf\u001b[39m\u001b[39m'\u001b[39m)\n",
      "\u001b[1;31mImportError\u001b[0m: cannot import name 'device_lib' from 'tensorflow.python.client' (unknown location)"
     ]
    }
   ],
   "source": [
    "from joblib import load\n",
    "from skl2onnx import convert_sklearn\n",
    "from skl2onnx.common.data_types import FloatTensorType\n",
    "import onnx\n",
    "from onnx_tf.backend import prepare"
   ]
  },
  {
   "attachments": {},
   "cell_type": "markdown",
   "metadata": {},
   "source": [
    "##### joblib读取\n"
   ]
  },
  {
   "cell_type": "code",
   "execution_count": null,
   "metadata": {},
   "outputs": [],
   "source": [
    "path=r\"G:\\item\\工作\\Sklearn\\随机森林\\rfc_all.joblib\"\n",
    "mod=load(path)"
   ]
  },
  {
   "attachments": {},
   "cell_type": "markdown",
   "metadata": {},
   "source": [
    "##### 转onnx"
   ]
  },
  {
   "cell_type": "code",
   "execution_count": null,
   "metadata": {},
   "outputs": [],
   "source": [
    "initial_type = [('float_input', FloatTensorType([None, 4]))]\n",
    "mod = convert_sklearn(mod, initial_types=initial_type)"
   ]
  },
  {
   "attachments": {},
   "cell_type": "markdown",
   "metadata": {},
   "source": [
    "##### 转pb"
   ]
  },
  {
   "cell_type": "code",
   "execution_count": null,
   "metadata": {},
   "outputs": [],
   "source": [
    "tf_exp = prepare(mod)\n",
    "tf_exp.export_graph(r\"G:\\item\\工作\\Sklearn\\随机森林\\rfc_all.pb\")"
   ]
  },
  {
   "cell_type": "code",
   "execution_count": null,
   "metadata": {},
   "outputs": [],
   "source": [
    "# import tensorflow as tf\n",
    "# import os\n",
    "# from tensorflow.python.platform import gfile\n",
    "\n",
    "# pb_file_path = os.getcwd() #获取当前代码路径\n",
    "# sess = tf.Session()\n",
    "# with gfile.FastGFile(pb_file_path + 'model.pb', 'rb') as f: #加载模型\n",
    "#     graph_def = tf.GraphDef()\n",
    "#     graph_def.ParseFromString(f.read())\n",
    "#     sess.graph.as_default()\n",
    "#     tf.import_graph_def(graph_def, name='')  # 导入计算图\n",
    "\n",
    "# # 需要有一个初始化的过程\n",
    "# sess.run(tf.global_variables_initializer())\n",
    "\n",
    "# # 需要先复原变量\n",
    "# print(sess.run('b:0'))\n",
    "# # 1\n",
    "\n",
    "# #下面三句，是能否复现模型的关键\n",
    "# # 输入\n",
    "# input_x = sess.graph.get_tensor_by_name('x:0')  #此处的x一定要和之前保存时输入的名称一致！\n",
    "# input_y = sess.graph.get_tensor_by_name('y:0')  #此处的y一定要和之前保存时输入的名称一致！\n",
    "# op = sess.graph.get_tensor_by_name('op_to_store:0')  #此处的op_to_store一定要和之前保存时输出的名称一致！\n",
    "\n",
    "# ret = sess.run(op, feed_dict={input_x: 5, input_y: 5})\n",
    "# print(ret)"
   ]
  }
 ],
 "metadata": {
  "kernelspec": {
   "display_name": "base",
   "language": "python",
   "name": "python3"
  },
  "language_info": {
   "codemirror_mode": {
    "name": "ipython",
    "version": 3
   },
   "file_extension": ".py",
   "mimetype": "text/x-python",
   "name": "python",
   "nbconvert_exporter": "python",
   "pygments_lexer": "ipython3",
   "version": "3.9.12 (main, Apr  4 2022, 05:22:27) [MSC v.1916 64 bit (AMD64)]"
  },
  "orig_nbformat": 4,
  "vscode": {
   "interpreter": {
    "hash": "7ff96eb9a7975995df6f2a519dfdaf1ac4286d951c67f8930a91d7be2fe6eb56"
   }
  }
 },
 "nbformat": 4,
 "nbformat_minor": 2
}
