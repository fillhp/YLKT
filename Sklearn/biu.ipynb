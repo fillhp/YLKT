{
 "cells": [
  {
   "cell_type": "markdown",
   "metadata": {},
   "source": [
    "##### 导入库"
   ]
  },
  {
   "cell_type": "code",
   "execution_count": null,
   "metadata": {},
   "outputs": [],
   "source": [
    "import pandas as pd\n",
    "import numpy as np\n",
    "from sklearn.linear_model import LogisticRegression\n",
    "from sklearn.ensemble import RandomForestClassifier,GradientBoostingClassifier\n",
    "from sklearn.feature_selection import SelectFromModel\n",
    "from collections import Counter\n",
    "from sklearn.utils import shuffle\n",
    "from sklearn.model_selection import train_test_split"
   ]
  },
  {
   "cell_type": "markdown",
   "metadata": {},
   "source": [
    "##### 选择数据"
   ]
  },
  {
   "cell_type": "code",
   "execution_count": null,
   "metadata": {},
   "outputs": [],
   "source": [
    "n='★阴性整合.csv'\n",
    "p='★阳性整合.csv'\n",
    "p='纯冰毒-重复.csv'\n",
    "# p='纯海洛因-重复.csv'\n",
    "# n='110正常人.csv'\n",
    "# # n='0913-林职-阴性-55人.csv'\n",
    "# p='纯冰毒.csv'\n",
    "# n='1阴-66单条数据.csv'\n",
    "# p='纯海洛因.csv'\n"
   ]
  },
  {
   "cell_type": "markdown",
   "metadata": {},
   "source": [
    "##### 读取数据"
   ]
  },
  {
   "cell_type": "code",
   "execution_count": null,
   "metadata": {},
   "outputs": [],
   "source": [
    "\n",
    "path='E:\\\\desktop\\\\data\\\\'\n",
    "n_fea = pd.read_csv(path+'fea\\\\[特征]'+n,encoding=\"gbk\")\n",
    "p_fea = pd.read_csv(path+'fea\\\\[特征]'+p,encoding=\"gbk\")\n",
    "\n",
    "\n",
    "fea_list=[\n",
    "  \"maxvalue\",\n",
    "  \"time2\",\n",
    "  \"attr_\\\"abs\\\"__coeff_1\",\n",
    "  \"attr_\\\"imag\\\"__coeff_3\",\n",
    "  \"attr_\\\"real\\\"__coeff_2\",\n",
    "  \"attr_\\\"stderr\\\"__chunk_len_50__f_agg_\\\"min\\\"\",\n",
    "  \"attr_\\\"angle\\\"__coeff_6\",\n",
    "  \"sdown\",\n",
    "  \"attr_\\\"imag\\\"__coeff_6\",\n",
    "  \"Rrange2\",\n",
    "  \"attr_\\\"angle\\\"__coeff_3\"\n",
    "]\n",
    "\n",
    "n_fea=n_fea[fea_list]\n",
    "n_fea=shuffle(n_fea)\n",
    "n_fea[\"tag\"]=[0 for i in range(len(n_fea))]\n",
    "\n",
    "p_fea=p_fea[fea_list]\n",
    "p_fea=shuffle(p_fea)\n",
    "p_fea[\"tag\"]=[1 for i in range(len(p_fea))]\n",
    "\n",
    "\n",
    "\n",
    "print(len(n_fea),len(p_fea))\n"
   ]
  },
  {
   "attachments": {},
   "cell_type": "markdown",
   "metadata": {},
   "source": [
    "##### 过采样"
   ]
  },
  {
   "cell_type": "code",
   "execution_count": null,
   "metadata": {},
   "outputs": [],
   "source": [
    "#过采样\n",
    "from imblearn.over_sampling import SVMSMOTE\n",
    "svmsomte=SVMSMOTE(random_state=42)\n",
    "\n",
    "np_fea=shuffle(pd.concat([n_fea,p_fea],axis=0))\n",
    "x_data=np_fea[fea_list]\n",
    "y_data=np_fea[\"tag\"]\n",
    "\n",
    "x_data,y_data=svmsomte.fit_resample(x_data,y_data)\n",
    "\n",
    "#切分\n",
    "x_train,x_test,y_train,y_test=train_test_split(x_data,y_data,test_size=0.3)\n",
    "print(x_data.shape)"
   ]
  },
  {
   "attachments": {},
   "cell_type": "markdown",
   "metadata": {},
   "source": [
    "##### 搭建模型"
   ]
  },
  {
   "cell_type": "code",
   "execution_count": null,
   "metadata": {},
   "outputs": [],
   "source": [
    "# 模型算法库\n",
    "from sklearn.linear_model import LogisticRegression #逻辑回归\n",
    "from sklearn.tree import DecisionTreeClassifier #决策树\n",
    "from sklearn.ensemble import RandomForestClassifier,GradientBoostingClassifier\n",
    "from xgboost import XGBClassifier\n",
    "\n",
    "#模型评估方法库\n",
    "from sklearn.metrics import accuracy_score,precision_score,recall_score,f1_score\\\n",
    ",classification_report,confusion_matrix\n",
    "\n",
    "#可视化\n",
    "import matplotlib.pyplot as plt\n",
    "import seaborn as sns\n",
    "\n",
    "#导入模型存储和加载方法\n",
    "from joblib import dump,load\n",
    "\n",
    "#创建模型池\n",
    "model_lst=[]\n",
    "\n",
    "#实例化模型，然后添加到模型池内\n",
    "#max_iter 最大迭代次数 ,class_weight='balanced'样本权重\n",
    "logsistic=LogisticRegression(C=10,tol=1e-5,max_iter=200,l1_ratio=0,class_weight='balanced')\n",
    "model_lst.append(('LogisticRegression',logsistic))\n",
    "\n",
    "#max_depth最大树 max_features最大特征占比\n",
    "dtc=DecisionTreeClassifier(max_depth=20,max_features=0.6,class_weight='balanced')\n",
    "model_lst.append(('DecisionTreeClassifier',dtc))\n",
    "\n",
    "#n_estimators决策树数量 \n",
    "rfc=RandomForestClassifier(n_estimators=299,max_depth=20,max_features=0.5,class_weight='balanced')\n",
    "model_lst.append(('RandomForestClassifier',rfc))\n",
    "\n",
    "#learning_rate 学习速率 越大学的越快 但是不好 越小越精细\n",
    "xgbc=XGBClassifier(max_depth=3,learning_rate=0.05,n_estimators=200,booster='gbtree')\n",
    "model_lst.append(('XGBclassifier',xgbc))\n",
    "\n",
    "gbdt=GradientBoostingClassifier(learning_rate=0.05,n_estimators=200,tol=1e-5)\n",
    "model_lst.append(('GradientBoostingClassifier',gbdt))\n",
    "\n",
    "for mdl_name,mdl in model_lst:\n",
    "    mdl.fit(x_train,y_train)\n",
    "    y_pred=mdl.predict(x_test)\n",
    "\n",
    "    #计算分类算法评估指标\n",
    "    classification_report_=classification_report(y_true=y_test,y_pred=y_pred)\n",
    "    print(mdl_name)\n",
    "    print(classification_report_)\n",
    "\n",
    "    #保存模型\n",
    "    dump(mdl,mdl_name+\".joblib\")\n",
    "    print(\"保存成功\",mdl_name)\n",
    "    #计算混淆矩阵\n",
    "    confusion_matrix_=confusion_matrix(y_true=y_test,y_pred=y_pred)\n",
    "    print(confusion_matrix_)\n",
    "\n",
    "    sns.heatmap(confusion_matrix_,cmap=sns.color_palette(\"ch:2.5,-.2,dark=.3\"),annot=True,fmt='.4g')\n",
    "\n",
    "    plt.show()\n"
   ]
  },
  {
   "attachments": {},
   "cell_type": "markdown",
   "metadata": {},
   "source": [
    "##### 加载模型"
   ]
  },
  {
   "cell_type": "code",
   "execution_count": 7,
   "metadata": {},
   "outputs": [
    {
     "name": "stdout",
     "output_type": "stream",
     "text": [
      "LogisticRegression\n",
      "              precision    recall  f1-score   support\n",
      "\n",
      "           0       0.91      0.84      0.88        58\n",
      "           1       0.81      0.89      0.85        44\n",
      "\n",
      "    accuracy                           0.86       102\n",
      "   macro avg       0.86      0.87      0.86       102\n",
      "weighted avg       0.87      0.86      0.86       102\n",
      "\n",
      "[[49  9]\n",
      " [ 5 39]]\n"
     ]
    },
    {
     "data": {
      "image/png": "[encoded data removed]",
      "text/plain": [
       "<Figure size 432x288 with 2 Axes>"
      ]
     },
     "metadata": {
      "needs_background": "light"
     },
     "output_type": "display_data"
    },
    {
     "name": "stdout",
     "output_type": "stream",
     "text": [
      "DecisionTreeClassifier\n",
      "              precision    recall  f1-score   support\n",
      "\n",
      "           0       0.88      0.97      0.92        58\n",
      "           1       0.95      0.82      0.88        44\n",
      "\n",
      "    accuracy                           0.90       102\n",
      "   macro avg       0.91      0.89      0.90       102\n",
      "weighted avg       0.91      0.90      0.90       102\n",
      "\n",
      "[[56  2]\n",
      " [ 8 36]]\n"
     ]
    },
    {
     "data": {
      "image/png": "[encoded data removed]",
      "text/plain": [
       "<Figure size 432x288 with 2 Axes>"
      ]
     },
     "metadata": {
      "needs_background": "light"
     },
     "output_type": "display_data"
    },
    {
     "name": "stdout",
     "output_type": "stream",
     "text": [
      "RandomForestClassifier\n",
      "              precision    recall  f1-score   support\n",
      "\n",
      "           0       0.91      0.88      0.89        58\n",
      "           1       0.85      0.89      0.87        44\n",
      "\n",
      "    accuracy                           0.88       102\n",
      "   macro avg       0.88      0.88      0.88       102\n",
      "weighted avg       0.88      0.88      0.88       102\n",
      "\n",
      "[[51  7]\n",
      " [ 5 39]]\n"
     ]
    },
    {
     "data": {
      "image/png": "[encoded data removed]",
      "text/plain": [
       "<Figure size 432x288 with 2 Axes>"
      ]
     },
     "metadata": {
      "needs_background": "light"
     },
     "output_type": "display_data"
    },
    {
     "name": "stdout",
     "output_type": "stream",
     "text": [
      "XGBclassifier\n",
      "              precision    recall  f1-score   support\n",
      "\n",
      "           0       0.94      0.84      0.89        58\n",
      "           1       0.82      0.93      0.87        44\n",
      "\n",
      "    accuracy                           0.88       102\n",
      "   macro avg       0.88      0.89      0.88       102\n",
      "weighted avg       0.89      0.88      0.88       102\n",
      "\n",
      "[[49  9]\n",
      " [ 3 41]]\n"
     ]
    },
    {
     "data": {
      "image/png": "[encoded data removed]",
      "text/plain": [
       "<Figure size 432x288 with 2 Axes>"
      ]
     },
     "metadata": {
      "needs_background": "light"
     },
     "output_type": "display_data"
    },
    {
     "name": "stdout",
     "output_type": "stream",
     "text": [
      "GradientBoostingClassifier\n",
      "              precision    recall  f1-score   support\n",
      "\n",
      "           0       0.94      0.84      0.89        58\n",
      "           1       0.82      0.93      0.87        44\n",
      "\n",
      "    accuracy                           0.88       102\n",
      "   macro avg       0.88      0.89      0.88       102\n",
      "weighted avg       0.89      0.88      0.88       102\n",
      "\n",
      "[[49  9]\n",
      " [ 3 41]]\n"
     ]
    },
    {
     "data": {
      "image/png": "[encoded data removed]",
      "text/plain": [
       "<Figure size 432x288 with 2 Axes>"
      ]
     },
     "metadata": {
      "needs_background": "light"
     },
     "output_type": "display_data"
    }
   ],
   "source": [
    "# 模型算法库\n",
    "from sklearn.linear_model import LogisticRegression #逻辑回归\n",
    "from sklearn.tree import DecisionTreeClassifier #决策树\n",
    "from sklearn.ensemble import RandomForestClassifier,GradientBoostingClassifier\n",
    "from xgboost import XGBClassifier\n",
    "\n",
    "#模型评估方法库\n",
    "from sklearn.metrics import accuracy_score,precision_score,recall_score,f1_score\\\n",
    ",classification_report,confusion_matrix\n",
    "\n",
    "#可视化\n",
    "import matplotlib.pyplot as plt\n",
    "import seaborn as sns\n",
    "\n",
    "#导入模型存储和加载方法\n",
    "from joblib import dump,load\n",
    "\n",
    "#创建模型池\n",
    "model_lst=[]\n",
    "\n",
    "#实例化模型，然后添加到模型池内\n",
    "#max_iter 最大迭代次数 ,class_weight='balanced'样本权重\n",
    "logsistic=load('LogisticRegression.joblib')\n",
    "model_lst.append(('LogisticRegression',logsistic))\n",
    "\n",
    "#max_depth最大树 max_features最大特征占比\n",
    "dtc=load('DecisionTreeClassifier.joblib')\n",
    "model_lst.append(('DecisionTreeClassifier',dtc))\n",
    "\n",
    "#n_estimators决策树数量 \n",
    "rfc=load('RandomForestClassifier.joblib')\n",
    "model_lst.append(('RandomForestClassifier',rfc))\n",
    "\n",
    "#learning_rate 学习速率 越大学的越快 但是不好 越小越精细\n",
    "xgbc=load('XGBclassifier.joblib')\n",
    "model_lst.append(('XGBclassifier',xgbc))\n",
    "\n",
    "gbdt=load('GradientBoostingClassifier.joblib')\n",
    "model_lst.append(('GradientBoostingClassifier',gbdt))\n",
    "\n",
    "for mdl_name,mdl in model_lst:\n",
    "    y_pred=mdl.predict(x_test)\n",
    "\n",
    "    #计算分类算法评估指标\n",
    "    classification_report_=classification_report(y_true=y_test,y_pred=y_pred)\n",
    "    print(mdl_name)\n",
    "    print(classification_report_)\n",
    "\n",
    "    #计算混淆矩阵\n",
    "    confusion_matrix_=confusion_matrix(y_true=y_test,y_pred=y_pred)\n",
    "    print(confusion_matrix_)\n",
    "\n",
    "    sns.heatmap(confusion_matrix_,cmap=sns.color_palette(\"ch:2.5,-.2,dark=.3\"),annot=True,fmt='.4g')\n",
    "\n",
    "    plt.show()\n"
   ]
  },
  {
   "cell_type": "code",
   "execution_count": null,
   "metadata": {},
   "outputs": [],
   "source": []
  }
 ],
 "metadata": {
  "kernelspec": {
   "display_name": "base",
   "language": "python",
   "name": "python3"
  },
  "language_info": {
   "codemirror_mode": {
    "name": "ipython",
    "version": 3
   },
   "file_extension": ".py",
   "mimetype": "text/x-python",
   "name": "python",
   "nbconvert_exporter": "python",
   "pygments_lexer": "ipython3",
   "version": "3.9.12 (main, Apr  4 2022, 05:22:27) [MSC v.1916 64 bit (AMD64)]"
  },
  "orig_nbformat": 4,
  "vscode": {
   "interpreter": {
    "hash": "7ff96eb9a7975995df6f2a519dfdaf1ac4286d951c67f8930a91d7be2fe6eb56"
   }
  }
 },
 "nbformat": 4,
 "nbformat_minor": 2
}
