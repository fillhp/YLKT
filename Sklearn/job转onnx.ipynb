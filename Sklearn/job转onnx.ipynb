{
 "cells": [
  {
   "cell_type": "code",
   "execution_count": 1,
   "metadata": {},
   "outputs": [],
   "source": [
    "from joblib import load\n",
    "from skl2onnx.common.data_types import FloatTensorType\n",
    "from skl2onnx import convert_sklearn"
   ]
  },
  {
   "cell_type": "code",
   "execution_count": 2,
   "metadata": {},
   "outputs": [],
   "source": [
    "fea_dict={\n",
    "    'all':[\n",
    "\"fft_imag_3\",\n",
    "\"fft_angle_3\",\n",
    "\"alt_stderr_min_50\",\n",
    "\"alt_rvalue_min_50\",\n",
    "\"fft_real_2\",\n",
    "\"fft_real_5\",\n",
    "\"erbc_num10_focus2\",\n",
    "\"fft_imag_6\",\n",
    "\"lumpiness\"\n",
    "],\n",
    "\n",
    "\n",
    " 'opi':[\n",
    "\"fft_imag_3\",\n",
    "\"erbc_num10_focus4\",\n",
    "\"alt_rvalue_min_50\",\n",
    "\"fft_angle_3\",\n",
    "\"erbc_num10_focus2\",\n",
    "\"fft_real_5\"\n",
    "],\n",
    "\n",
    " 'cns':[\n",
    "\"fft_imag_3\",\n",
    "\"fft_angle_3\",\n",
    "\"fft_real_5\",\n",
    "\"minindex\",\n",
    "\"lumpiness\",\n",
    "\"fft_imag_6\",\n",
    "\"alt_rvalue_min_50\",\n",
    "\"fft_angle_2\",\n",
    "\"erbc_num10_focus2\",\n",
    "\"S_down\",\n",
    "\"retindex\",\n",
    "\"erbc_num10_focus4\",\n",
    "\"mac\",\n",
    "\"alt_stderr_min_50\",\n",
    "],\n",
    "\n",
    "'other':[\n",
    "  \"fft_imag_3\",\n",
    "  \"fft_angle_3\",\n",
    "  \"alt_stderr_min_50\",\n",
    "  \"fft_imag_6\",\n",
    "  \"fft_real_2\",\n",
    "  \"alt_rvalue_min_50\",\n",
    "  \"fft_real_5\",\n",
    "  \"minvalue\",\n",
    "  \"V2\",\n",
    "  \"F2\",\n",
    "  \"retindex\"\n",
    "]\n",
    "}"
   ]
  },
  {
   "cell_type": "code",
   "execution_count": 3,
   "metadata": {},
   "outputs": [],
   "source": [
    "def go(way,fea_dict):\n",
    "    fea_list=fea_dict[way]\n",
    "\n",
    "    mod=load('etc_'+way+'.joblib')\n",
    "    initial_type = [('float_input', FloatTensorType([None,  len(fea_list)]))]\n",
    "    onx = convert_sklearn(mod, initial_types=initial_type,\n",
    "                      target_opset=12)\n",
    "\n",
    "    with open(way+\".onnx\", \"wb\") as f:\n",
    "        f.write(onx.SerializeToString())\n",
    "\n",
    "for way in (\"all\",\"opi\",\"cns\",\"other\"):\n",
    "    go(way,fea_dict)"
   ]
  }
 ],
 "metadata": {
  "kernelspec": {
   "display_name": "base",
   "language": "python",
   "name": "python3"
  },
  "language_info": {
   "codemirror_mode": {
    "name": "ipython",
    "version": 3
   },
   "file_extension": ".py",
   "mimetype": "text/x-python",
   "name": "python",
   "nbconvert_exporter": "python",
   "pygments_lexer": "ipython3",
   "version": "3.9.12"
  },
  "orig_nbformat": 4,
  "vscode": {
   "interpreter": {
    "hash": "7ff96eb9a7975995df6f2a519dfdaf1ac4286d951c67f8930a91d7be2fe6eb56"
   }
  }
 },
 "nbformat": 4,
 "nbformat_minor": 2
}
