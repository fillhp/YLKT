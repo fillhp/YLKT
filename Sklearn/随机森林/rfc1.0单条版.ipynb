{
 "cells": [
  {
   "cell_type": "code",
   "execution_count": 10,
   "metadata": {},
   "outputs": [],
   "source": [
    "from joblib import load\n",
    "import numpy as np\n",
    "import pandas as pd\n",
    "import sys\n",
    "sys.path.append(r\"G:\\item\\工作\\特征算法12\")\n",
    "import SingleFlash_125_Features"
   ]
  },
  {
   "cell_type": "code",
   "execution_count": 11,
   "metadata": {},
   "outputs": [],
   "source": [
    "row=[18.5,19,18.5,18.5,19,19,19,19,19,19,19,19,18.5,19,19,19,19,19,19,19,19,19,19,19,19,19.5,19.5,19,19,19,19.5,19.5,19,18,17.5,17,15.5,15,14.5,13.5,13,12.5,12.5,12,12,11.5,12,11.5,11.5,11.5,12,12.5,12.5,13,13,13.5,13.5,14,14.5,15,15,15.5,15.5,15.5,16,16,16,16.5,16.5,16.5,17,16.5,17,16.5,17,17,17,17.5,17.5,17,17.5,17.5,17.5,17.5,17.5,17.5,17.5,17.5,17.5,17.5,17.5,17,17.5,17.5,17.5,17.5,17.5,17.5,17.5,17.5,17.5,17.5,17.5,17.5,17.5,17.5,18,17.5,17.5,18,17.5,17.5,17.5,17.5,18,18,17.5,18,17.5,17.5,18,17.5,17.5,17.5,18]\n",
    "row=[37,37,37.5,37.5,37.5,37.5,38,38,37.5,37.5,37.5,38,38,38,38,38,38,38,38.5,38,38,38,38.5,38,38.5,38,38,38,37.5,38,38,38,38,38,37,36,35,34,33.5,32,32,31,31,30.5,30,29.5,29.5,29.5,29.5,30,30,29.5,30,30,30.5,30.5,31,31,31.5,32,32.5,32.5,32.5,33,33.5,33.5,33.5,33.5,34,34,34.5,34.5,34.5,34.5,35,35,35,35,35,35.5,35.5,35.5,35.5,35.5,35.5,36,36,36,36,36,36,36,36,36,36,36,36,36.5,36.5,36.5,36.5,36,36,36.5,36,36.5,36,36,36.5,36,36.5,36,36.5,36.5,36.5,36,36.5,37,36.5,36.5,36.5,36.5,36.5,36.5,36.5]\n"
   ]
  },
  {
   "cell_type": "code",
   "execution_count": 12,
   "metadata": {},
   "outputs": [],
   "source": [
    "\n",
    "fea=SingleFlash_125_Features.all_features(row)\n",
    "fea=pd.DataFrame(fea, index=[0])\n",
    "\n",
    "fea_dict = {\n",
    "    'all': ['fft_imag_3',\n",
    "            'fft_imag_6',\n",
    "            'fft_angle_6',\n",
    "            'fft_abs_1',\n",
    "            'fft_angle_3',\n",
    "            'asoc',\n",
    "            'mac',\n",
    "            'fft_angle_2',\n",
    "            'alt_stderr_min_50',\n",
    "            'S'],\n",
    "\n",
    "    'ice': [\n",
    "        'fft_imag_3',\n",
    "        'fft_angle_3',\n",
    "        'fft_angle_6',\n",
    "        'fft_imag_6',\n",
    "        'fft_real_2',\n",
    "        'S_down',\n",
    "        'maxvalue',\n",
    "    ],\n",
    "    'her': [\n",
    "        'fft_abs_1',\n",
    "        'stability',\n",
    "        'std1st_der',\n",
    "        'var',\n",
    "        'std',\n",
    "        'swd_coeff_2',\n",
    "        'range2',\n",
    "        'S_sum',\n",
    "    ],\n",
    "\n",
    "    'mix': [\n",
    "        'fft_imag_3',\n",
    "        'V2',\n",
    "        'fft_angle_2',\n",
    "        'retang',\n",
    "        'fft_real_2',\n",
    "        'fft_imag_6',\n",
    "        'fft_angle_3',\n",
    "        'fft_angle_6',\n",
    "    ]\n",
    "}\n"
   ]
  },
  {
   "cell_type": "markdown",
   "metadata": {},
   "source": [
    "##### 单种方式"
   ]
  },
  {
   "cell_type": "code",
   "execution_count": 13,
   "metadata": {},
   "outputs": [
    {
     "data": {
      "text/plain": [
       "0"
      ]
     },
     "execution_count": 13,
     "metadata": {},
     "output_type": "execute_result"
    }
   ],
   "source": [
    "def go(way,fea_dict,fea):\n",
    "    fea_list=fea_dict[way]\n",
    "    fea=fea[fea_list]\n",
    "    rfc=load('rfc_'+way+'.joblib')\n",
    "    y_pred=rfc.predict(fea)\n",
    "    return y_pred[0]\n",
    "\n",
    "go('ice',fea_dict,fea)"
   ]
  },
  {
   "attachments": {},
   "cell_type": "markdown",
   "metadata": {},
   "source": [
    "##### 多种方式"
   ]
  },
  {
   "cell_type": "code",
   "execution_count": 14,
   "metadata": {},
   "outputs": [
    {
     "data": {
      "text/plain": [
       "1"
      ]
     },
     "execution_count": 14,
     "metadata": {},
     "output_type": "execute_result"
    }
   ],
   "source": [
    "ret=[go(way,fea_dict,fea) for way in ('ice','her','mix','all')]\n",
    "\n",
    "p_num=0\n",
    "if sum(ret[:3])>=1 and ret[3]==1:\n",
    "    p_num+=1\n",
    "\n",
    "p_num"
   ]
  }
 ],
 "metadata": {
  "kernelspec": {
   "display_name": "base",
   "language": "python",
   "name": "python3"
  },
  "language_info": {
   "codemirror_mode": {
    "name": "ipython",
    "version": 3
   },
   "file_extension": ".py",
   "mimetype": "text/x-python",
   "name": "python",
   "nbconvert_exporter": "python",
   "pygments_lexer": "ipython3",
   "version": "3.9.12 (main, Apr  4 2022, 05:22:27) [MSC v.1916 64 bit (AMD64)]"
  },
  "orig_nbformat": 4,
  "vscode": {
   "interpreter": {
    "hash": "7ff96eb9a7975995df6f2a519dfdaf1ac4286d951c67f8930a91d7be2fe6eb56"
   }
  }
 },
 "nbformat": 4,
 "nbformat_minor": 2
}
