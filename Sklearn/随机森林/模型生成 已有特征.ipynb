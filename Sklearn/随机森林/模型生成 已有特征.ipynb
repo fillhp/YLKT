{
 "cells": [
  {
   "cell_type": "markdown",
   "metadata": {},
   "source": [
    "##### 导入库"
   ]
  },
  {
   "cell_type": "code",
   "execution_count": 232,
   "metadata": {},
   "outputs": [],
   "source": [
    "import pandas as pd\n",
    "import numpy as np\n",
    "from sklearn.ensemble import RandomForestClassifier,ExtraTreesClassifier\n",
    "from sklearn.feature_selection import SelectFromModel\n",
    "from sklearn import tree\n",
    "from collections import Counter\n",
    "from sklearn.utils import shuffle\n",
    "from sklearn.model_selection import train_test_split\n",
    "from imblearn.over_sampling import SVMSMOTE,SMOTE\n",
    "from joblib import dump,load\n",
    "from sklearn.model_selection import GridSearchCV"
   ]
  },
  {
   "cell_type": "markdown",
   "metadata": {},
   "source": [
    "##### 选择数据"
   ]
  },
  {
   "cell_type": "code",
   "execution_count": 233,
   "metadata": {},
   "outputs": [],
   "source": [
    "n='N_all.csv'\n",
    "p='P_all.csv'\n",
    "# p='P_ice.csv'\n",
    "# p='P_her.csv'\n",
    "# p='P_mix.csv'\n",
    "# p='P_ice1.csv'\n",
    "way=\"all\"\n"
   ]
  },
  {
   "cell_type": "markdown",
   "metadata": {},
   "source": [
    "##### 读取数据"
   ]
  },
  {
   "cell_type": "code",
   "execution_count": 234,
   "metadata": {},
   "outputs": [
    {
     "name": "stdout",
     "output_type": "stream",
     "text": [
      "523 360\n"
     ]
    }
   ],
   "source": [
    "fea_dict={\n",
    "    'all':[\n",
    "  \"minvalue\",\n",
    "  \"retang\",\n",
    "  \"fft_abs_22\",\n",
    "  \"fft_real_2\",\n",
    "  \"lumpiness\",\n",
    "  \"fft_real_5\",\n",
    "  \"fft_angle_3\",\n",
    "  \"alt_stderr_min_50\",\n",
    "  \"fft_imag_6\",\n",
    "  \"erbc_num10_focus2\",\n",
    "  \"fft_imag_3\",\n",
    "  \"alt_rvalue_min_50\"\n",
    "],\n",
    "\n",
    "\n",
    " 'ice':[\n",
    "  \"retang\",\n",
    "  \"erbc_num10_focus4\",\n",
    "  \"fft_abs_22\",\n",
    "  \"fft_real_2\",\n",
    "  \"minindex\",\n",
    "  \"alt_rvalue_min_50\",\n",
    "  \"F2\",\n",
    "  \"fft_imag_6\",\n",
    "  \"asoc\",\n",
    "],\n",
    "\n",
    " 'her':[\n",
    "\"fft_real_2\",\n",
    "\"fft_real_5\",\n",
    "\"dmq\",\n",
    "\"fft_angle_3\",\n",
    "\"erbc_num10_focus2\",\n",
    "\"fft_imag_3\",\n",
    "\"alt_rvalue_min_50\"\n",
    "],\n",
    "\n",
    "'mix':[\n",
    "\"minvalue\",\n",
    "\"cv\",\n",
    "\"lumpiness\",\n",
    "\"alt_rvalue_min_50\",\n",
    "\"fft_angle_3\",\n",
    "\"alt_stderr_min_50\",\n",
    "\"maxindex\"\n",
    "]\n",
    "}\n",
    "\n",
    "fea_list=fea_dict[way]\n",
    "\n",
    "def read_data(tit):\n",
    "    path = 'E:\\\\desktop\\\\data\\\\app\\\\fea\\\\'\n",
    "    #读取数据\n",
    "    data = pd.read_csv(path+tit,encoding='gbk')\n",
    "    data = data.set_index('name')\n",
    "    return data\n",
    "\n",
    "n_fea=read_data(n)\n",
    "p_fea=read_data(p)\n",
    "\n",
    "n_fea[\"tag\"]=[0 for i in range(len(n_fea))]\n",
    "p_fea[\"tag\"]=[1 for i in range(len(p_fea))]\n",
    "\n",
    "print(len(n_fea),len(p_fea))\n"
   ]
  },
  {
   "attachments": {},
   "cell_type": "markdown",
   "metadata": {},
   "source": [
    "##### 过采样"
   ]
  },
  {
   "cell_type": "code",
   "execution_count": 235,
   "metadata": {},
   "outputs": [
    {
     "name": "stdout",
     "output_type": "stream",
     "text": [
      "(1046, 12)\n"
     ]
    }
   ],
   "source": [
    "#过采样\n",
    "# over=SMOTE(random_state=0)\n",
    "over=SVMSMOTE(random_state=0)\n",
    "np_fea=shuffle(pd.concat([n_fea,p_fea],axis=0))\n",
    "x_data_=np_fea[fea_list]\n",
    "y_data_=np_fea[\"tag\"]\n",
    "\n",
    "x_data,y_data=over.fit_resample(x_data_,y_data_)\n",
    "\n",
    "#切分\n",
    "x_train,x_test,y_train,y_test=train_test_split(x_data,y_data,test_size=0.3)\n",
    "print(x_data.shape)"
   ]
  },
  {
   "cell_type": "code",
   "execution_count": 236,
   "metadata": {},
   "outputs": [],
   "source": [
    "def jugde(y_pred,y_true):\n",
    "    tn,fn,tp,fp=0,0,0,0\n",
    "    for i in range(len(y_pred)):\n",
    "        \n",
    "        if y_pred[i]==y_true[i]:\n",
    "            if y_true[i]:\n",
    "                tp+=1\n",
    "            else:\n",
    "                tn+=1\n",
    "        else:\n",
    "            if y_true[i]:\n",
    "                fp+=1\n",
    "            else:\n",
    "                fn+=1\n",
    "\n",
    "    print(\"检出率： \",tp,\"/\",tp+fp,' ',round(tp*100/(tp+fp),2),\"%\")\n",
    "    print(\"误判率： \",fn,\"/\",tn+fn,' ',round(fn*100/(tn+fn),2),\"%\")\n",
    "    print(\"精确率： \",(tn+tp),\"/\",(tn+fp+tp+fp),' ',round((tn+tp)*100/(tn+fp+tp+fp),2),\"%\")\n"
   ]
  },
  {
   "attachments": {},
   "cell_type": "markdown",
   "metadata": {},
   "source": [
    "##### 搭建模型"
   ]
  },
  {
   "cell_type": "code",
   "execution_count": 237,
   "metadata": {},
   "outputs": [
    {
     "name": "stdout",
     "output_type": "stream",
     "text": [
      "测试集中：\n",
      "检出率：  134 / 157   85.35 %\n",
      "误判率：  19 / 157   12.1 %\n",
      "精确率：  272 / 318   85.53 %\n",
      "所有数据中：\n",
      "检出率：  343 / 360   95.28 %\n",
      "误判率：  19 / 523   3.63 %\n",
      "精确率：  847 / 881   96.14 %\n"
     ]
    },
    {
     "data": {
      "text/plain": [
       "0.8662420382165605"
      ]
     },
     "execution_count": 237,
     "metadata": {},
     "output_type": "execute_result"
    }
   ],
   "source": [
    "\n",
    "#导入模型存储和加载方法\n",
    "\n",
    "\n",
    "#n_estimators决策树数量 RandomForestClassifier\n",
    "# rfc=RandomForestClassifier(n_estimators=400,max_depth=20,class_weight='balanced') #海洛因\n",
    "# rfc=RandomForestClassifier(n_estimators=700)\n",
    "rfc=ExtraTreesClassifier()\n",
    "# rfc=ExtraTreesClassifier(n_estimators=111,max_depth=8,max_features=11,random_state=0) #all\n",
    "# rfc=RandomForestClassifier(n_estimators=381,max_depth=18,max_features=5,random_state=0) #mix\n",
    "rfc.fit(x_train,y_train)\n",
    "y_pred=rfc.predict(x_test)\n",
    "\n",
    "print(\"测试集中：\")\n",
    "jugde(y_pred,list(y_test))\n",
    "\n",
    "print(\"所有数据中：\")\n",
    "y_pred=rfc.predict(x_data_)\n",
    "jugde(y_pred,list(y_data_))\n",
    "\n",
    "rfc.score(x_test,y_test)"
   ]
  },
  {
   "cell_type": "code",
   "execution_count": 238,
   "metadata": {},
   "outputs": [],
   "source": [
    "# #保存模型\n",
    "# dump(rfc,'rfc_'+way+\".joblib\")\n",
    "# print(\"保存成功\")"
   ]
  }
 ],
 "metadata": {
  "kernelspec": {
   "display_name": "Python 3.9.12 ('base')",
   "language": "python",
   "name": "python3"
  },
  "language_info": {
   "codemirror_mode": {
    "name": "ipython",
    "version": 3
   },
   "file_extension": ".py",
   "mimetype": "text/x-python",
   "name": "python",
   "nbconvert_exporter": "python",
   "pygments_lexer": "ipython3",
   "version": "3.9.12"
  },
  "orig_nbformat": 4,
  "vscode": {
   "interpreter": {
    "hash": "7ff96eb9a7975995df6f2a519dfdaf1ac4286d951c67f8930a91d7be2fe6eb56"
   }
  }
 },
 "nbformat": 4,
 "nbformat_minor": 2
}
