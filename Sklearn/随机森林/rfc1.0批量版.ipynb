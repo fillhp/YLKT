{
 "cells": [
  {
   "cell_type": "code",
   "execution_count": 1,
   "metadata": {},
   "outputs": [],
   "source": [
    "from joblib import load\n",
    "import numpy as np\n",
    "import pandas as pd\n",
    "import sys\n",
    "sys.path.append(r\"G:\\item\\工作\\特征算法12\")\n",
    "import SingleFlash_125_Features"
   ]
  },
  {
   "cell_type": "code",
   "execution_count": 2,
   "metadata": {},
   "outputs": [],
   "source": [
    "fea_dict = {\n",
    "    'all': ['fft_imag_3',\n",
    "            'fft_imag_6',\n",
    "            'fft_angle_6',\n",
    "            'fft_abs_1',\n",
    "            'fft_angle_3',\n",
    "            'asoc',\n",
    "            'mac',\n",
    "            'fft_angle_2',\n",
    "            'alt_stderr_min_50',\n",
    "            'S'],\n",
    "\n",
    "    'ice': [\n",
    "        'fft_imag_3',\n",
    "        'fft_angle_3',\n",
    "        'fft_angle_6',\n",
    "        'fft_imag_6',\n",
    "        'fft_real_2',\n",
    "        'S_down',\n",
    "        'maxvalue',\n",
    "    ],\n",
    "    'her': [\n",
    "        'fft_abs_1',\n",
    "        'stability',\n",
    "        'std1st_der',\n",
    "        'var',\n",
    "        'std',\n",
    "        'swd_coeff_2',\n",
    "        'range2',\n",
    "        'S_sum',\n",
    "    ],\n",
    "\n",
    "    'mix': [\n",
    "        'fft_imag_3',\n",
    "        'V2',\n",
    "        'fft_angle_2',\n",
    "        'retang',\n",
    "        'fft_real_2',\n",
    "        'fft_imag_6',\n",
    "        'fft_angle_3',\n",
    "        'fft_angle_6',\n",
    "    ]\n",
    "}\n"
   ]
  },
  {
   "cell_type": "markdown",
   "metadata": {},
   "source": [
    "##### 单种方式"
   ]
  },
  {
   "cell_type": "code",
   "execution_count": 3,
   "metadata": {},
   "outputs": [],
   "source": [
    "def go(way,fea_dict,fea):\n",
    "    fea_list=fea_dict[way]\n",
    "    fea=fea[fea_list]\n",
    "    rfc=load('rfc_'+way+'.joblib')\n",
    "    y_pred=rfc.predict(fea)\n",
    "    return y_pred[0]\n"
   ]
  },
  {
   "attachments": {},
   "cell_type": "markdown",
   "metadata": {},
   "source": [
    "##### 多种方式"
   ]
  },
  {
   "cell_type": "code",
   "execution_count": 4,
   "metadata": {},
   "outputs": [
    {
     "name": "stdout",
     "output_type": "stream",
     "text": [
      "2 / 201\n",
      "0.009950248756218905\n"
     ]
    }
   ],
   "source": [
    "tit='★阳性整合.csv'\n",
    "tit='★阴性整合.csv'\n",
    "path = 'E:\\\\desktop\\\\data\\\\'\n",
    "\n",
    "#读取数据\n",
    "try:\n",
    "    data = pd.read_csv(path+tit,encoding='gbk')\n",
    "except:\n",
    "    data = pd.read_csv(path+tit,encoding='utf-8')\n",
    "\n",
    "name=pd.DataFrame(list(data.iloc[:,0]),columns=[\"name\"])\n",
    "\n",
    "try:\n",
    "    # 对瞳孔半径列进行分割\n",
    "    df=data['瞳孔半径'].astype('str').str.split(',',expand=True)\n",
    "    # 修改分割后的字段名称\n",
    "    df.columns=[str(i) for i in df.columns]\n",
    "except:\n",
    "    df=pd.DataFrame(data.iloc[:,1:126])\n",
    "\n",
    "df=df.astype('float')\n",
    "\n",
    "\n",
    "p_num=0\n",
    "for i in range(len(df)):\n",
    "    row=list(df.iloc[i])\n",
    "    fea=SingleFlash_125_Features.all_features(row)\n",
    "    fea=pd.DataFrame(fea, index=[0])\n",
    "    ret=[go(way,fea_dict,fea) for way in ('ice','her','mix','all')]\n",
    "\n",
    "    if sum(ret[:3])>=1 and ret[3]==1:\n",
    "        p_num+=1\n",
    "\n",
    "\n",
    "\n",
    "print(p_num,\"/\",len(df))\n",
    "print(p_num/len(df))"
   ]
  }
 ],
 "metadata": {
  "kernelspec": {
   "display_name": "base",
   "language": "python",
   "name": "python3"
  },
  "language_info": {
   "codemirror_mode": {
    "name": "ipython",
    "version": 3
   },
   "file_extension": ".py",
   "mimetype": "text/x-python",
   "name": "python",
   "nbconvert_exporter": "python",
   "pygments_lexer": "ipython3",
   "version": "3.9.12"
  },
  "orig_nbformat": 4,
  "vscode": {
   "interpreter": {
    "hash": "7ff96eb9a7975995df6f2a519dfdaf1ac4286d951c67f8930a91d7be2fe6eb56"
   }
  }
 },
 "nbformat": 4,
 "nbformat_minor": 2
}
