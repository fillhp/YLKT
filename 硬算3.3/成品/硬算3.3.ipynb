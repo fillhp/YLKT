{
 "cells": [
  {
   "cell_type": "code",
   "execution_count": 10,
   "id": "a4da79b9",
   "metadata": {
    "code_folding": [
     0
    ]
   },
   "outputs": [],
   "source": [
    "import json\n",
    "import SingleFlash_125_Features\n",
    "\n",
    "#读取json\n",
    "with open('./config.json','r+') as file:\n",
    "    content=file.read()\n",
    "config=json.loads(content)"
   ]
  },
  {
   "cell_type": "code",
   "execution_count": 11,
   "id": "47d2257f",
   "metadata": {},
   "outputs": [],
   "source": [
    "def judge(fea_data, config):\n",
    "    rates=[]\n",
    "    for way in (\"all\",\"opi\",\"cns\",\"other\"):\n",
    "        rate = 0\n",
    "        config_dict = config[way]\n",
    "        fea_list = list(config_dict.keys())\n",
    "        for fea in fea_list:\n",
    "            value = fea_data[fea]\n",
    "            bins = config_dict[fea][\"bins\"]\n",
    "            rates = config_dict[fea][\"rate\"]\n",
    "\n",
    "            if value < min(bins):\n",
    "                rate = rate+rates[0]\n",
    "            elif value > max(bins):\n",
    "                rate = rate+rates[-1]\n",
    "            else:\n",
    "                for b in range(len(bins)-1):\n",
    "                    if value > bins[:-1][b] and value <= bins[1:][b]:\n",
    "                        rate = rate+rates[b]\n",
    "        rates.append(rate/len(fea_list))\n",
    "\n",
    "    if rates[0] > 0.5 and sum(rates[1:])>1.5:\n",
    "        return 1\n",
    "    else:\n",
    "        return 0"
   ]
  },
  {
   "cell_type": "markdown",
   "id": "358e2d47",
   "metadata": {},
   "source": [
    "##### 开始运行"
   ]
  },
  {
   "cell_type": "code",
   "execution_count": 12,
   "id": "b714cfa5",
   "metadata": {
    "code_folding": []
   },
   "outputs": [
    {
     "data": {
      "text/plain": [
       "1"
      ]
     },
     "execution_count": 12,
     "metadata": {},
     "output_type": "execute_result"
    }
   ],
   "source": [
    "row = [35.5,35.5,35.5,35,35.5,35.5,35.5,35.5,35.5,36,35.5,35.5,35.5,35.5,35.5,35,35,35.5,35,36,35.5,35.5,35.5,35.5,35.5,35.5,35.5,35.5,35.5,35.5,35,34.5,34,33.5,33,31,30.5,30,29.5,29,29,28.5,28.5,29,29,29,29,29.5,29.5,29.5,30,31,31,31,31,31.5,31.5,32,32,32.5,32.5,32.5,32.5,33,33,33,33.5,33.5,33.5,33.5,33.5,33.5,33.5,34,33.5,34,34,34,34,34,34,33.5,34,34,34,34.5,34.5,34,34,34.5,34.5,34,34.5,34.5,34.5,34.5,34.5,34.5,34.5,34.5,34.5,34,34.5,34,34.5,34.5,34.5,34.5,34.5,34.5,34.5,34.5,34.5,34.5,35,34.5,34.5,34.5,34.5,34.5,34.5,35,34.5,35,34.5]\n",
    "\n",
    "fea_data = SingleFlash_125_Features.hard_features(row)\n",
    "if fea_data==\"数据异常\":\n",
    "    result= \"数据异常\"\n",
    "else:\n",
    "    result=judge(fea_data,config)\n",
    "result"
   ]
  }
 ],
 "metadata": {
  "kernelspec": {
   "display_name": "Python 3.9.12 ('base')",
   "language": "python",
   "name": "python3"
  },
  "language_info": {
   "codemirror_mode": {
    "name": "ipython",
    "version": 3
   },
   "file_extension": ".py",
   "mimetype": "text/x-python",
   "name": "python",
   "nbconvert_exporter": "python",
   "pygments_lexer": "ipython3",
   "version": "3.9.12"
  },
  "vscode": {
   "interpreter": {
    "hash": "7ff96eb9a7975995df6f2a519dfdaf1ac4286d951c67f8930a91d7be2fe6eb56"
   }
  }
 },
 "nbformat": 4,
 "nbformat_minor": 5
}
