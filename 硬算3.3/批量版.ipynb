{
 "cells": [
  {
   "cell_type": "code",
   "execution_count": 1,
   "id": "a4da79b9",
   "metadata": {
    "code_folding": [
     0
    ]
   },
   "outputs": [],
   "source": [
    "import json\n",
    "import pandas as pd\n",
    "\n",
    "#读取json\n",
    "with open('./config/config.json','r+') as file:\n",
    "    content=file.read()\n",
    "config=json.loads(content)"
   ]
  },
  {
   "cell_type": "code",
   "execution_count": 2,
   "id": "47d2257f",
   "metadata": {},
   "outputs": [],
   "source": [
    "def judge(fea_data,config,way):\n",
    "    rate=0\n",
    "    config_dict=config[way]\n",
    "    fea_list=list(config_dict.keys())\n",
    "    for fea in fea_list:\n",
    "        value=fea_data[fea]\n",
    "        bins=config_dict[fea][\"bins\"]\n",
    "        rates = config_dict[fea][\"rate\"]\n",
    "\n",
    "        if value<min(bins):\n",
    "            rate=rate+rates[0]\n",
    "        elif value>max(bins):\n",
    "            rate=rate+rates[-1]\n",
    "        else:\n",
    "            for b in range(len(bins)-1):\n",
    "                if value>bins[:-1][b] and value<=bins[1:][b]:\n",
    "                    rate=rate+rates[b]\n",
    "    return rate/len(fea_list)\n"
   ]
  },
  {
   "cell_type": "markdown",
   "id": "358e2d47",
   "metadata": {},
   "source": [
    "##### 开始运行"
   ]
  },
  {
   "cell_type": "code",
   "execution_count": 3,
   "id": "b714cfa5",
   "metadata": {
    "code_folding": []
   },
   "outputs": [],
   "source": [
    "tit='N_all.csv'\n",
    "tit='P_all.csv'\n",
    "# tit='P_ice.csv'\n",
    "# tit='P_her.csv'\n",
    "# tit='P_mix.csv'\n",
    "# tit='P_ice1.csv'\n",
    "tit=\"N-2-6.csv\"\n",
    "tit='n.csv'\n",
    "# tit='all.csv'"
   ]
  },
  {
   "cell_type": "code",
   "execution_count": 4,
   "id": "0d563416",
   "metadata": {},
   "outputs": [
    {
     "name": "stdout",
     "output_type": "stream",
     "text": [
      "all 156.18999999999997 / 521 0.29978886756238\n",
      "opi 116.45000000000005 / 521 0.22351247600767762\n",
      "cns 171.01999999999995 / 521 0.32825335892514385\n",
      "other 165.52000000000027 / 521 0.31769673704414636\n",
      "累加>2 46 / 521 0.08829174664107485\n",
      "(opi+cns+other>1.5) and all>0.5 38 / 521 0.07293666026871401\n",
      "(opi or cns or other) and all 52 / 521 0.09980806142034548\n",
      "(opi or cns) and all 52 / 521 0.09980806142034548\n",
      "四选二 48 / 521 0.09213051823416507\n"
     ]
    }
   ],
   "source": [
    "path = 'E:\\\\desktop\\\\data\\\\app\\\\fea\\\\'\n",
    "path = 'E:\\\\desktop\\\\data\\\\app\\\\223\\\\fea\\\\ok\\\\'\n",
    "#读取数据\n",
    "data = pd.read_csv(path+tit,encoding='gbk')\n",
    "data = data.set_index('name')\n",
    "\n",
    "result={'name':[],'all':[],'opi':[],'cns':[],'other':[]}\n",
    "name_list=list(data.index)\n",
    "\n",
    "youla={\"累加>2\":[],\"(opi+cns+other>1.5) and all>0.5\":[],\"(opi or cns or other) and all\":[],\"(opi or cns) and all\":[],\"四选二\":[]}\n",
    "for i in range(len(data)):\n",
    "    row=data.iloc[i]\n",
    "    result['name'].append(name_list[i])\n",
    "    fea_data=dict(row)\n",
    "\n",
    "    rate=[]\n",
    "    for way in ('all','opi','cns','other'):\n",
    "        juedge_rate=judge(fea_data,config,way)\n",
    "        rate.append(juedge_rate)\n",
    "        result[way].append(round(juedge_rate,2))\n",
    "\n",
    "    #累加>2\n",
    "    if sum(rate)>2:\n",
    "        youla[\"累加>2\"].append(1)\n",
    "    else:\n",
    "        youla[\"累加>2\"].append(0)\n",
    "\n",
    "    #all>0.5 and opi+cns+other>1.5\n",
    "    if rate[0]>0.5 and sum(rate[1:])>1.5:\n",
    "        youla[\"(opi+cns+other>1.5) and all>0.5\"].append(1)\n",
    "    else:\n",
    "        youla[\"(opi+cns+other>1.5) and all>0.5\"].append(0)\n",
    "\n",
    "    ret=[]\n",
    "    for j in rate:\n",
    "        if j>0.5:\n",
    "            ret.append(1)\n",
    "        else:\n",
    "            ret.append(0)\n",
    "\n",
    "    if sum(ret[:3])>=1 and ret[0]==1:\n",
    "        youla[\"(opi or cns or other) and all\"].append(1)\n",
    "    else:\n",
    "        youla[\"(opi or cns or other) and all\"].append(0)\n",
    "\n",
    "    if sum(ret[:2])>=1 and ret[0]==1:\n",
    "        youla[\"(opi or cns) and all\"].append(1)\n",
    "    else:\n",
    "        youla[\"(opi or cns) and all\"].append(0)\n",
    "\n",
    "    if sum(ret)>=2:\n",
    "        youla[\"四选二\"].append(1)\n",
    "    else:\n",
    "        youla[\"四选二\"].append(0)\n",
    "\n",
    "\n",
    "result.update(youla)\n",
    "\n",
    "result=pd.DataFrame(result)\n",
    "result=result.set_index('name')\n",
    "\n",
    "psum=len(result)\n",
    "for key in result.columns:\n",
    "    p=sum(result[key])\n",
    "    print(key,p,'/',psum,p/psum)\n",
    "\n",
    "result.to_csv(tit,encoding=\"gbk\")"
   ]
  }
 ],
 "metadata": {
  "kernelspec": {
   "display_name": "Python 3.9.12 ('base')",
   "language": "python",
   "name": "python3"
  },
  "language_info": {
   "codemirror_mode": {
    "name": "ipython",
    "version": 3
   },
   "file_extension": ".py",
   "mimetype": "text/x-python",
   "name": "python",
   "nbconvert_exporter": "python",
   "pygments_lexer": "ipython3",
   "version": "3.9.12"
  },
  "vscode": {
   "interpreter": {
    "hash": "7ff96eb9a7975995df6f2a519dfdaf1ac4286d951c67f8930a91d7be2fe6eb56"
   }
  }
 },
 "nbformat": 4,
 "nbformat_minor": 5
}
