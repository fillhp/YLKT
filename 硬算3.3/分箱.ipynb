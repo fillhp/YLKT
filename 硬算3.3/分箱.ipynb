{
 "cells": [
  {
   "attachments": {},
   "cell_type": "markdown",
   "metadata": {},
   "source": [
    "##### 导入库"
   ]
  },
  {
   "cell_type": "code",
   "execution_count": 43,
   "metadata": {},
   "outputs": [],
   "source": [
    "import pandas as pd\n",
    "import numpy as np\n",
    "from sklearn.model_selection import train_test_split\n",
    "from imblearn.over_sampling import SVMSMOTE,SMOTE\n",
    "from sklearn.utils import shuffle\n",
    "\n",
    "import box\n",
    "import json"
   ]
  },
  {
   "attachments": {},
   "cell_type": "markdown",
   "metadata": {},
   "source": [
    "##### 选择数据"
   ]
  },
  {
   "cell_type": "code",
   "execution_count": 44,
   "metadata": {},
   "outputs": [],
   "source": [
    "def get_fea(tit):\n",
    "    path = 'E:\\\\desktop\\\\data\\\\app\\\\223\\\\fea\\\\ok\\\\'\n",
    "    # path = 'E:\\\\desktop\\\\data\\\\app\\\\fea\\\\'\n",
    "    #读取数据\n",
    "    data = pd.read_csv(path+tit,encoding='gbk')\n",
    "    data = data.set_index('name')\n",
    "    return data\n",
    "\n",
    "\n",
    "n='n.csv'\n",
    "p={\n",
    "    \"all\":'all.csv',\n",
    "    \"cns\":'cns.csv',\n",
    "    \"opi\":'opi.csv',\n",
    "    \"other\":'other.csv'\n",
    "}\n",
    "\n",
    "way=\"other\""
   ]
  },
  {
   "attachments": {},
   "cell_type": "markdown",
   "metadata": {},
   "source": [
    "##### 处理数据"
   ]
  },
  {
   "cell_type": "code",
   "execution_count": 45,
   "metadata": {},
   "outputs": [],
   "source": [
    "n_fea = get_fea(n)\n",
    "p_fea = get_fea(p[way])\n",
    "\n",
    "\n",
    "fea_dict = {\n",
    "    \"all\":\n",
    "[\n",
    "  \"fft_real_2\",\n",
    "  \"alt_stderr_min_50\",\n",
    "  \"alt_rvalue_min_50\",\n",
    "  \"minindex\",\n",
    "  \"fft_angle_3\",\n",
    "  \"erbc_num10_focus2\",\n",
    "  \"fft_imag_3\",\n",
    "  \"lumpiness\"\n",
    "],\n",
    "\n",
    "    \"opi\":[\n",
    "  \"fft_real_2\",\n",
    "  \"minindex\",\n",
    "  \"alt_stderr_min_50\",\n",
    "  \"alt_rvalue_min_50\",\n",
    "  \"lumpiness\",\n",
    "  \"erbc_num10_focus2\",\n",
    "  \"fft_imag_3\"\n",
    "],\n",
    "    \"cns\":[\n",
    "  \"alt_rvalue_min_50\",\n",
    "  \"fft_angle_2\",\n",
    "  \"S_down\",\n",
    "  \"fft_imag_3\",\n",
    "  \"minindex\",\n",
    "  \"alt_stderr_min_50\",\n",
    "  \"fft_angle_3\",\n",
    "  \"swd_coeff_2\",\n",
    "  \"erbc_num10_focus2\",\n",
    "  \"erbc_num10_focus4\",\n",
    "  \"lumpiness\"\n",
    "],\n",
    "    \"other\":[\n",
    "  \"fft_imag_3\",\n",
    "  \"minindex\",\n",
    "  \"alt_rvalue_min_50\",\n",
    "  \"fft_angle_3\",\n",
    "  \"alt_stderr_min_50\",\n",
    "  \"fft_real_2\",\n",
    "  \"erbc_num10_focus4\",\n",
    "  \"retindex\",\n",
    "  \"alt_stderr_max_5\",\n",
    "  \"cv\",\n",
    "  \"asoc\",\n",
    "  \"minvalue\",\n",
    "  \"erbc_num10_focus2\"\n",
    "]\n",
    "}\n",
    "\n",
    "\n",
    "\n",
    "fea_list=fea_dict[way]\n",
    "n_fea=n_fea[fea_list]\n",
    "p_fea=p_fea[fea_list]\n",
    "\n",
    "n_fea['target']=[0 for i in range(len(n_fea))]\n",
    "p_fea['target']=[1 for i in range(len(p_fea))]\n",
    "\n",
    "np_fea=shuffle(pd.concat([n_fea,p_fea],axis=0))\n"
   ]
  },
  {
   "attachments": {},
   "cell_type": "markdown",
   "metadata": {},
   "source": [
    "##### 划分数据&分箱"
   ]
  },
  {
   "cell_type": "code",
   "execution_count": 46,
   "metadata": {},
   "outputs": [],
   "source": [
    "proportion=0.3 #验证集占比\n",
    "X=np_fea[fea_list]\n",
    "Y=np_fea[['target']]\n",
    "\n",
    "#过采样\n",
    "ov=SMOTE(random_state=0)\n",
    "X,Y=ov.fit_resample(X,Y)"
   ]
  },
  {
   "attachments": {},
   "cell_type": "markdown",
   "metadata": {},
   "source": [
    "##### 验证结果"
   ]
  },
  {
   "cell_type": "code",
   "execution_count": 47,
   "metadata": {},
   "outputs": [
    {
     "name": "stdout",
     "output_type": "stream",
     "text": [
      "测试集\n",
      "检出率:  125 / 166    0.7530120481927711\n",
      "误判率:  19 / 147    0.1292517006802721\n",
      "精确率:  253 / 313    0.8083067092651757\n",
      "--------------------------------------------------\n",
      "总数据\n",
      "检出率:  74 / 90    0.8222222222222222\n",
      "误判率:  47 / 521    0.09021113243761997\n",
      "精确率:  548 / 611    0.8968903436988543\n"
     ]
    }
   ],
   "source": [
    "while 1:\n",
    "    X_train,X_test,Y_train,Y_test=train_test_split(X,Y,test_size=proportion) #,random_state=0 取消随机\n",
    "    XY_train=pd.concat([X_train,Y_train],axis=1)\n",
    "    XY_verify=pd.concat([X_test,Y_test],axis=1)\n",
    "    n_train=XY_train[XY_train['target']==0]\n",
    "    p_train=XY_train[XY_train['target']==1]\n",
    "    n_verify=XY_verify[XY_verify['target']==0]\n",
    "    p_verify=XY_verify[XY_verify['target']==1]\n",
    "\n",
    "    #分箱\n",
    "    config=box.divide(n_train,p_train,fea_list)\n",
    "\n",
    "    n_jugde=np.sum(box.jugde(n_verify,config))\n",
    "    p_jugde=np.sum(box.jugde(p_verify,config))\n",
    "\n",
    "    n_jugdes=np.sum(box.jugde(n_fea,config))\n",
    "    p_jugdes=np.sum(box.jugde(p_fea,config))\n",
    "\n",
    "    if n_jugdes/len(n_fea)<0.1: #p_jugdes/len(p_fea)>0.77 and \n",
    "        print(\"测试集\")\n",
    "        print(\"检出率: \",p_jugde,\"/\",len(p_verify),\"  \",p_jugde/len(p_verify))\n",
    "        print(\"误判率: \",n_jugde,\"/\",len(n_verify),\"  \",n_jugde/len(n_verify))\n",
    "        print(\"精确率: \",len(n_verify)-n_jugde+p_jugde,\"/\",len(n_verify)+len(p_verify),\"  \",(len(n_verify)-n_jugde+p_jugde)/(len(n_verify)+len(p_verify)))\n",
    "\n",
    "        print('-'*50)\n",
    "        print(\"总数据\")\n",
    "        print(\"检出率: \",p_jugdes,\"/\",len(p_fea),\"  \",p_jugdes/len(p_fea))\n",
    "        print(\"误判率: \",n_jugdes,\"/\",len(n_fea),\"  \",n_jugdes/len(n_fea))\n",
    "        print(\"精确率: \",len(n_fea)-n_jugdes+p_jugdes,\"/\",len(n_fea)+len(p_fea),\"  \",(len(n_fea)-n_jugdes+p_jugdes)/(len(n_fea)+len(p_fea)))\n",
    "        break"
   ]
  },
  {
   "attachments": {},
   "cell_type": "markdown",
   "metadata": {},
   "source": [
    "##### 保存结果"
   ]
  },
  {
   "cell_type": "code",
   "execution_count": 48,
   "metadata": {},
   "outputs": [
    {
     "name": "stdout",
     "output_type": "stream",
     "text": [
      "other 保存成功\n"
     ]
    }
   ],
   "source": [
    "def default_dump(obj):\n",
    "    \"\"\"Convert numpy classes to JSON serializable objects.\"\"\"\n",
    "    if isinstance(obj, (np.integer, np.floating, np.bool_)):\n",
    "        return obj.item()\n",
    "    elif isinstance(obj, np.ndarray):\n",
    "        return obj.tolist()\n",
    "    else:\n",
    "        return obj\n",
    "\n",
    "config_json=json.dumps(config,default=default_dump)#转化为json格式文件\n",
    "\n",
    "with open('./config/'+way+'.json','w+') as file:\n",
    "    file.write(config_json)\n",
    "\n",
    "print(way,\"保存成功\")"
   ]
  }
 ],
 "metadata": {
  "kernelspec": {
   "display_name": "base",
   "language": "python",
   "name": "python3"
  },
  "language_info": {
   "codemirror_mode": {
    "name": "ipython",
    "version": 3
   },
   "file_extension": ".py",
   "mimetype": "text/x-python",
   "name": "python",
   "nbconvert_exporter": "python",
   "pygments_lexer": "ipython3",
   "version": "3.9.12"
  },
  "orig_nbformat": 4,
  "vscode": {
   "interpreter": {
    "hash": "7ff96eb9a7975995df6f2a519dfdaf1ac4286d951c67f8930a91d7be2fe6eb56"
   }
  }
 },
 "nbformat": 4,
 "nbformat_minor": 2
}
