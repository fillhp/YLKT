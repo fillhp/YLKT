{
 "cells": [
  {
   "cell_type": "markdown",
   "metadata": {},
   "source": [
    "##### 导入库"
   ]
  },
  {
   "cell_type": "code",
   "execution_count": 13,
   "metadata": {},
   "outputs": [],
   "source": [
    "import pandas as pd\n",
    "import numpy as np"
   ]
  },
  {
   "cell_type": "markdown",
   "metadata": {},
   "source": [
    "##### 选择数据"
   ]
  },
  {
   "cell_type": "code",
   "execution_count": 14,
   "metadata": {},
   "outputs": [],
   "source": [
    "n='★阴性整合.csv'\n",
    "p='★阳性整合.csv'\n",
    "p='纯冰毒-重复.csv'\n",
    "# p='纯海洛因-重复.csv'\n",
    "# n='110正常人.csv'\n",
    "# # n='0913-林职-阴性-55人.csv'\n",
    "# p='纯冰毒.csv'\n",
    "# n='1阴-66单条数据.csv'\n",
    "# p='纯海洛因.csv'\n"
   ]
  },
  {
   "cell_type": "markdown",
   "metadata": {},
   "source": [
    "##### 读取数据"
   ]
  },
  {
   "cell_type": "code",
   "execution_count": 15,
   "metadata": {},
   "outputs": [],
   "source": [
    "path='E:\\\\desktop\\\\data\\\\'\n",
    "n_fea = pd.read_csv(path+'fea\\\\[特征]'+n,encoding=\"gbk\")\n",
    "n_fea.drop(columns=['name'],axis = 1,inplace=True)\n",
    "\n",
    "p_fea = pd.read_csv(path+'fea\\\\[特征]'+p,encoding=\"gbk\")\n",
    "p_fea.drop(columns=['name'],axis = 1,inplace=True)\n",
    "\n",
    "fea_list=list(n_fea.columns)\n"
   ]
  },
  {
   "cell_type": "code",
   "execution_count": 16,
   "metadata": {},
   "outputs": [
    {
     "data": {
      "text/plain": [
       "{'attr_\"imag\"__coeff_3': 76.76,\n",
       " 'attr_\"imag\"__coeff_6': 72.97,\n",
       " 'attr_\"angle\"__coeff_3': 72.51,\n",
       " 'attr_\"angle\"__coeff_6': 71.51,\n",
       " 'minindex': 68.94,\n",
       " 'attr_\"stderr\"__chunk_len_50__f_agg_\"min\"': 68.88,\n",
       " 'maxvalue': 68.49,\n",
       " 'attr_\"real\"__coeff_2': 68.06,\n",
       " 'retvalue': 67.76,\n",
       " 'sdown': 67.61,\n",
       " 'attr_\"angle\"__coeff_2': 67.32,\n",
       " 'F1': 65.39,\n",
       " 'dmq': 65.34,\n",
       " 'MAC': 64.67,\n",
       " 'ASOC': 64.67,\n",
       " 'attr_\"abs\"__coeff_1': 64.44,\n",
       " 'coeff_2': 63.07,\n",
       " 'time2': 63.05,\n",
       " 'minvalue': 63.0,\n",
       " 'stability': 62.97,\n",
       " 'level_shift_size': 62.93,\n",
       " 'var': 62.66,\n",
       " 'std': 62.66,\n",
       " 'Rrange1': 62.62,\n",
       " 'attr_\"stderr\"__chunk_len_10__f_agg_\"mean\"': 62.4,\n",
       " 'qulv': 61.99,\n",
       " 'attr_\"stderr\"__chunk_len_5__f_agg_\"mean\"': 61.84,\n",
       " 'attr_\"stderr\"__chunk_len_5__f_agg_\"min\"': 61.84,\n",
       " 'std1st_der': 61.8,\n",
       " 'attr_\"stderr\"__chunk_len_5__f_agg_\"max\"': 61.79,\n",
       " 'attr_\"stderr\"__chunk_len_10__f_agg_\"max\"': 61.16,\n",
       " 's': 60.7,\n",
       " 's_sum': 60.53,\n",
       " 'retang': 60.36,\n",
       " 'sdigu': 59.68,\n",
       " 'minang': 58.96,\n",
       " 'lumpiness': 58.89,\n",
       " 'ang_sum': 58.82,\n",
       " 'hh': 58.8,\n",
       " 'Rrange2': 58.65,\n",
       " 'F2': 57.32,\n",
       " 'maxang': 56.95,\n",
       " 'dnp': 56.91,\n",
       " 'maxindex': 56.38,\n",
       " 'time1': 55.08,\n",
       " 'retindex': 51.62,\n",
       " 'sret': 51.2,\n",
       " 'cv': 50.63}"
      ]
     },
     "execution_count": 16,
     "metadata": {},
     "output_type": "execute_result"
    }
   ],
   "source": [
    "#差值辨别比\n",
    "gap_dict={}\n",
    "for fea in fea_list:\n",
    "    n_col=list(n_fea[fea])\n",
    "    p_col=list(p_fea[fea])\n",
    "\n",
    "    gap_list=[]\n",
    "    gap_up=0\n",
    "    gap_down=0\n",
    "    for a in range(len(n_col)):\n",
    "        gaps=[]\n",
    "        for b in range(len(p_col)):\n",
    "            gap=p_col[b]-n_col[a]\n",
    "            gaps.append(gap)\n",
    "            if gap>0:\n",
    "                gap_up=gap_up+1\n",
    "            elif gap<0:\n",
    "                gap_down=gap_down+1\n",
    "        gap_list.append(gaps)\n",
    "\n",
    "    gap_bili=0\n",
    "    if (gap_up+gap_down)!=0:\n",
    "        if gap_up/(gap_up+gap_down)>0.5:\n",
    "            gap_bili=gap_up/(gap_up+gap_down)\n",
    "        else:\n",
    "            gap_bili=gap_down/(gap_up+gap_down)\n",
    "\n",
    "    gap_dict[fea]=round(gap_bili*100,2)\n",
    "\n",
    "gap_dict = dict(sorted(gap_dict.items(), key=lambda x: x[1],reverse=True))\n",
    "gap_dict"
   ]
  },
  {
   "cell_type": "code",
   "execution_count": null,
   "metadata": {},
   "outputs": [],
   "source": []
  }
 ],
 "metadata": {
  "kernelspec": {
   "display_name": "Python 3.9.12 ('base')",
   "language": "python",
   "name": "python3"
  },
  "language_info": {
   "codemirror_mode": {
    "name": "ipython",
    "version": 3
   },
   "file_extension": ".py",
   "mimetype": "text/x-python",
   "name": "python",
   "nbconvert_exporter": "python",
   "pygments_lexer": "ipython3",
   "version": "3.9.12"
  },
  "orig_nbformat": 4,
  "vscode": {
   "interpreter": {
    "hash": "7ff96eb9a7975995df6f2a519dfdaf1ac4286d951c67f8930a91d7be2fe6eb56"
   }
  }
 },
 "nbformat": 4,
 "nbformat_minor": 2
}
